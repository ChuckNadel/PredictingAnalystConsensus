{
 "cells": [
  {
   "cell_type": "code",
   "execution_count": null,
   "metadata": {},
   "outputs": [],
   "source": [
    "from tipranks import TipRanks\n",
    "import yfinance as yf"
   ]
  },
  {
   "cell_type": "code",
   "execution_count": null,
   "metadata": {},
   "outputs": [],
   "source": [
    "tr = TipRanks(email = 'USER',\n",
    "              password = 'PASS')"
   ]
  },
  {
   "cell_type": "code",
   "execution_count": null,
   "metadata": {},
   "outputs": [],
   "source": [
    "sp500_tickers = [\n",
    "    \"AAPL\",\"ABBV\",\"ABT\",\"ACN\",\"ADBE\",\"ADI\",\"ADM\",\"ADP\",\"ADSK\",\"AEE\",\"AEP\",\"AES\",\"AFL\",\"AIG\",\"AIZ\",\"AJG\",\"AKAM\",\"ALB\",\"ALGN\",\n",
    "    \"ALK\",\"ALL\",\"ALLE\",\"AMAT\",\"AMCR\",\"AMD\",\"AME\",\"AMGN\",\"AMP\",\"AMT\",\"AMZN\",\"ANET\",\"ANSS\",\"ANTM\",\"AON\",\"AOS\",\"APA\",\"APD\",\"APH\",\"APTV\",\"ARE\",\"ATO\",\"ATVI\",\n",
    "    \"AVB\",\"AVGO\",\"AVY\",\"AWK\",\"AXP\",\"AZO\",\"BA\",\"BAC\",\"BAX\",\"BBY\",\"BDX\",\"BEN\",\"BF-B\",\"BHF\",\"BHGE\",\"BIIB\",\"BK\",\"BKNG\",\"BKR\",\"BLK\",\"BLL\",\"BMY\",\"BR\",\"BRK-B\",\n",
    "    \"BSX\",\"BWA\",\"BXP\",\"C\",\"CAG\",\"CAH\",\"CAT\",\"CB\",\"CBOE\",\"CBRE\",\"CCI\",\"CCL\",\"CDNS\",\"CDW\",\"CE\",\"CERN\",\"CF\",\"CFG\",\"CHD\",\"CHRW\",\"CHTR\",\"CI\",\"CINF\",\"CL\",\"CLX\",\n",
    "    \"CMA\",\"CMCSA\",\"CME\",\"CMG\",\"CMI\",\"CMS\",\"CNC\",\"CNP\",\"COF\",\"COG\",\"COO\",\"COP\",\"COST\",\"COTY\",\"CPB\",\"CPRI\",\"CPRT\",\"CRM\",\"CSCO\",\"CSX\",\"CTAS\",\"CTLT\",\"CTSH\",\n",
    "    \"CTVA\",\"CTXS\",\"CVS\",\"CVX\",\"CZR\",\"D\",\"DAL\",\"DD\",\"DE\",\"DFS\",\"DG\",\"DGX\",\"DHI\",\"DHR\",\"DIS\",\"DISCA\",\"DISCK\",\"DISH\",\"DLR\",\"DLTR\",\"DOV\",\"DOW\",\"DRE\",\"DRI\",\n",
    "    \"DTE\",\"DUK\",\"DVA\",\"DVN\",\"DXC\",\"DXCM\",\"EA\",\"EBAY\",\"ECL\",\"ED\",\"EFX\",\"EIX\",\"EL\",\"EMN\",\"EMR\",\"ENPH\",\"EOG\",\"EQIX\",\"EQR\",\"ES\",\"ESS\",\"ETN\",\"ETR\",\"ETSY\",\n",
    "    \"EVRG\",\"EW\",\"EXC\",\"EXPD\",\"EXPE\",\"EXR\",\"F\",\"FANG\",\"FAST\",\"FB\",\"FBHS\",\"FCX\",\"FDX\",\"FE\",\"FFIV\",\"FIS\",\"FISV\",\"FITB\",\"FLIR\",\"FLS\",\"FLT\", \"FMC\",\"FOX\",\"FOXA\",\n",
    "    \"FRC\",\"FRT\",\"FTI\",\"FTNT\",\"FTV\",\"GD\",\"GE\",\"GILD\",\"GIS\",\"GL\",\"GLW\",\"GM\",\"GOOG\",\"GOOGL\",\"GPC\",\"GPN\",\"GPS\",\"GRMN\",\"GS\",\"GWW\",\"HAL\",\"HAS\",\"HBAN\",\"HBI\",\"HCA\",\n",
    "    \"HD\",\"HES\",\"HFC\",\"HIG\",\"HII\",\"HLT\",\"HOG\",\"HOLX\",\"HON\",\"HP\",\"HPE\",\"HPQ\",\"HRB\",\"HRL\",\"HSIC\",\"HST\",\"HSY\",\"HUM\",\"HWM\",\"IBM\",\"ICE\",\"IDXX\",\"IEX\",\"IFF\",\"ILMN\",\n",
    "    \"INCY\",\"INFO\",\"INTC\",\"INTU\",\"INVH\",\"IOO\",\"IP\",\"IPG\",\"IPGP\",\"IQV\",\"IR\",\"IRM\",\"ISRG\",\"IT\",\"ITW\",\"IVZ\"\"J\",\"JBHT\",\"JCI\",\"JKHY\",\"JNJ\",\"JNPR\",\"JPM\",\"JWN\",\"K\",\n",
    "    \"KEY\",\"KEYS\",\"KHC\",\"KIM\",\"KLAC\",\"KMB\",\"KMI\",\"KMX\",\"KO\",\"KR\",\"KSS\",\"KSU\",\"L\",\"LB\",\"LDOS\",\"LEG\",\"LEN\",\"LH\",\"LHX\",\"LIN\",\"LKQ\",\"LLY\",\"LMT\",\"LNC\",\"LNT\",\"LOW\",\n",
    "    \"LRCX\",\"LUV\",\"LVS\",\"LW\"\"LYB\",\"LYV\",\"MA\",\"MAA\",\"MAR\",\"MAS\",\"MCD\",\"MCHP\",\"MCK\",\"MCO\",\"MDLZ\",\"MDT\",\"MET\",\"MGM\",\"MHK\",\"MKC\",\"MKTX\",\"MLM\",\"MMC\",\"MMM\",\"MNST\",\"MO\",\n",
    "    \"MOS\",\"MPC\",\"MRK\",\"MRO\",\"MS\",\"MSCI\",\"MSFT\",\"MSI\",\"MTB\",\"MTD\",\"MU\",\"MXIM\",\"NCLH\",\"NDAQ\",\"NEE\",\"NEM\",\"NFLX\",\"NI\",\"NKE\",\"NLOK\",\"NLSN\",\"NOC\",\"NOV\",\"NOW\",\"NRG\",\n",
    "    \"NSC\",\"NTAP\",\"NTRS\",\"NUE\",\"NVDA\",\"NVR\",\"NWL\",\"NXPI\",\"NXY\",\"O\",\"ODFL\",\"OKE\",\"OMC\",\"ORCL\",\"ORLY\",\"OTIS\",\"OXY\",\"PAYC\",\"PAYX\",\"PBCT\",\"PCAR\",\"PEAK\",\"PEG\",\"PEP\",\n",
    "    \"PFE\",\"PFG\",\"PG\",\"PGR\",\"PH\",\"PHM\",\"PKG\",\"PKI\",\"PLD\",\"PM\",\"PNC\",\"PNR\",\"PNW\",\"POOL\",\"PPG\",\"PPL\",\"PRGO\", \"PRU\", \"PSA\",\"PSX\",\"PTC\",\"PVH\",\"PWR\",\"PXD\",\"PYPL\",\"QCOM\",\n",
    "    \"QRVO\",\"RCL\",\"RE\",\"REG\",\"REGN\",\"RF\",\"RHI\",\"RJF\",\"RL\",\"RMD\",\"ROK\",\"ROL\",\"ROP\",\"ROST\",\"RSG\",\"RTX\",\"SBAC\",\"SBUX\",\"SCHW\",\"SEE\",\"SHW\",\"SIVB\",\"SJM\",\"SLB\",\"SLG\",\"SNA\",\n",
    "    \"SNPS\",\"SO\", \"SPG\", \"SPGI\", \"SRE\", \"STE\", \"STT\", \"STX\", \"STZ\", \"SWK\", \"SWKS\", \"SYF\", \"SYK\", \"SYY\", \"T\", \"TAP\", \"TDG\", \"TEL\", \"TER\", \"TFC\", \"TFX\", \"TGT\", \"TIF\",\n",
    "    \"TJX\",\"TMO\",\"TMUS\",\"TPR\",\"TRMB\",\"TROW\",\"TRV\", \"TSCO\",\"TSN\",\"TSLA\",\"TSN\",\"TSS\",\"TT\",\"TTWO\",\"TWTR\",\"TXN\",\"TXT\",\"TYL\",\"UA\",\"UAA\",\"UAL\",\"UDR\",\"UHS\",\"ULTA\",\n",
    "    \"UNH\",\"UNM\",\"UNP\",\"UPS\",\"URI\",\"USB\",\"V\",\"VFC\",\"VIAC\",\"VLO\",\"VMC\",\"VNO\",\"VRSK\",\"VRSN\",\"VRTX\",\"VTR\",\"VTRS\",\"VZ\",\"WAB\",\"WAT\",\"WBA\",\"WDC\",\"WEC\",\"WELL\",\"WFC\",\"WHR\",\n",
    "    \"WLTW\",\"WM\",\"WMB\",\"WMT\",\"WRB\",\"WRK\",\"WST\",\"WU\",\"WY\",\"WYNN\",\"XEL\",\"XLNX\",\"XOM\",\"XRAY\",\"XYL\",\"YUM\",\"ZBH\",\"ZBRA\",\"ZION\",\"ZTS\"\n",
    "]"
   ]
  },
  {
   "cell_type": "code",
   "execution_count": null,
   "metadata": {},
   "outputs": [],
   "source": [
    "# All tickers of NASDAQ\n"
   ]
  },
  {
   "cell_type": "code",
   "execution_count": null,
   "metadata": {},
   "outputs": [],
   "source": [
    "# Merging S+P500 and NASDAQ Tickers\n",
    "nasdaq_not_sp500 = [ticker for ticker in nasdaq_tickers if ticker not in sp500_tickers] # Tickers in the nasdaq not in the S+P500\n",
    "nasdaq_and_sp500 = sp500_tickers + nasdaq_not_sp500"
   ]
  },
  {
   "attachments": {},
   "cell_type": "markdown",
   "metadata": {},
   "source": []
  }
 ],
 "metadata": {
  "language_info": {
   "name": "python"
  },
  "orig_nbformat": 4
 },
 "nbformat": 4,
 "nbformat_minor": 2
}
