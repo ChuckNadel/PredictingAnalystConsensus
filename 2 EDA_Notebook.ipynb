{
 "cells": [
  {
   "attachments": {},
   "cell_type": "markdown",
   "metadata": {},
   "source": [
    "# Predicting Analyst Consensus Notebook 2"
   ]
  },
  {
   "attachments": {},
   "cell_type": "markdown",
   "metadata": {},
   "source": [
    "## EDA Notebook"
   ]
  },
  {
   "cell_type": "code",
   "execution_count": 21,
   "metadata": {},
   "outputs": [],
   "source": [
    "import pandas as pd\n",
    "import matplotlib.pyplot as plt\n",
    "import seaborn as sns\n",
    "import yfinance as yf\n",
    "from yahooquery import Ticker"
   ]
  },
  {
   "cell_type": "code",
   "execution_count": 22,
   "metadata": {},
   "outputs": [],
   "source": [
    "# Loading in most recent data\n",
    "analyst_data = pd.read_csv('CompletedData.csv')"
   ]
  },
  {
   "cell_type": "code",
   "execution_count": 23,
   "metadata": {},
   "outputs": [
    {
     "data": {
      "text/html": [
       "<div>\n",
       "<style scoped>\n",
       "    .dataframe tbody tr th:only-of-type {\n",
       "        vertical-align: middle;\n",
       "    }\n",
       "\n",
       "    .dataframe tbody tr th {\n",
       "        vertical-align: top;\n",
       "    }\n",
       "\n",
       "    .dataframe thead th {\n",
       "        text-align: right;\n",
       "    }\n",
       "</style>\n",
       "<table border=\"1\" class=\"dataframe\">\n",
       "  <thead>\n",
       "    <tr style=\"text-align: right;\">\n",
       "      <th></th>\n",
       "      <th>Unnamed: 0</th>\n",
       "      <th>Ticker</th>\n",
       "      <th>AveragePriceTarget</th>\n",
       "      <th>NumRatings</th>\n",
       "      <th>ClosingPrice</th>\n",
       "      <th>MarketCap</th>\n",
       "      <th>ExpectedGrowthRate</th>\n",
       "      <th>OverallRecommendation</th>\n",
       "      <th>ProjectedMarketCap</th>\n",
       "      <th>TotalRevenue</th>\n",
       "      <th>NormEBITDA</th>\n",
       "      <th>ReturnOnAssets</th>\n",
       "      <th>ChangeNormEBITDA</th>\n",
       "      <th>ChangeRevenue</th>\n",
       "      <th>OperatingCashFlow</th>\n",
       "      <th>ChangeOCF</th>\n",
       "      <th>Sector</th>\n",
       "    </tr>\n",
       "  </thead>\n",
       "  <tbody>\n",
       "    <tr>\n",
       "      <th>0</th>\n",
       "      <td>0</td>\n",
       "      <td>A</td>\n",
       "      <td>166.5</td>\n",
       "      <td>14</td>\n",
       "      <td>138.09</td>\n",
       "      <td>4.088458e+10</td>\n",
       "      <td>0.206</td>\n",
       "      <td>1</td>\n",
       "      <td>4.930681e+10</td>\n",
       "      <td>6.848000e+09</td>\n",
       "      <td>1.985000e+09</td>\n",
       "      <td>0.10102</td>\n",
       "      <td>80000000.0</td>\n",
       "      <td>529000000.0</td>\n",
       "      <td>1.353000e+09</td>\n",
       "      <td>41000000.0</td>\n",
       "      <td>Healthcare</td>\n",
       "    </tr>\n",
       "    <tr>\n",
       "      <th>1</th>\n",
       "      <td>1</td>\n",
       "      <td>AA</td>\n",
       "      <td>50.0</td>\n",
       "      <td>11</td>\n",
       "      <td>39.43</td>\n",
       "      <td>7.032538e+09</td>\n",
       "      <td>0.268</td>\n",
       "      <td>1</td>\n",
       "      <td>8.917258e+09</td>\n",
       "      <td>1.245100e+10</td>\n",
       "      <td>2.142000e+09</td>\n",
       "      <td>0.05931</td>\n",
       "      <td>-231000000.0</td>\n",
       "      <td>299000000.0</td>\n",
       "      <td>8.220000e+08</td>\n",
       "      <td>0.0</td>\n",
       "      <td>Basic Materials</td>\n",
       "    </tr>\n",
       "    <tr>\n",
       "      <th>2</th>\n",
       "      <td>2</td>\n",
       "      <td>AAN</td>\n",
       "      <td>16.0</td>\n",
       "      <td>5</td>\n",
       "      <td>9.54</td>\n",
       "      <td>2.936460e+08</td>\n",
       "      <td>0.677</td>\n",
       "      <td>1</td>\n",
       "      <td>4.924443e+08</td>\n",
       "      <td>2.249434e+09</td>\n",
       "      <td>7.345500e+08</td>\n",
       "      <td>0.06360</td>\n",
       "      <td>0.0</td>\n",
       "      <td>403930000.0</td>\n",
       "      <td>1.704320e+08</td>\n",
       "      <td>0.0</td>\n",
       "      <td>Industrials</td>\n",
       "    </tr>\n",
       "    <tr>\n",
       "      <th>3</th>\n",
       "      <td>3</td>\n",
       "      <td>AAOI</td>\n",
       "      <td>3.4</td>\n",
       "      <td>4</td>\n",
       "      <td>2.11</td>\n",
       "      <td>6.130162e+07</td>\n",
       "      <td>0.611</td>\n",
       "      <td>1</td>\n",
       "      <td>9.875690e+07</td>\n",
       "      <td>2.228180e+08</td>\n",
       "      <td>-3.543400e+07</td>\n",
       "      <td>-0.08548</td>\n",
       "      <td>24643000.0</td>\n",
       "      <td>11253000.0</td>\n",
       "      <td>-1.402200e+07</td>\n",
       "      <td>0.0</td>\n",
       "      <td>Technology</td>\n",
       "    </tr>\n",
       "    <tr>\n",
       "      <th>4</th>\n",
       "      <td>4</td>\n",
       "      <td>AAP</td>\n",
       "      <td>155.0</td>\n",
       "      <td>17</td>\n",
       "      <td>120.21</td>\n",
       "      <td>7.122887e+09</td>\n",
       "      <td>0.289</td>\n",
       "      <td>1</td>\n",
       "      <td>9.181402e+09</td>\n",
       "      <td>1.115472e+10</td>\n",
       "      <td>9.909550e+08</td>\n",
       "      <td>0.03891</td>\n",
       "      <td>0.0</td>\n",
       "      <td>156733000.0</td>\n",
       "      <td>7.222220e+08</td>\n",
       "      <td>0.0</td>\n",
       "      <td>Consumer Cyclical</td>\n",
       "    </tr>\n",
       "  </tbody>\n",
       "</table>\n",
       "</div>"
      ],
      "text/plain": [
       "   Unnamed: 0 Ticker  AveragePriceTarget  NumRatings  ClosingPrice  \\\n",
       "0           0      A               166.5          14        138.09   \n",
       "1           1     AA                50.0          11         39.43   \n",
       "2           2    AAN                16.0           5          9.54   \n",
       "3           3   AAOI                 3.4           4          2.11   \n",
       "4           4    AAP               155.0          17        120.21   \n",
       "\n",
       "      MarketCap  ExpectedGrowthRate  OverallRecommendation  \\\n",
       "0  4.088458e+10               0.206                      1   \n",
       "1  7.032538e+09               0.268                      1   \n",
       "2  2.936460e+08               0.677                      1   \n",
       "3  6.130162e+07               0.611                      1   \n",
       "4  7.122887e+09               0.289                      1   \n",
       "\n",
       "   ProjectedMarketCap  TotalRevenue    NormEBITDA  ReturnOnAssets  \\\n",
       "0        4.930681e+10  6.848000e+09  1.985000e+09         0.10102   \n",
       "1        8.917258e+09  1.245100e+10  2.142000e+09         0.05931   \n",
       "2        4.924443e+08  2.249434e+09  7.345500e+08         0.06360   \n",
       "3        9.875690e+07  2.228180e+08 -3.543400e+07        -0.08548   \n",
       "4        9.181402e+09  1.115472e+10  9.909550e+08         0.03891   \n",
       "\n",
       "   ChangeNormEBITDA  ChangeRevenue  OperatingCashFlow   ChangeOCF  \\\n",
       "0        80000000.0    529000000.0       1.353000e+09  41000000.0   \n",
       "1      -231000000.0    299000000.0       8.220000e+08         0.0   \n",
       "2               0.0    403930000.0       1.704320e+08         0.0   \n",
       "3        24643000.0     11253000.0      -1.402200e+07         0.0   \n",
       "4               0.0    156733000.0       7.222220e+08         0.0   \n",
       "\n",
       "              Sector  \n",
       "0         Healthcare  \n",
       "1    Basic Materials  \n",
       "2        Industrials  \n",
       "3         Technology  \n",
       "4  Consumer Cyclical  "
      ]
     },
     "execution_count": 23,
     "metadata": {},
     "output_type": "execute_result"
    }
   ],
   "source": [
    "analyst_data.head()"
   ]
  },
  {
   "attachments": {},
   "cell_type": "markdown",
   "metadata": {},
   "source": [
    "Setting Index as Ticker"
   ]
  },
  {
   "cell_type": "code",
   "execution_count": 26,
   "metadata": {},
   "outputs": [],
   "source": [
    "analyst_data.drop(['Index'], axis=1, inplace = True)\n",
    "analyst_data.set_index(['Ticker'], inplace = True)"
   ]
  },
  {
   "cell_type": "code",
   "execution_count": 27,
   "metadata": {},
   "outputs": [],
   "source": [
    "# Making AveragePriceTarget, ClosingPrice rounded to 2 places\n",
    "analyst_data['AveragePriceTarget'] = analyst_data['AveragePriceTarget'].round(2)\n",
    "analyst_data['ClosingPrice'] = analyst_data['ClosingPrice'].round(2)"
   ]
  },
  {
   "cell_type": "code",
   "execution_count": 28,
   "metadata": {},
   "outputs": [],
   "source": [
    "analyst_data['ExpectedGrowthRate'] = ((analyst_data['AveragePriceTarget']-analyst_data['ClosingPrice'])/analyst_data['ClosingPrice']).round(3)"
   ]
  },
  {
   "cell_type": "code",
   "execution_count": 32,
   "metadata": {},
   "outputs": [
    {
     "data": {
      "text/html": [
       "<div>\n",
       "<style scoped>\n",
       "    .dataframe tbody tr th:only-of-type {\n",
       "        vertical-align: middle;\n",
       "    }\n",
       "\n",
       "    .dataframe tbody tr th {\n",
       "        vertical-align: top;\n",
       "    }\n",
       "\n",
       "    .dataframe thead th {\n",
       "        text-align: right;\n",
       "    }\n",
       "</style>\n",
       "<table border=\"1\" class=\"dataframe\">\n",
       "  <thead>\n",
       "    <tr style=\"text-align: right;\">\n",
       "      <th></th>\n",
       "      <th>AveragePriceTarget</th>\n",
       "      <th>NumRatings</th>\n",
       "      <th>ClosingPrice</th>\n",
       "      <th>MarketCap</th>\n",
       "      <th>ExpectedGrowthRate</th>\n",
       "      <th>OverallRecommendation</th>\n",
       "      <th>ProjectedMarketCap</th>\n",
       "      <th>TotalRevenue</th>\n",
       "      <th>NormEBITDA</th>\n",
       "      <th>ReturnOnAssets</th>\n",
       "      <th>ChangeNormEBITDA</th>\n",
       "      <th>ChangeRevenue</th>\n",
       "      <th>OperatingCashFlow</th>\n",
       "      <th>ChangeOCF</th>\n",
       "    </tr>\n",
       "  </thead>\n",
       "  <tbody>\n",
       "    <tr>\n",
       "      <th>count</th>\n",
       "      <td>1945.000000</td>\n",
       "      <td>1945.000000</td>\n",
       "      <td>1945.000000</td>\n",
       "      <td>1.945000e+03</td>\n",
       "      <td>1945.000000</td>\n",
       "      <td>1945.000000</td>\n",
       "      <td>1.945000e+03</td>\n",
       "      <td>1.945000e+03</td>\n",
       "      <td>1.945000e+03</td>\n",
       "      <td>1945.000000</td>\n",
       "      <td>1.945000e+03</td>\n",
       "      <td>1.945000e+03</td>\n",
       "      <td>1.945000e+03</td>\n",
       "      <td>1.945000e+03</td>\n",
       "    </tr>\n",
       "    <tr>\n",
       "      <th>mean</th>\n",
       "      <td>74.216329</td>\n",
       "      <td>9.573265</td>\n",
       "      <td>62.437311</td>\n",
       "      <td>9.412715e+09</td>\n",
       "      <td>0.392974</td>\n",
       "      <td>0.788175</td>\n",
       "      <td>1.099520e+10</td>\n",
       "      <td>4.109402e+09</td>\n",
       "      <td>7.962129e+08</td>\n",
       "      <td>-0.020698</td>\n",
       "      <td>3.504065e+07</td>\n",
       "      <td>4.854726e+08</td>\n",
       "      <td>5.613016e+08</td>\n",
       "      <td>2.675059e+06</td>\n",
       "    </tr>\n",
       "    <tr>\n",
       "      <th>std</th>\n",
       "      <td>140.557936</td>\n",
       "      <td>4.691940</td>\n",
       "      <td>128.272359</td>\n",
       "      <td>1.850647e+10</td>\n",
       "      <td>0.413331</td>\n",
       "      <td>0.408707</td>\n",
       "      <td>2.066704e+10</td>\n",
       "      <td>7.251109e+09</td>\n",
       "      <td>1.481109e+09</td>\n",
       "      <td>0.182612</td>\n",
       "      <td>1.406330e+08</td>\n",
       "      <td>1.030938e+09</td>\n",
       "      <td>1.067708e+09</td>\n",
       "      <td>1.025702e+08</td>\n",
       "    </tr>\n",
       "    <tr>\n",
       "      <th>min</th>\n",
       "      <td>0.600000</td>\n",
       "      <td>4.000000</td>\n",
       "      <td>0.390000</td>\n",
       "      <td>2.959104e+07</td>\n",
       "      <td>-0.151000</td>\n",
       "      <td>0.000000</td>\n",
       "      <td>4.259801e+07</td>\n",
       "      <td>0.000000e+00</td>\n",
       "      <td>-9.360000e+08</td>\n",
       "      <td>-1.000000</td>\n",
       "      <td>-4.180000e+08</td>\n",
       "      <td>-1.514000e+09</td>\n",
       "      <td>-5.137450e+08</td>\n",
       "      <td>-1.710000e+09</td>\n",
       "    </tr>\n",
       "    <tr>\n",
       "      <th>25%</th>\n",
       "      <td>15.500000</td>\n",
       "      <td>6.000000</td>\n",
       "      <td>10.730000</td>\n",
       "      <td>9.377692e+08</td>\n",
       "      <td>0.121000</td>\n",
       "      <td>1.000000</td>\n",
       "      <td>1.405625e+09</td>\n",
       "      <td>3.480850e+08</td>\n",
       "      <td>-1.026871e+07</td>\n",
       "      <td>-0.043340</td>\n",
       "      <td>0.000000e+00</td>\n",
       "      <td>1.528700e+07</td>\n",
       "      <td>-8.415000e+06</td>\n",
       "      <td>0.000000e+00</td>\n",
       "    </tr>\n",
       "    <tr>\n",
       "      <th>50%</th>\n",
       "      <td>36.580000</td>\n",
       "      <td>8.000000</td>\n",
       "      <td>28.310000</td>\n",
       "      <td>2.818498e+09</td>\n",
       "      <td>0.256000</td>\n",
       "      <td>1.000000</td>\n",
       "      <td>3.642117e+09</td>\n",
       "      <td>1.356660e+09</td>\n",
       "      <td>2.406280e+08</td>\n",
       "      <td>0.027930</td>\n",
       "      <td>0.000000e+00</td>\n",
       "      <td>1.302310e+08</td>\n",
       "      <td>1.683100e+08</td>\n",
       "      <td>0.000000e+00</td>\n",
       "    </tr>\n",
       "    <tr>\n",
       "      <th>75%</th>\n",
       "      <td>85.000000</td>\n",
       "      <td>13.000000</td>\n",
       "      <td>71.190000</td>\n",
       "      <td>8.396930e+09</td>\n",
       "      <td>0.510000</td>\n",
       "      <td>1.000000</td>\n",
       "      <td>1.015952e+10</td>\n",
       "      <td>4.581100e+09</td>\n",
       "      <td>9.306570e+08</td>\n",
       "      <td>0.065240</td>\n",
       "      <td>9.199000e+06</td>\n",
       "      <td>5.360000e+08</td>\n",
       "      <td>6.257270e+08</td>\n",
       "      <td>0.000000e+00</td>\n",
       "    </tr>\n",
       "    <tr>\n",
       "      <th>max</th>\n",
       "      <td>2800.000000</td>\n",
       "      <td>20.000000</td>\n",
       "      <td>2615.600000</td>\n",
       "      <td>1.972006e+11</td>\n",
       "      <td>1.991000</td>\n",
       "      <td>1.000000</td>\n",
       "      <td>2.271751e+11</td>\n",
       "      <td>1.091200e+11</td>\n",
       "      <td>1.257500e+10</td>\n",
       "      <td>0.238460</td>\n",
       "      <td>1.309928e+09</td>\n",
       "      <td>8.335000e+09</td>\n",
       "      <td>7.762000e+09</td>\n",
       "      <td>2.518713e+09</td>\n",
       "    </tr>\n",
       "  </tbody>\n",
       "</table>\n",
       "</div>"
      ],
      "text/plain": [
       "       AveragePriceTarget   NumRatings  ClosingPrice     MarketCap  \\\n",
       "count         1945.000000  1945.000000   1945.000000  1.945000e+03   \n",
       "mean            74.216329     9.573265     62.437311  9.412715e+09   \n",
       "std            140.557936     4.691940    128.272359  1.850647e+10   \n",
       "min              0.600000     4.000000      0.390000  2.959104e+07   \n",
       "25%             15.500000     6.000000     10.730000  9.377692e+08   \n",
       "50%             36.580000     8.000000     28.310000  2.818498e+09   \n",
       "75%             85.000000    13.000000     71.190000  8.396930e+09   \n",
       "max           2800.000000    20.000000   2615.600000  1.972006e+11   \n",
       "\n",
       "       ExpectedGrowthRate  OverallRecommendation  ProjectedMarketCap  \\\n",
       "count         1945.000000            1945.000000        1.945000e+03   \n",
       "mean             0.392974               0.788175        1.099520e+10   \n",
       "std              0.413331               0.408707        2.066704e+10   \n",
       "min             -0.151000               0.000000        4.259801e+07   \n",
       "25%              0.121000               1.000000        1.405625e+09   \n",
       "50%              0.256000               1.000000        3.642117e+09   \n",
       "75%              0.510000               1.000000        1.015952e+10   \n",
       "max              1.991000               1.000000        2.271751e+11   \n",
       "\n",
       "       TotalRevenue    NormEBITDA  ReturnOnAssets  ChangeNormEBITDA  \\\n",
       "count  1.945000e+03  1.945000e+03     1945.000000      1.945000e+03   \n",
       "mean   4.109402e+09  7.962129e+08       -0.020698      3.504065e+07   \n",
       "std    7.251109e+09  1.481109e+09        0.182612      1.406330e+08   \n",
       "min    0.000000e+00 -9.360000e+08       -1.000000     -4.180000e+08   \n",
       "25%    3.480850e+08 -1.026871e+07       -0.043340      0.000000e+00   \n",
       "50%    1.356660e+09  2.406280e+08        0.027930      0.000000e+00   \n",
       "75%    4.581100e+09  9.306570e+08        0.065240      9.199000e+06   \n",
       "max    1.091200e+11  1.257500e+10        0.238460      1.309928e+09   \n",
       "\n",
       "       ChangeRevenue  OperatingCashFlow     ChangeOCF  \n",
       "count   1.945000e+03       1.945000e+03  1.945000e+03  \n",
       "mean    4.854726e+08       5.613016e+08  2.675059e+06  \n",
       "std     1.030938e+09       1.067708e+09  1.025702e+08  \n",
       "min    -1.514000e+09      -5.137450e+08 -1.710000e+09  \n",
       "25%     1.528700e+07      -8.415000e+06  0.000000e+00  \n",
       "50%     1.302310e+08       1.683100e+08  0.000000e+00  \n",
       "75%     5.360000e+08       6.257270e+08  0.000000e+00  \n",
       "max     8.335000e+09       7.762000e+09  2.518713e+09  "
      ]
     },
     "execution_count": 32,
     "metadata": {},
     "output_type": "execute_result"
    }
   ],
   "source": [
    "analyst_data.describe()"
   ]
  },
  {
   "cell_type": "code",
   "execution_count": 33,
   "metadata": {},
   "outputs": [],
   "source": [
    "# Mapping Expected Growth Rate to Overall Reccomendation\n",
    "AverageMarketGrowthRate = 0.1\n",
    "analyst_data['OverallRecommendation'] = analyst_data['ExpectedGrowthRate'].apply(lambda x: 1 if x > AverageMarketGrowthRate else 0)"
   ]
  },
  {
   "cell_type": "code",
   "execution_count": 34,
   "metadata": {},
   "outputs": [
    {
     "data": {
      "text/plain": [
       "1    1533\n",
       "0     412\n",
       "Name: OverallRecommendation, dtype: int64"
      ]
     },
     "execution_count": 34,
     "metadata": {},
     "output_type": "execute_result"
    }
   ],
   "source": [
    "# Recommendation Counts\n",
    "analyst_data['OverallRecommendation'].value_counts()"
   ]
  },
  {
   "attachments": {},
   "cell_type": "markdown",
   "metadata": {},
   "source": [
    "We have a class imbalance, with around 80% of our companies being projected to beat the market"
   ]
  },
  {
   "cell_type": "code",
   "execution_count": 37,
   "metadata": {},
   "outputs": [],
   "source": [
    "# Getting Projected Market Cap- Based on analyst consensus growth rate\n",
    "analyst_data['ProjectedMarketCap'] = ((analyst_data['MarketCap'] * analyst_data['ExpectedGrowthRate']) + analyst_data['MarketCap'])"
   ]
  },
  {
   "cell_type": "code",
   "execution_count": 38,
   "metadata": {},
   "outputs": [
    {
     "data": {
      "text/html": [
       "<div>\n",
       "<style scoped>\n",
       "    .dataframe tbody tr th:only-of-type {\n",
       "        vertical-align: middle;\n",
       "    }\n",
       "\n",
       "    .dataframe tbody tr th {\n",
       "        vertical-align: top;\n",
       "    }\n",
       "\n",
       "    .dataframe thead th {\n",
       "        text-align: right;\n",
       "    }\n",
       "</style>\n",
       "<table border=\"1\" class=\"dataframe\">\n",
       "  <thead>\n",
       "    <tr style=\"text-align: right;\">\n",
       "      <th></th>\n",
       "      <th>AveragePriceTarget</th>\n",
       "      <th>NumRatings</th>\n",
       "      <th>ClosingPrice</th>\n",
       "      <th>MarketCap</th>\n",
       "      <th>ExpectedGrowthRate</th>\n",
       "      <th>OverallRecommendation</th>\n",
       "      <th>ProjectedMarketCap</th>\n",
       "      <th>TotalRevenue</th>\n",
       "      <th>NormEBITDA</th>\n",
       "      <th>ReturnOnAssets</th>\n",
       "      <th>ChangeNormEBITDA</th>\n",
       "      <th>ChangeRevenue</th>\n",
       "      <th>OperatingCashFlow</th>\n",
       "      <th>ChangeOCF</th>\n",
       "      <th>Sector</th>\n",
       "    </tr>\n",
       "    <tr>\n",
       "      <th>Ticker</th>\n",
       "      <th></th>\n",
       "      <th></th>\n",
       "      <th></th>\n",
       "      <th></th>\n",
       "      <th></th>\n",
       "      <th></th>\n",
       "      <th></th>\n",
       "      <th></th>\n",
       "      <th></th>\n",
       "      <th></th>\n",
       "      <th></th>\n",
       "      <th></th>\n",
       "      <th></th>\n",
       "      <th></th>\n",
       "      <th></th>\n",
       "    </tr>\n",
       "  </thead>\n",
       "  <tbody>\n",
       "    <tr>\n",
       "      <th>A</th>\n",
       "      <td>166.5</td>\n",
       "      <td>14</td>\n",
       "      <td>138.09</td>\n",
       "      <td>4.088458e+10</td>\n",
       "      <td>0.206</td>\n",
       "      <td>1</td>\n",
       "      <td>4.930681e+10</td>\n",
       "      <td>6.848000e+09</td>\n",
       "      <td>1.985000e+09</td>\n",
       "      <td>0.10102</td>\n",
       "      <td>80000000.0</td>\n",
       "      <td>529000000.0</td>\n",
       "      <td>1.353000e+09</td>\n",
       "      <td>41000000.0</td>\n",
       "      <td>Healthcare</td>\n",
       "    </tr>\n",
       "    <tr>\n",
       "      <th>AA</th>\n",
       "      <td>50.0</td>\n",
       "      <td>11</td>\n",
       "      <td>39.43</td>\n",
       "      <td>7.032538e+09</td>\n",
       "      <td>0.268</td>\n",
       "      <td>1</td>\n",
       "      <td>8.917258e+09</td>\n",
       "      <td>1.245100e+10</td>\n",
       "      <td>2.142000e+09</td>\n",
       "      <td>0.05931</td>\n",
       "      <td>-231000000.0</td>\n",
       "      <td>299000000.0</td>\n",
       "      <td>8.220000e+08</td>\n",
       "      <td>0.0</td>\n",
       "      <td>Basic Materials</td>\n",
       "    </tr>\n",
       "    <tr>\n",
       "      <th>AAN</th>\n",
       "      <td>16.0</td>\n",
       "      <td>5</td>\n",
       "      <td>9.54</td>\n",
       "      <td>2.936460e+08</td>\n",
       "      <td>0.677</td>\n",
       "      <td>1</td>\n",
       "      <td>4.924443e+08</td>\n",
       "      <td>2.249434e+09</td>\n",
       "      <td>7.345500e+08</td>\n",
       "      <td>0.06360</td>\n",
       "      <td>0.0</td>\n",
       "      <td>403930000.0</td>\n",
       "      <td>1.704320e+08</td>\n",
       "      <td>0.0</td>\n",
       "      <td>Industrials</td>\n",
       "    </tr>\n",
       "    <tr>\n",
       "      <th>AAOI</th>\n",
       "      <td>3.4</td>\n",
       "      <td>4</td>\n",
       "      <td>2.11</td>\n",
       "      <td>6.130162e+07</td>\n",
       "      <td>0.611</td>\n",
       "      <td>1</td>\n",
       "      <td>9.875690e+07</td>\n",
       "      <td>2.228180e+08</td>\n",
       "      <td>-3.543400e+07</td>\n",
       "      <td>-0.08548</td>\n",
       "      <td>24643000.0</td>\n",
       "      <td>11253000.0</td>\n",
       "      <td>-1.402200e+07</td>\n",
       "      <td>0.0</td>\n",
       "      <td>Technology</td>\n",
       "    </tr>\n",
       "    <tr>\n",
       "      <th>AAP</th>\n",
       "      <td>155.0</td>\n",
       "      <td>17</td>\n",
       "      <td>120.21</td>\n",
       "      <td>7.122887e+09</td>\n",
       "      <td>0.289</td>\n",
       "      <td>1</td>\n",
       "      <td>9.181402e+09</td>\n",
       "      <td>1.115472e+10</td>\n",
       "      <td>9.909550e+08</td>\n",
       "      <td>0.03891</td>\n",
       "      <td>0.0</td>\n",
       "      <td>156733000.0</td>\n",
       "      <td>7.222220e+08</td>\n",
       "      <td>0.0</td>\n",
       "      <td>Consumer Cyclical</td>\n",
       "    </tr>\n",
       "  </tbody>\n",
       "</table>\n",
       "</div>"
      ],
      "text/plain": [
       "        AveragePriceTarget  NumRatings  ClosingPrice     MarketCap  \\\n",
       "Ticker                                                               \n",
       "A                    166.5          14        138.09  4.088458e+10   \n",
       "AA                    50.0          11         39.43  7.032538e+09   \n",
       "AAN                   16.0           5          9.54  2.936460e+08   \n",
       "AAOI                   3.4           4          2.11  6.130162e+07   \n",
       "AAP                  155.0          17        120.21  7.122887e+09   \n",
       "\n",
       "        ExpectedGrowthRate  OverallRecommendation  ProjectedMarketCap  \\\n",
       "Ticker                                                                  \n",
       "A                    0.206                      1        4.930681e+10   \n",
       "AA                   0.268                      1        8.917258e+09   \n",
       "AAN                  0.677                      1        4.924443e+08   \n",
       "AAOI                 0.611                      1        9.875690e+07   \n",
       "AAP                  0.289                      1        9.181402e+09   \n",
       "\n",
       "        TotalRevenue    NormEBITDA  ReturnOnAssets  ChangeNormEBITDA  \\\n",
       "Ticker                                                                 \n",
       "A       6.848000e+09  1.985000e+09         0.10102        80000000.0   \n",
       "AA      1.245100e+10  2.142000e+09         0.05931      -231000000.0   \n",
       "AAN     2.249434e+09  7.345500e+08         0.06360               0.0   \n",
       "AAOI    2.228180e+08 -3.543400e+07        -0.08548        24643000.0   \n",
       "AAP     1.115472e+10  9.909550e+08         0.03891               0.0   \n",
       "\n",
       "        ChangeRevenue  OperatingCashFlow   ChangeOCF             Sector  \n",
       "Ticker                                                                   \n",
       "A         529000000.0       1.353000e+09  41000000.0         Healthcare  \n",
       "AA        299000000.0       8.220000e+08         0.0    Basic Materials  \n",
       "AAN       403930000.0       1.704320e+08         0.0        Industrials  \n",
       "AAOI       11253000.0      -1.402200e+07         0.0         Technology  \n",
       "AAP       156733000.0       7.222220e+08         0.0  Consumer Cyclical  "
      ]
     },
     "execution_count": 38,
     "metadata": {},
     "output_type": "execute_result"
    }
   ],
   "source": [
    "analyst_data.head()"
   ]
  },
  {
   "cell_type": "code",
   "execution_count": 17,
   "metadata": {},
   "outputs": [],
   "source": [
    "# Write to CSV File to Transfer to Modeling Notebook\n",
    "analyst_data.to_csv('analyst_data_with_labels.csv')"
   ]
  },
  {
   "attachments": {},
   "cell_type": "markdown",
   "metadata": {},
   "source": [
    "### Total Revenue EDA"
   ]
  },
  {
   "cell_type": "code",
   "execution_count": 40,
   "metadata": {},
   "outputs": [],
   "source": [
    "data_with_revenue = pd.read_csv('CompletedData.csv')\n",
    "EDAData = analyst_data\n",
    "EDAData.drop(['Index'], axis = 1, inplace = True)"
   ]
  },
  {
   "cell_type": "code",
   "execution_count": 41,
   "metadata": {},
   "outputs": [
    {
     "name": "stdout",
     "output_type": "stream",
     "text": [
      "<class 'pandas.core.frame.DataFrame'>\n",
      "Index: 1945 entries, A to ZYXI\n",
      "Data columns (total 15 columns):\n",
      " #   Column                 Non-Null Count  Dtype  \n",
      "---  ------                 --------------  -----  \n",
      " 0   AveragePriceTarget     1945 non-null   float64\n",
      " 1   NumRatings             1945 non-null   int64  \n",
      " 2   ClosingPrice           1945 non-null   float64\n",
      " 3   MarketCap              1945 non-null   float64\n",
      " 4   ExpectedGrowthRate     1945 non-null   float64\n",
      " 5   OverallRecommendation  1945 non-null   int64  \n",
      " 6   ProjectedMarketCap     1945 non-null   float64\n",
      " 7   TotalRevenue           1945 non-null   float64\n",
      " 8   NormEBITDA             1945 non-null   float64\n",
      " 9   ReturnOnAssets         1945 non-null   float64\n",
      " 10  ChangeNormEBITDA       1945 non-null   float64\n",
      " 11  ChangeRevenue          1945 non-null   float64\n",
      " 12  OperatingCashFlow      1945 non-null   float64\n",
      " 13  ChangeOCF              1945 non-null   float64\n",
      " 14  Sector                 1945 non-null   object \n",
      "dtypes: float64(12), int64(2), object(1)\n",
      "memory usage: 243.1+ KB\n"
     ]
    }
   ],
   "source": [
    "EDAData.info()"
   ]
  },
  {
   "cell_type": "code",
   "execution_count": 42,
   "metadata": {},
   "outputs": [
    {
     "data": {
      "text/html": [
       "<div>\n",
       "<style scoped>\n",
       "    .dataframe tbody tr th:only-of-type {\n",
       "        vertical-align: middle;\n",
       "    }\n",
       "\n",
       "    .dataframe tbody tr th {\n",
       "        vertical-align: top;\n",
       "    }\n",
       "\n",
       "    .dataframe thead th {\n",
       "        text-align: right;\n",
       "    }\n",
       "</style>\n",
       "<table border=\"1\" class=\"dataframe\">\n",
       "  <thead>\n",
       "    <tr style=\"text-align: right;\">\n",
       "      <th></th>\n",
       "      <th>AveragePriceTarget</th>\n",
       "      <th>NumRatings</th>\n",
       "      <th>ClosingPrice</th>\n",
       "      <th>MarketCap</th>\n",
       "      <th>ExpectedGrowthRate</th>\n",
       "      <th>OverallRecommendation</th>\n",
       "      <th>ProjectedMarketCap</th>\n",
       "      <th>TotalRevenue</th>\n",
       "      <th>NormEBITDA</th>\n",
       "      <th>ReturnOnAssets</th>\n",
       "      <th>ChangeNormEBITDA</th>\n",
       "      <th>ChangeRevenue</th>\n",
       "      <th>OperatingCashFlow</th>\n",
       "      <th>ChangeOCF</th>\n",
       "    </tr>\n",
       "  </thead>\n",
       "  <tbody>\n",
       "    <tr>\n",
       "      <th>count</th>\n",
       "      <td>1945.000000</td>\n",
       "      <td>1945.000000</td>\n",
       "      <td>1945.000000</td>\n",
       "      <td>1.945000e+03</td>\n",
       "      <td>1945.000000</td>\n",
       "      <td>1945.000000</td>\n",
       "      <td>1.945000e+03</td>\n",
       "      <td>1.945000e+03</td>\n",
       "      <td>1.945000e+03</td>\n",
       "      <td>1945.000000</td>\n",
       "      <td>1.945000e+03</td>\n",
       "      <td>1.945000e+03</td>\n",
       "      <td>1.945000e+03</td>\n",
       "      <td>1.945000e+03</td>\n",
       "    </tr>\n",
       "    <tr>\n",
       "      <th>mean</th>\n",
       "      <td>74.216329</td>\n",
       "      <td>9.573265</td>\n",
       "      <td>62.437311</td>\n",
       "      <td>9.412715e+09</td>\n",
       "      <td>0.392974</td>\n",
       "      <td>0.788175</td>\n",
       "      <td>1.099520e+10</td>\n",
       "      <td>4.109402e+09</td>\n",
       "      <td>7.962129e+08</td>\n",
       "      <td>-0.020698</td>\n",
       "      <td>3.504065e+07</td>\n",
       "      <td>4.854726e+08</td>\n",
       "      <td>5.613016e+08</td>\n",
       "      <td>2.675059e+06</td>\n",
       "    </tr>\n",
       "    <tr>\n",
       "      <th>std</th>\n",
       "      <td>140.557936</td>\n",
       "      <td>4.691940</td>\n",
       "      <td>128.272359</td>\n",
       "      <td>1.850647e+10</td>\n",
       "      <td>0.413331</td>\n",
       "      <td>0.408707</td>\n",
       "      <td>2.066704e+10</td>\n",
       "      <td>7.251109e+09</td>\n",
       "      <td>1.481109e+09</td>\n",
       "      <td>0.182612</td>\n",
       "      <td>1.406330e+08</td>\n",
       "      <td>1.030938e+09</td>\n",
       "      <td>1.067708e+09</td>\n",
       "      <td>1.025702e+08</td>\n",
       "    </tr>\n",
       "    <tr>\n",
       "      <th>min</th>\n",
       "      <td>0.600000</td>\n",
       "      <td>4.000000</td>\n",
       "      <td>0.390000</td>\n",
       "      <td>2.959104e+07</td>\n",
       "      <td>-0.151000</td>\n",
       "      <td>0.000000</td>\n",
       "      <td>4.259801e+07</td>\n",
       "      <td>0.000000e+00</td>\n",
       "      <td>-9.360000e+08</td>\n",
       "      <td>-1.000000</td>\n",
       "      <td>-4.180000e+08</td>\n",
       "      <td>-1.514000e+09</td>\n",
       "      <td>-5.137450e+08</td>\n",
       "      <td>-1.710000e+09</td>\n",
       "    </tr>\n",
       "    <tr>\n",
       "      <th>25%</th>\n",
       "      <td>15.500000</td>\n",
       "      <td>6.000000</td>\n",
       "      <td>10.730000</td>\n",
       "      <td>9.377692e+08</td>\n",
       "      <td>0.121000</td>\n",
       "      <td>1.000000</td>\n",
       "      <td>1.405625e+09</td>\n",
       "      <td>3.480850e+08</td>\n",
       "      <td>-1.026871e+07</td>\n",
       "      <td>-0.043340</td>\n",
       "      <td>0.000000e+00</td>\n",
       "      <td>1.528700e+07</td>\n",
       "      <td>-8.415000e+06</td>\n",
       "      <td>0.000000e+00</td>\n",
       "    </tr>\n",
       "    <tr>\n",
       "      <th>50%</th>\n",
       "      <td>36.580000</td>\n",
       "      <td>8.000000</td>\n",
       "      <td>28.310000</td>\n",
       "      <td>2.818498e+09</td>\n",
       "      <td>0.256000</td>\n",
       "      <td>1.000000</td>\n",
       "      <td>3.642117e+09</td>\n",
       "      <td>1.356660e+09</td>\n",
       "      <td>2.406280e+08</td>\n",
       "      <td>0.027930</td>\n",
       "      <td>0.000000e+00</td>\n",
       "      <td>1.302310e+08</td>\n",
       "      <td>1.683100e+08</td>\n",
       "      <td>0.000000e+00</td>\n",
       "    </tr>\n",
       "    <tr>\n",
       "      <th>75%</th>\n",
       "      <td>85.000000</td>\n",
       "      <td>13.000000</td>\n",
       "      <td>71.190000</td>\n",
       "      <td>8.396930e+09</td>\n",
       "      <td>0.510000</td>\n",
       "      <td>1.000000</td>\n",
       "      <td>1.015952e+10</td>\n",
       "      <td>4.581100e+09</td>\n",
       "      <td>9.306570e+08</td>\n",
       "      <td>0.065240</td>\n",
       "      <td>9.199000e+06</td>\n",
       "      <td>5.360000e+08</td>\n",
       "      <td>6.257270e+08</td>\n",
       "      <td>0.000000e+00</td>\n",
       "    </tr>\n",
       "    <tr>\n",
       "      <th>max</th>\n",
       "      <td>2800.000000</td>\n",
       "      <td>20.000000</td>\n",
       "      <td>2615.600000</td>\n",
       "      <td>1.972006e+11</td>\n",
       "      <td>1.991000</td>\n",
       "      <td>1.000000</td>\n",
       "      <td>2.271751e+11</td>\n",
       "      <td>1.091200e+11</td>\n",
       "      <td>1.257500e+10</td>\n",
       "      <td>0.238460</td>\n",
       "      <td>1.309928e+09</td>\n",
       "      <td>8.335000e+09</td>\n",
       "      <td>7.762000e+09</td>\n",
       "      <td>2.518713e+09</td>\n",
       "    </tr>\n",
       "  </tbody>\n",
       "</table>\n",
       "</div>"
      ],
      "text/plain": [
       "       AveragePriceTarget   NumRatings  ClosingPrice     MarketCap  \\\n",
       "count         1945.000000  1945.000000   1945.000000  1.945000e+03   \n",
       "mean            74.216329     9.573265     62.437311  9.412715e+09   \n",
       "std            140.557936     4.691940    128.272359  1.850647e+10   \n",
       "min              0.600000     4.000000      0.390000  2.959104e+07   \n",
       "25%             15.500000     6.000000     10.730000  9.377692e+08   \n",
       "50%             36.580000     8.000000     28.310000  2.818498e+09   \n",
       "75%             85.000000    13.000000     71.190000  8.396930e+09   \n",
       "max           2800.000000    20.000000   2615.600000  1.972006e+11   \n",
       "\n",
       "       ExpectedGrowthRate  OverallRecommendation  ProjectedMarketCap  \\\n",
       "count         1945.000000            1945.000000        1.945000e+03   \n",
       "mean             0.392974               0.788175        1.099520e+10   \n",
       "std              0.413331               0.408707        2.066704e+10   \n",
       "min             -0.151000               0.000000        4.259801e+07   \n",
       "25%              0.121000               1.000000        1.405625e+09   \n",
       "50%              0.256000               1.000000        3.642117e+09   \n",
       "75%              0.510000               1.000000        1.015952e+10   \n",
       "max              1.991000               1.000000        2.271751e+11   \n",
       "\n",
       "       TotalRevenue    NormEBITDA  ReturnOnAssets  ChangeNormEBITDA  \\\n",
       "count  1.945000e+03  1.945000e+03     1945.000000      1.945000e+03   \n",
       "mean   4.109402e+09  7.962129e+08       -0.020698      3.504065e+07   \n",
       "std    7.251109e+09  1.481109e+09        0.182612      1.406330e+08   \n",
       "min    0.000000e+00 -9.360000e+08       -1.000000     -4.180000e+08   \n",
       "25%    3.480850e+08 -1.026871e+07       -0.043340      0.000000e+00   \n",
       "50%    1.356660e+09  2.406280e+08        0.027930      0.000000e+00   \n",
       "75%    4.581100e+09  9.306570e+08        0.065240      9.199000e+06   \n",
       "max    1.091200e+11  1.257500e+10        0.238460      1.309928e+09   \n",
       "\n",
       "       ChangeRevenue  OperatingCashFlow     ChangeOCF  \n",
       "count   1.945000e+03       1.945000e+03  1.945000e+03  \n",
       "mean    4.854726e+08       5.613016e+08  2.675059e+06  \n",
       "std     1.030938e+09       1.067708e+09  1.025702e+08  \n",
       "min    -1.514000e+09      -5.137450e+08 -1.710000e+09  \n",
       "25%     1.528700e+07      -8.415000e+06  0.000000e+00  \n",
       "50%     1.302310e+08       1.683100e+08  0.000000e+00  \n",
       "75%     5.360000e+08       6.257270e+08  0.000000e+00  \n",
       "max     8.335000e+09       7.762000e+09  2.518713e+09  "
      ]
     },
     "execution_count": 42,
     "metadata": {},
     "output_type": "execute_result"
    }
   ],
   "source": [
    "EDAData.describe()"
   ]
  },
  {
   "cell_type": "code",
   "execution_count": 43,
   "metadata": {},
   "outputs": [
    {
     "data": {
      "text/plain": [
       "<matplotlib.collections.PathCollection at 0x1a992520760>"
      ]
     },
     "execution_count": 43,
     "metadata": {},
     "output_type": "execute_result"
    },
    {
     "data": {
      "image/png": "[encoded data removed]",
      "text/plain": [
       "<Figure size 640x480 with 1 Axes>"
      ]
     },
     "metadata": {},
     "output_type": "display_data"
    }
   ],
   "source": [
    "plt.scatter(EDAData['MarketCap'], EDAData['TotalRevenue'])"
   ]
  },
  {
   "cell_type": "code",
   "execution_count": 45,
   "metadata": {},
   "outputs": [
    {
     "data": {
      "text/plain": [
       "<matplotlib.collections.PathCollection at 0x1a9960cc460>"
      ]
     },
     "execution_count": 45,
     "metadata": {},
     "output_type": "execute_result"
    },
    {
     "data": {
      "image/png": "[encoded data removed]",
      "text/plain": [
       "<Figure size 640x480 with 1 Axes>"
      ]
     },
     "metadata": {},
     "output_type": "display_data"
    }
   ],
   "source": [
    "plt.scatter(EDAData['ExpectedGrowthRate'], EDAData['ChangeNormEBITDA'])"
   ]
  },
  {
   "attachments": {},
   "cell_type": "markdown",
   "metadata": {},
   "source": [
    "### EBITDA EDA"
   ]
  },
  {
   "cell_type": "code",
   "execution_count": 47,
   "metadata": {},
   "outputs": [
    {
     "data": {
      "text/plain": [
       "<matplotlib.collections.PathCollection at 0x1a996008e50>"
      ]
     },
     "execution_count": 47,
     "metadata": {},
     "output_type": "execute_result"
    },
    {
     "data": {
      "image/png": "[encoded data removed]",
      "text/plain": [
       "<Figure size 640x480 with 1 Axes>"
      ]
     },
     "metadata": {},
     "output_type": "display_data"
    }
   ],
   "source": [
    "plt.scatter(EDAData['MarketCap'], EDAData['NormEBITDA'])"
   ]
  },
  {
   "attachments": {},
   "cell_type": "markdown",
   "metadata": {},
   "source": [
    "It looks like we have some outliers messing up our data that we dropped to make these better looking visualizations. We should remove them from our model as well, because they may hurt our training sample"
   ]
  },
  {
   "attachments": {},
   "cell_type": "markdown",
   "metadata": {},
   "source": [
    "### Return on Assets EDA"
   ]
  },
  {
   "cell_type": "code",
   "execution_count": 48,
   "metadata": {},
   "outputs": [
    {
     "data": {
      "text/plain": [
       "<AxesSubplot:title={'center':'ReturnOnAssets'}, xlabel='[OverallRecommendation]'>"
      ]
     },
     "execution_count": 48,
     "metadata": {},
     "output_type": "execute_result"
    },
    {
     "data": {
      "image/png": "[encoded data removed]",
      "text/plain": [
       "<Figure size 640x480 with 1 Axes>"
      ]
     },
     "metadata": {},
     "output_type": "display_data"
    }
   ],
   "source": [
    "EDAData.boxplot(by = ['OverallRecommendation'], column = ['ReturnOnAssets'])"
   ]
  },
  {
   "cell_type": "code",
   "execution_count": 55,
   "metadata": {},
   "outputs": [
    {
     "data": {
      "text/plain": [
       "<matplotlib.collections.PathCollection at 0x1a99648ac70>"
      ]
     },
     "execution_count": 55,
     "metadata": {},
     "output_type": "execute_result"
    },
    {
     "data": {
      "image/png": "[encoded data removed]",
      "text/plain": [
       "<Figure size 640x480 with 1 Axes>"
      ]
     },
     "metadata": {},
     "output_type": "display_data"
    }
   ],
   "source": [
    "plt.scatter(EDAData['MarketCap'], EDAData['ReturnOnAssets'])"
   ]
  },
  {
   "attachments": {},
   "cell_type": "markdown",
   "metadata": {},
   "source": [
    "#### Operating Cash Flow EDA"
   ]
  },
  {
   "cell_type": "code",
   "execution_count": 52,
   "metadata": {},
   "outputs": [
    {
     "data": {
      "text/plain": [
       "<matplotlib.collections.PathCollection at 0x1a9961d2550>"
      ]
     },
     "execution_count": 52,
     "metadata": {},
     "output_type": "execute_result"
    },
    {
     "data": {
      "image/png": "[encoded data removed]",
      "text/plain": [
       "<Figure size 640x480 with 1 Axes>"
      ]
     },
     "metadata": {},
     "output_type": "display_data"
    }
   ],
   "source": [
    "plt.scatter(EDAData['MarketCap'], EDAData['OperatingCashFlow'])"
   ]
  },
  {
   "cell_type": "code",
   "execution_count": 54,
   "metadata": {},
   "outputs": [
    {
     "data": {
      "text/plain": [
       "<matplotlib.collections.PathCollection at 0x1a996430a30>"
      ]
     },
     "execution_count": 54,
     "metadata": {},
     "output_type": "execute_result"
    },
    {
     "data": {
      "image/png": "[encoded data removed]",
      "text/plain": [
       "<Figure size 640x480 with 1 Axes>"
      ]
     },
     "metadata": {},
     "output_type": "display_data"
    }
   ],
   "source": [
    "plt.scatter(EDAData['ExpectedGrowthRate'], EDAData['OperatingCashFlow'])"
   ]
  }
 ],
 "metadata": {
  "kernelspec": {
   "display_name": "learn-env",
   "language": "python",
   "name": "python3"
  },
  "language_info": {
   "codemirror_mode": {
    "name": "ipython",
    "version": 3
   },
   "file_extension": ".py",
   "mimetype": "text/x-python",
   "name": "python",
   "nbconvert_exporter": "python",
   "pygments_lexer": "ipython3",
   "version": "3.9.13"
  },
  "orig_nbformat": 4
 },
 "nbformat": 4,
 "nbformat_minor": 2
}
