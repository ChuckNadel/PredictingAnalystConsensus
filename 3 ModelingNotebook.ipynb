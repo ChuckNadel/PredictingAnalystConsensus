{
 "cells": [
  {
   "attachments": {},
   "cell_type": "markdown",
   "metadata": {},
   "source": [
    "## Modeling Notebook"
   ]
  },
  {
   "cell_type": "code",
   "execution_count": 271,
   "metadata": {},
   "outputs": [],
   "source": [
    "# General Packages\n",
    "import pandas as pd\n",
    "import yfinance as yf\n",
    "import numpy as np\n",
    "import seaborn as sns\n",
    "from yahooquery import Ticker\n",
    "from tqdm import tqdm\n",
    "import matplotlib.pyplot as plt\n",
    "\n",
    "# SK-Learn Packages\n",
    "from sklearn.model_selection import train_test_split\n",
    "from sklearn.ensemble import RandomForestClassifier\n",
    "from sklearn.metrics import accuracy_score, confusion_matrix, ConfusionMatrixDisplay, f1_score, make_scorer, mean_squared_error\n",
    "from sklearn.preprocessing import StandardScaler\n",
    "from imblearn.pipeline import Pipeline, make_pipeline\n",
    "from imblearn.over_sampling import SMOTE\n",
    "from sklearn.model_selection import GridSearchCV\n",
    "from sklearn.decomposition import PCA\n",
    "from sklearn.base import BaseEstimator, TransformerMixin\n",
    "from sklearn.linear_model import LinearRegression\n",
    "\n",
    "# CNN Modeling\n",
    "from tensorflow.keras.models import Sequential\n",
    "from tensorflow.keras.layers import Dense, Conv1D, Flatten, Dropout\n",
    "from keras.regularizers import l2\n",
    "from keras.wrappers.scikit_learn import KerasClassifier\n",
    "from keras.utils import to_categorical\n",
    "from keras.metrics import Precision, Recall, AUC\n",
    "from keras import backend as K"
   ]
  },
  {
   "cell_type": "code",
   "execution_count": 272,
   "metadata": {},
   "outputs": [
    {
     "data": {
      "text/html": [
       "<div>\n",
       "<style scoped>\n",
       "    .dataframe tbody tr th:only-of-type {\n",
       "        vertical-align: middle;\n",
       "    }\n",
       "\n",
       "    .dataframe tbody tr th {\n",
       "        vertical-align: top;\n",
       "    }\n",
       "\n",
       "    .dataframe thead th {\n",
       "        text-align: right;\n",
       "    }\n",
       "</style>\n",
       "<table border=\"1\" class=\"dataframe\">\n",
       "  <thead>\n",
       "    <tr style=\"text-align: right;\">\n",
       "      <th></th>\n",
       "      <th>Ticker</th>\n",
       "      <th>AveragePriceTarget</th>\n",
       "      <th>NumRatings</th>\n",
       "      <th>ClosingPrice</th>\n",
       "      <th>MarketCap</th>\n",
       "      <th>ExpectedGrowthRate</th>\n",
       "      <th>OverallRecommendation</th>\n",
       "      <th>ProjectedMarketCap</th>\n",
       "      <th>TotalRevenue</th>\n",
       "      <th>NormEBITDA</th>\n",
       "      <th>ReturnOnAssets</th>\n",
       "      <th>ChangeNormEBITDA</th>\n",
       "      <th>ChangeRevenue</th>\n",
       "      <th>OperatingCashFlow</th>\n",
       "      <th>ChangeOCF</th>\n",
       "    </tr>\n",
       "  </thead>\n",
       "  <tbody>\n",
       "    <tr>\n",
       "      <th>0</th>\n",
       "      <td>A</td>\n",
       "      <td>166.5</td>\n",
       "      <td>14</td>\n",
       "      <td>138.09</td>\n",
       "      <td>4.088458e+10</td>\n",
       "      <td>0.206</td>\n",
       "      <td>1</td>\n",
       "      <td>4.930681e+10</td>\n",
       "      <td>6.848000e+09</td>\n",
       "      <td>1.985000e+09</td>\n",
       "      <td>0.10102</td>\n",
       "      <td>80000000.0</td>\n",
       "      <td>529000000.0</td>\n",
       "      <td>1.353000e+09</td>\n",
       "      <td>41000000.0</td>\n",
       "    </tr>\n",
       "    <tr>\n",
       "      <th>1</th>\n",
       "      <td>AA</td>\n",
       "      <td>50.0</td>\n",
       "      <td>11</td>\n",
       "      <td>39.43</td>\n",
       "      <td>7.032538e+09</td>\n",
       "      <td>0.268</td>\n",
       "      <td>1</td>\n",
       "      <td>8.917258e+09</td>\n",
       "      <td>1.245100e+10</td>\n",
       "      <td>2.142000e+09</td>\n",
       "      <td>0.05931</td>\n",
       "      <td>-231000000.0</td>\n",
       "      <td>299000000.0</td>\n",
       "      <td>8.220000e+08</td>\n",
       "      <td>0.0</td>\n",
       "    </tr>\n",
       "    <tr>\n",
       "      <th>2</th>\n",
       "      <td>AAN</td>\n",
       "      <td>16.0</td>\n",
       "      <td>5</td>\n",
       "      <td>9.54</td>\n",
       "      <td>2.936460e+08</td>\n",
       "      <td>0.677</td>\n",
       "      <td>1</td>\n",
       "      <td>4.924443e+08</td>\n",
       "      <td>2.249434e+09</td>\n",
       "      <td>7.345500e+08</td>\n",
       "      <td>0.06360</td>\n",
       "      <td>0.0</td>\n",
       "      <td>403930000.0</td>\n",
       "      <td>1.704320e+08</td>\n",
       "      <td>0.0</td>\n",
       "    </tr>\n",
       "    <tr>\n",
       "      <th>3</th>\n",
       "      <td>AAOI</td>\n",
       "      <td>3.4</td>\n",
       "      <td>4</td>\n",
       "      <td>2.11</td>\n",
       "      <td>6.130162e+07</td>\n",
       "      <td>0.611</td>\n",
       "      <td>1</td>\n",
       "      <td>9.875690e+07</td>\n",
       "      <td>2.228180e+08</td>\n",
       "      <td>-3.543400e+07</td>\n",
       "      <td>-0.08548</td>\n",
       "      <td>24643000.0</td>\n",
       "      <td>11253000.0</td>\n",
       "      <td>-1.402200e+07</td>\n",
       "      <td>0.0</td>\n",
       "    </tr>\n",
       "    <tr>\n",
       "      <th>4</th>\n",
       "      <td>AAP</td>\n",
       "      <td>155.0</td>\n",
       "      <td>17</td>\n",
       "      <td>120.21</td>\n",
       "      <td>7.122887e+09</td>\n",
       "      <td>0.289</td>\n",
       "      <td>1</td>\n",
       "      <td>9.181402e+09</td>\n",
       "      <td>1.115472e+10</td>\n",
       "      <td>9.909550e+08</td>\n",
       "      <td>0.03891</td>\n",
       "      <td>0.0</td>\n",
       "      <td>156733000.0</td>\n",
       "      <td>7.222220e+08</td>\n",
       "      <td>0.0</td>\n",
       "    </tr>\n",
       "  </tbody>\n",
       "</table>\n",
       "</div>"
      ],
      "text/plain": [
       "  Ticker  AveragePriceTarget  NumRatings  ClosingPrice     MarketCap  \\\n",
       "0      A               166.5          14        138.09  4.088458e+10   \n",
       "1     AA                50.0          11         39.43  7.032538e+09   \n",
       "2    AAN                16.0           5          9.54  2.936460e+08   \n",
       "3   AAOI                 3.4           4          2.11  6.130162e+07   \n",
       "4    AAP               155.0          17        120.21  7.122887e+09   \n",
       "\n",
       "   ExpectedGrowthRate  OverallRecommendation  ProjectedMarketCap  \\\n",
       "0               0.206                      1        4.930681e+10   \n",
       "1               0.268                      1        8.917258e+09   \n",
       "2               0.677                      1        4.924443e+08   \n",
       "3               0.611                      1        9.875690e+07   \n",
       "4               0.289                      1        9.181402e+09   \n",
       "\n",
       "   TotalRevenue    NormEBITDA  ReturnOnAssets  ChangeNormEBITDA  \\\n",
       "0  6.848000e+09  1.985000e+09         0.10102        80000000.0   \n",
       "1  1.245100e+10  2.142000e+09         0.05931      -231000000.0   \n",
       "2  2.249434e+09  7.345500e+08         0.06360               0.0   \n",
       "3  2.228180e+08 -3.543400e+07        -0.08548        24643000.0   \n",
       "4  1.115472e+10  9.909550e+08         0.03891               0.0   \n",
       "\n",
       "   ChangeRevenue  OperatingCashFlow   ChangeOCF  \n",
       "0    529000000.0       1.353000e+09  41000000.0  \n",
       "1    299000000.0       8.220000e+08         0.0  \n",
       "2    403930000.0       1.704320e+08         0.0  \n",
       "3     11253000.0      -1.402200e+07         0.0  \n",
       "4    156733000.0       7.222220e+08         0.0  "
      ]
     },
     "execution_count": 272,
     "metadata": {},
     "output_type": "execute_result"
    }
   ],
   "source": [
    "# Reading in most recent data\n",
    "stock_data = pd.read_csv('data/WithCashFlowDataNoOutliers.csv')\n",
    "#stock_data.drop(['Index'], axis = 1, inplace = True)\n",
    "stock_data.dropna(inplace = True)\n",
    "stock_data.head()"
   ]
  },
  {
   "cell_type": "code",
   "execution_count": 273,
   "metadata": {},
   "outputs": [
    {
     "data": {
      "text/html": [
       "<div>\n",
       "<style scoped>\n",
       "    .dataframe tbody tr th:only-of-type {\n",
       "        vertical-align: middle;\n",
       "    }\n",
       "\n",
       "    .dataframe tbody tr th {\n",
       "        vertical-align: top;\n",
       "    }\n",
       "\n",
       "    .dataframe thead th {\n",
       "        text-align: right;\n",
       "    }\n",
       "</style>\n",
       "<table border=\"1\" class=\"dataframe\">\n",
       "  <thead>\n",
       "    <tr style=\"text-align: right;\">\n",
       "      <th></th>\n",
       "      <th>AveragePriceTarget</th>\n",
       "      <th>NumRatings</th>\n",
       "      <th>ClosingPrice</th>\n",
       "      <th>MarketCap</th>\n",
       "      <th>ExpectedGrowthRate</th>\n",
       "      <th>OverallRecommendation</th>\n",
       "      <th>ProjectedMarketCap</th>\n",
       "      <th>TotalRevenue</th>\n",
       "      <th>NormEBITDA</th>\n",
       "      <th>ReturnOnAssets</th>\n",
       "      <th>ChangeNormEBITDA</th>\n",
       "      <th>ChangeRevenue</th>\n",
       "      <th>OperatingCashFlow</th>\n",
       "      <th>ChangeOCF</th>\n",
       "    </tr>\n",
       "  </thead>\n",
       "  <tbody>\n",
       "    <tr>\n",
       "      <th>count</th>\n",
       "      <td>2136.000000</td>\n",
       "      <td>2136.000000</td>\n",
       "      <td>2136.000000</td>\n",
       "      <td>2.136000e+03</td>\n",
       "      <td>2136.000000</td>\n",
       "      <td>2136.000000</td>\n",
       "      <td>2.136000e+03</td>\n",
       "      <td>2.136000e+03</td>\n",
       "      <td>2.136000e+03</td>\n",
       "      <td>2136.000000</td>\n",
       "      <td>2.136000e+03</td>\n",
       "      <td>2.136000e+03</td>\n",
       "      <td>2.136000e+03</td>\n",
       "      <td>2.136000e+03</td>\n",
       "    </tr>\n",
       "    <tr>\n",
       "      <th>mean</th>\n",
       "      <td>68.737004</td>\n",
       "      <td>9.224719</td>\n",
       "      <td>57.130066</td>\n",
       "      <td>8.593780e+09</td>\n",
       "      <td>0.699404</td>\n",
       "      <td>0.806648</td>\n",
       "      <td>1.009959e+10</td>\n",
       "      <td>3.756765e+09</td>\n",
       "      <td>7.172493e+08</td>\n",
       "      <td>-0.043569</td>\n",
       "      <td>3.178887e+07</td>\n",
       "      <td>4.478589e+08</td>\n",
       "      <td>5.049861e+08</td>\n",
       "      <td>2.450304e+06</td>\n",
       "    </tr>\n",
       "    <tr>\n",
       "      <th>std</th>\n",
       "      <td>135.298078</td>\n",
       "      <td>4.647385</td>\n",
       "      <td>123.570656</td>\n",
       "      <td>1.785242e+10</td>\n",
       "      <td>1.155297</td>\n",
       "      <td>0.395019</td>\n",
       "      <td>1.992935e+10</td>\n",
       "      <td>7.018417e+09</td>\n",
       "      <td>1.436034e+09</td>\n",
       "      <td>0.199080</td>\n",
       "      <td>1.349144e+08</td>\n",
       "      <td>1.004820e+09</td>\n",
       "      <td>1.034982e+09</td>\n",
       "      <td>9.799373e+07</td>\n",
       "    </tr>\n",
       "    <tr>\n",
       "      <th>min</th>\n",
       "      <td>0.600000</td>\n",
       "      <td>4.000000</td>\n",
       "      <td>0.240000</td>\n",
       "      <td>2.822783e+07</td>\n",
       "      <td>-0.151000</td>\n",
       "      <td>0.000000</td>\n",
       "      <td>4.259801e+07</td>\n",
       "      <td>0.000000e+00</td>\n",
       "      <td>-9.360000e+08</td>\n",
       "      <td>-1.000000</td>\n",
       "      <td>-4.180000e+08</td>\n",
       "      <td>-1.514000e+09</td>\n",
       "      <td>-5.137450e+08</td>\n",
       "      <td>-1.710000e+09</td>\n",
       "    </tr>\n",
       "    <tr>\n",
       "      <th>25%</th>\n",
       "      <td>13.500000</td>\n",
       "      <td>5.000000</td>\n",
       "      <td>8.092500</td>\n",
       "      <td>6.621685e+08</td>\n",
       "      <td>0.132000</td>\n",
       "      <td>1.000000</td>\n",
       "      <td>1.143221e+09</td>\n",
       "      <td>2.161578e+08</td>\n",
       "      <td>-3.682400e+07</td>\n",
       "      <td>-0.096987</td>\n",
       "      <td>0.000000e+00</td>\n",
       "      <td>6.043031e+06</td>\n",
       "      <td>-2.850175e+07</td>\n",
       "      <td>0.000000e+00</td>\n",
       "    </tr>\n",
       "    <tr>\n",
       "      <th>50%</th>\n",
       "      <td>32.000000</td>\n",
       "      <td>8.000000</td>\n",
       "      <td>23.620000</td>\n",
       "      <td>2.354210e+09</td>\n",
       "      <td>0.286000</td>\n",
       "      <td>1.000000</td>\n",
       "      <td>3.160352e+09</td>\n",
       "      <td>1.036120e+09</td>\n",
       "      <td>1.823625e+08</td>\n",
       "      <td>0.022365</td>\n",
       "      <td>0.000000e+00</td>\n",
       "      <td>9.987600e+07</td>\n",
       "      <td>1.190055e+08</td>\n",
       "      <td>0.000000e+00</td>\n",
       "    </tr>\n",
       "    <tr>\n",
       "      <th>75%</th>\n",
       "      <td>78.000000</td>\n",
       "      <td>12.000000</td>\n",
       "      <td>64.187500</td>\n",
       "      <td>7.147960e+09</td>\n",
       "      <td>0.666250</td>\n",
       "      <td>1.000000</td>\n",
       "      <td>8.739960e+09</td>\n",
       "      <td>4.018505e+09</td>\n",
       "      <td>8.048250e+08</td>\n",
       "      <td>0.060735</td>\n",
       "      <td>7.383500e+06</td>\n",
       "      <td>4.685705e+08</td>\n",
       "      <td>5.648008e+08</td>\n",
       "      <td>0.000000e+00</td>\n",
       "    </tr>\n",
       "    <tr>\n",
       "      <th>max</th>\n",
       "      <td>2800.000000</td>\n",
       "      <td>20.000000</td>\n",
       "      <td>2615.600000</td>\n",
       "      <td>1.972006e+11</td>\n",
       "      <td>8.231000</td>\n",
       "      <td>1.000000</td>\n",
       "      <td>2.271751e+11</td>\n",
       "      <td>1.091200e+11</td>\n",
       "      <td>1.257500e+10</td>\n",
       "      <td>0.238460</td>\n",
       "      <td>1.309928e+09</td>\n",
       "      <td>8.335000e+09</td>\n",
       "      <td>7.762000e+09</td>\n",
       "      <td>2.518713e+09</td>\n",
       "    </tr>\n",
       "  </tbody>\n",
       "</table>\n",
       "</div>"
      ],
      "text/plain": [
       "       AveragePriceTarget   NumRatings  ClosingPrice     MarketCap  \\\n",
       "count         2136.000000  2136.000000   2136.000000  2.136000e+03   \n",
       "mean            68.737004     9.224719     57.130066  8.593780e+09   \n",
       "std            135.298078     4.647385    123.570656  1.785242e+10   \n",
       "min              0.600000     4.000000      0.240000  2.822783e+07   \n",
       "25%             13.500000     5.000000      8.092500  6.621685e+08   \n",
       "50%             32.000000     8.000000     23.620000  2.354210e+09   \n",
       "75%             78.000000    12.000000     64.187500  7.147960e+09   \n",
       "max           2800.000000    20.000000   2615.600000  1.972006e+11   \n",
       "\n",
       "       ExpectedGrowthRate  OverallRecommendation  ProjectedMarketCap  \\\n",
       "count         2136.000000            2136.000000        2.136000e+03   \n",
       "mean             0.699404               0.806648        1.009959e+10   \n",
       "std              1.155297               0.395019        1.992935e+10   \n",
       "min             -0.151000               0.000000        4.259801e+07   \n",
       "25%              0.132000               1.000000        1.143221e+09   \n",
       "50%              0.286000               1.000000        3.160352e+09   \n",
       "75%              0.666250               1.000000        8.739960e+09   \n",
       "max              8.231000               1.000000        2.271751e+11   \n",
       "\n",
       "       TotalRevenue    NormEBITDA  ReturnOnAssets  ChangeNormEBITDA  \\\n",
       "count  2.136000e+03  2.136000e+03     2136.000000      2.136000e+03   \n",
       "mean   3.756765e+09  7.172493e+08       -0.043569      3.178887e+07   \n",
       "std    7.018417e+09  1.436034e+09        0.199080      1.349144e+08   \n",
       "min    0.000000e+00 -9.360000e+08       -1.000000     -4.180000e+08   \n",
       "25%    2.161578e+08 -3.682400e+07       -0.096987      0.000000e+00   \n",
       "50%    1.036120e+09  1.823625e+08        0.022365      0.000000e+00   \n",
       "75%    4.018505e+09  8.048250e+08        0.060735      7.383500e+06   \n",
       "max    1.091200e+11  1.257500e+10        0.238460      1.309928e+09   \n",
       "\n",
       "       ChangeRevenue  OperatingCashFlow     ChangeOCF  \n",
       "count   2.136000e+03       2.136000e+03  2.136000e+03  \n",
       "mean    4.478589e+08       5.049861e+08  2.450304e+06  \n",
       "std     1.004820e+09       1.034982e+09  9.799373e+07  \n",
       "min    -1.514000e+09      -5.137450e+08 -1.710000e+09  \n",
       "25%     6.043031e+06      -2.850175e+07  0.000000e+00  \n",
       "50%     9.987600e+07       1.190055e+08  0.000000e+00  \n",
       "75%     4.685705e+08       5.648008e+08  0.000000e+00  \n",
       "max     8.335000e+09       7.762000e+09  2.518713e+09  "
      ]
     },
     "execution_count": 273,
     "metadata": {},
     "output_type": "execute_result"
    }
   ],
   "source": [
    "stock_data.describe()"
   ]
  },
  {
   "cell_type": "code",
   "execution_count": 278,
   "metadata": {},
   "outputs": [
    {
     "name": "stdout",
     "output_type": "stream",
     "text": [
      "<class 'pandas.core.frame.DataFrame'>\n",
      "Int64Index: 1946 entries, 0 to 2135\n",
      "Data columns (total 15 columns):\n",
      " #   Column                 Non-Null Count  Dtype  \n",
      "---  ------                 --------------  -----  \n",
      " 0   Ticker                 1946 non-null   object \n",
      " 1   AveragePriceTarget     1946 non-null   float64\n",
      " 2   NumRatings             1946 non-null   int64  \n",
      " 3   ClosingPrice           1946 non-null   float64\n",
      " 4   MarketCap              1946 non-null   float64\n",
      " 5   ExpectedGrowthRate     1946 non-null   float64\n",
      " 6   OverallRecommendation  1946 non-null   int64  \n",
      " 7   ProjectedMarketCap     1946 non-null   float64\n",
      " 8   TotalRevenue           1946 non-null   float64\n",
      " 9   NormEBITDA             1946 non-null   float64\n",
      " 10  ReturnOnAssets         1946 non-null   float64\n",
      " 11  ChangeNormEBITDA       1946 non-null   float64\n",
      " 12  ChangeRevenue          1946 non-null   float64\n",
      " 13  OperatingCashFlow      1946 non-null   float64\n",
      " 14  ChangeOCF              1946 non-null   float64\n",
      "dtypes: float64(12), int64(2), object(1)\n",
      "memory usage: 243.2+ KB\n"
     ]
    }
   ],
   "source": [
    "stock_data.info()"
   ]
  },
  {
   "cell_type": "code",
   "execution_count": 277,
   "metadata": {},
   "outputs": [],
   "source": [
    "stock_data = stock_data[stock_data['ExpectedGrowthRate'] < 2]"
   ]
  },
  {
   "attachments": {},
   "cell_type": "markdown",
   "metadata": {},
   "source": [
    "We're now ready to set up our first model"
   ]
  },
  {
   "attachments": {},
   "cell_type": "markdown",
   "metadata": {},
   "source": [
    "### Random Forest Classifier"
   ]
  },
  {
   "cell_type": "code",
   "execution_count": 295,
   "metadata": {},
   "outputs": [],
   "source": [
    "modeling_df = stock_data[['Ticker', 'TotalRevenue', 'NormEBITDA', 'ReturnOnAssets','ChangeNormEBITDA','ChangeRevenue','OperatingCashFlow','ChangeOCF','OverallRecommendation']]\n",
    "modeling_df.set_index('Ticker', inplace = True)"
   ]
  },
  {
   "cell_type": "code",
   "execution_count": 296,
   "metadata": {},
   "outputs": [],
   "source": [
    "X = modeling_df.drop(['OverallRecommendation'], axis = 1)\n",
    "y = modeling_df['OverallRecommendation']\n",
    "X_train, X_test, y_train, y_test = train_test_split(X, y, test_size= 0.3, random_state= 42)"
   ]
  },
  {
   "cell_type": "code",
   "execution_count": 306,
   "metadata": {},
   "outputs": [],
   "source": [
    "# Smote to address class imbalance\n",
    "smt = SMOTE(random_state = 42)\n",
    "# Scaling Data\n",
    "ss = StandardScaler()\n",
    "# Principal Component Analysis to address Multicolinearity\n",
    "pca = PCA(n_components = 7)\n",
    "# Instantiate Model, Pipeline\n",
    "rfc = RandomForestClassifier(random_state = 42)\n",
    "rfc_pipeline = Pipeline([('smote', smt),('scaler', ss),('pca', pca), ('random_forest', rfc)])"
   ]
  },
  {
   "cell_type": "code",
   "execution_count": 314,
   "metadata": {},
   "outputs": [
    {
     "name": "stdout",
     "output_type": "stream",
     "text": [
      "0.8048780487804877\n"
     ]
    },
    {
     "data": {
      "text/plain": [
       "<sklearn.metrics._plot.confusion_matrix.ConfusionMatrixDisplay at 0x161f76128e0>"
      ]
     },
     "execution_count": 314,
     "metadata": {},
     "output_type": "execute_result"
    },
    {
     "data": {
      "image/png": "[encoded data removed]",
      "text/plain": [
       "<Figure size 640x480 with 2 Axes>"
      ]
     },
     "metadata": {},
     "output_type": "display_data"
    }
   ],
   "source": [
    "rfc_pipeline.fit(X_train, y_train)\n",
    "y_pred = rfc_pipeline.predict(X_test)\n",
    "f1 = f1_score(y_test, y_pred)\n",
    "print(f1)\n",
    "cm = confusion_matrix(y_true = y_test, y_pred = y_pred)\n",
    "ConfusionMatrixDisplay(cm, display_labels= ['Sell','Buy']).plot()"
   ]
  },
  {
   "attachments": {},
   "cell_type": "markdown",
   "metadata": {},
   "source": [
    "Hyper Parameter Tuning"
   ]
  },
  {
   "cell_type": "code",
   "execution_count": 308,
   "metadata": {},
   "outputs": [],
   "source": [
    "rfc_params = {'random_forest__max_depth': [5,10,15,20,25], 'random_forest__n_estimators': [45,50,55,60,65]}"
   ]
  },
  {
   "cell_type": "code",
   "execution_count": 309,
   "metadata": {},
   "outputs": [
    {
     "name": "stdout",
     "output_type": "stream",
     "text": [
      "Fitting 5 folds for each of 25 candidates, totalling 125 fits\n"
     ]
    },
    {
     "data": {
      "text/plain": [
       "GridSearchCV(cv=5,\n",
       "             estimator=Pipeline(steps=[('smote', SMOTE(random_state=42)),\n",
       "                                       ('scaler', StandardScaler()),\n",
       "                                       ('pca', PCA(n_components=7)),\n",
       "                                       ('random_forest',\n",
       "                                        RandomForestClassifier(random_state=42))]),\n",
       "             param_grid={'random_forest__max_depth': [5, 10, 15, 20, 25],\n",
       "                         'random_forest__n_estimators': [45, 50, 55, 60, 65]},\n",
       "             scoring='f1', verbose=1)"
      ]
     },
     "execution_count": 309,
     "metadata": {},
     "output_type": "execute_result"
    }
   ],
   "source": [
    "gs = GridSearchCV(rfc_pipeline, rfc_params, cv = 5, scoring = 'f1', verbose = 1)\n",
    "gs.fit(X_train,y_train)"
   ]
  },
  {
   "cell_type": "code",
   "execution_count": 310,
   "metadata": {},
   "outputs": [
    {
     "data": {
      "text/plain": [
       "{'random_forest__max_depth': 20, 'random_forest__n_estimators': 55}"
      ]
     },
     "execution_count": 310,
     "metadata": {},
     "output_type": "execute_result"
    }
   ],
   "source": [
    "gs.best_params_"
   ]
  },
  {
   "cell_type": "code",
   "execution_count": 311,
   "metadata": {},
   "outputs": [
    {
     "data": {
      "text/plain": [
       "0.7655829371001845"
      ]
     },
     "execution_count": 311,
     "metadata": {},
     "output_type": "execute_result"
    }
   ],
   "source": [
    "gs.best_score_"
   ]
  },
  {
   "attachments": {},
   "cell_type": "markdown",
   "metadata": {},
   "source": [
    "Updating Parameters"
   ]
  },
  {
   "cell_type": "code",
   "execution_count": 312,
   "metadata": {},
   "outputs": [],
   "source": [
    "rfc = RandomForestClassifier(max_depth = 20, n_estimators = 55, random_state = 42)\n",
    "rfc_pipeline = Pipeline([('smote', smt),('scaler', ss),('random_forest', rfc)])"
   ]
  },
  {
   "cell_type": "code",
   "execution_count": 313,
   "metadata": {},
   "outputs": [
    {
     "name": "stdout",
     "output_type": "stream",
     "text": [
      "0.7178026924980342\n"
     ]
    },
    {
     "data": {
      "text/plain": [
       "<sklearn.metrics._plot.confusion_matrix.ConfusionMatrixDisplay at 0x161f5cdffd0>"
      ]
     },
     "execution_count": 313,
     "metadata": {},
     "output_type": "execute_result"
    },
    {
     "data": {
      "image/png": "[encoded data removed]",
      "text/plain": [
       "<Figure size 640x480 with 2 Axes>"
      ]
     },
     "metadata": {},
     "output_type": "display_data"
    }
   ],
   "source": [
    "rfc_pipeline.fit(X_train, y_train)\n",
    "y_pred = rfc_pipeline.predict(X_test)\n",
    "f1 = f1_score(y_test, y_pred, average = 'weighted')\n",
    "print(f1)\n",
    "cm = confusion_matrix(y_true = y_test, y_pred = y_pred)\n",
    "ConfusionMatrixDisplay(cm, display_labels= ['Sell','Buy']).plot()"
   ]
  },
  {
   "attachments": {},
   "cell_type": "markdown",
   "metadata": {},
   "source": [
    "### Convolutional Neural Network"
   ]
  },
  {
   "attachments": {},
   "cell_type": "markdown",
   "metadata": {},
   "source": [
    "Preprocessing Data"
   ]
  },
  {
   "cell_type": "code",
   "execution_count": 315,
   "metadata": {},
   "outputs": [],
   "source": [
    "X_train, X_test, y_train, y_test = train_test_split(X, y, test_size= 0.3, random_state= 42)"
   ]
  },
  {
   "cell_type": "code",
   "execution_count": 316,
   "metadata": {},
   "outputs": [
    {
     "name": "stderr",
     "output_type": "stream",
     "text": [
      "c:\\Users\\cnade\\anaconda3\\lib\\site-packages\\sklearn\\base.py:450: UserWarning: X does not have valid feature names, but PCA was fitted with feature names\n",
      "  warnings.warn(\n"
     ]
    }
   ],
   "source": [
    "# Preparing Data\n",
    "scaler = StandardScaler()\n",
    "X_train_scaled = scaler.fit_transform(X_train)\n",
    "X_test_scaled = scaler.transform(X_test)\n",
    "\n",
    "# SMOTE\n",
    "smt = SMOTE(random_state=42)\n",
    "X_train_resampled, y_train_resampled = smt.fit_resample(X_train, y_train)\n",
    "\n",
    "# PCA\n",
    "pca = PCA(n_components = 5)\n",
    "X_train_ready = pca.fit_transform(X_train_resampled)\n",
    "X_test_ready = pca.transform(X_test_scaled)\n",
    "\n",
    "# Reshaping Data\n",
    "X_train_ready = X_train_resampled.values.reshape(X_train_resampled.shape[0], X_train_resampled.shape[1], 1)\n",
    "X_test_ready = X_test_scaled.reshape(X_test_scaled.shape[0], X_test_scaled.shape[1], 1)\n",
    "\n",
    "# Map labels to non-negative integers\n",
    "# Encode labels\n",
    "y_train_encoded = to_categorical(y_train_resampled)\n",
    "y_test_encoded = to_categorical(y_test)"
   ]
  },
  {
   "cell_type": "code",
   "execution_count": 317,
   "metadata": {},
   "outputs": [
    {
     "data": {
      "text/plain": [
       "(584, 7, 1)"
      ]
     },
     "execution_count": 317,
     "metadata": {},
     "output_type": "execute_result"
    }
   ],
   "source": [
    "X_test_ready.shape"
   ]
  },
  {
   "cell_type": "code",
   "execution_count": 318,
   "metadata": {},
   "outputs": [
    {
     "data": {
      "text/plain": [
       "(2116, 2)"
      ]
     },
     "execution_count": 318,
     "metadata": {},
     "output_type": "execute_result"
    }
   ],
   "source": [
    "y_train_encoded.shape"
   ]
  },
  {
   "cell_type": "code",
   "execution_count": 319,
   "metadata": {},
   "outputs": [],
   "source": [
    "# Creating F1 Score\n",
    "def recall_m(y_true, y_pred):\n",
    "    true_positives = K.sum(K.round(K.clip(y_true * y_pred, 0, 1)))\n",
    "    possible_positives = K.sum(K.round(K.clip(y_true, 0, 1)))\n",
    "    recall = true_positives / (possible_positives + K.epsilon())\n",
    "    return recall\n",
    "\n",
    "def precision_m(y_true, y_pred):\n",
    "    true_positives = K.sum(K.round(K.clip(y_true * y_pred, 0, 1)))\n",
    "    predicted_positives = K.sum(K.round(K.clip(y_pred, 0, 1)))\n",
    "    precision = true_positives / (predicted_positives + K.epsilon())\n",
    "    return precision\n",
    "\n",
    "def f1_m(y_true, y_pred):\n",
    "    precision = precision_m(y_true, y_pred)\n",
    "    recall = recall_m(y_true, y_pred)\n",
    "    return 2*((precision*recall)/(precision+recall+K.epsilon()))"
   ]
  },
  {
   "cell_type": "code",
   "execution_count": 320,
   "metadata": {},
   "outputs": [],
   "source": [
    "# Creating Neural Network Function\n",
    "def create_classification_model(dropout_rate=0.2, l2_weight=0.001, batch_size=32, epochs=10):\n",
    "    model = Sequential()\n",
    "    model.add(Conv1D(32, kernel_size=3, activation='relu', input_shape=(X_train_ready.shape[1],1), kernel_regularizer=l2(l2_weight)))\n",
    "    model.add(Dropout(dropout_rate))\n",
    "    model.add(Flatten())\n",
    "    model.add(Dense(128, activation='relu', kernel_regularizer=l2(l2_weight)))\n",
    "    model.add(Dropout(dropout_rate))\n",
    "    model.add(Dense(2, activation='softmax', kernel_regularizer=l2(l2_weight)))\n",
    "    model.compile(loss='binary_crossentropy', optimizer='adam', metrics=[f1_m])\n",
    "    return model"
   ]
  },
  {
   "cell_type": "code",
   "execution_count": 324,
   "metadata": {},
   "outputs": [
    {
     "name": "stdout",
     "output_type": "stream",
     "text": [
      "Epoch 1/25\n",
      "19/19 [==============================] - 3s 30ms/step - loss: 0.7471 - f1_m: 0.7566 - val_loss: 0.6526 - val_f1_m: 0.8207\n",
      "Epoch 2/25\n",
      "19/19 [==============================] - 0s 11ms/step - loss: 0.6299 - f1_m: 0.8109 - val_loss: 0.6008 - val_f1_m: 0.8207\n",
      "Epoch 3/25\n",
      "19/19 [==============================] - 0s 11ms/step - loss: 0.5949 - f1_m: 0.8010 - val_loss: 0.5777 - val_f1_m: 0.8207\n",
      "Epoch 4/25\n",
      "19/19 [==============================] - 0s 10ms/step - loss: 0.5755 - f1_m: 0.8158 - val_loss: 0.5624 - val_f1_m: 0.8207\n",
      "Epoch 5/25\n",
      "19/19 [==============================] - 0s 11ms/step - loss: 0.5589 - f1_m: 0.8191 - val_loss: 0.5473 - val_f1_m: 0.8224\n",
      "Epoch 6/25\n",
      "19/19 [==============================] - 0s 11ms/step - loss: 0.5564 - f1_m: 0.8158 - val_loss: 0.5366 - val_f1_m: 0.8207\n",
      "Epoch 7/25\n",
      "19/19 [==============================] - 0s 11ms/step - loss: 0.5448 - f1_m: 0.8224 - val_loss: 0.5277 - val_f1_m: 0.8240\n",
      "Epoch 8/25\n",
      "19/19 [==============================] - 0s 11ms/step - loss: 0.5339 - f1_m: 0.8125 - val_loss: 0.5207 - val_f1_m: 0.8207\n",
      "Epoch 9/25\n",
      "19/19 [==============================] - 0s 11ms/step - loss: 0.5233 - f1_m: 0.8043 - val_loss: 0.5146 - val_f1_m: 0.8257\n",
      "Epoch 10/25\n",
      "19/19 [==============================] - 0s 12ms/step - loss: 0.5118 - f1_m: 0.8076 - val_loss: 0.5065 - val_f1_m: 0.8273\n",
      "Epoch 11/25\n",
      "19/19 [==============================] - 0s 11ms/step - loss: 0.5131 - f1_m: 0.8125 - val_loss: 0.5018 - val_f1_m: 0.8273\n",
      "Epoch 12/25\n",
      "19/19 [==============================] - 0s 10ms/step - loss: 0.5032 - f1_m: 0.8174 - val_loss: 0.4967 - val_f1_m: 0.8257\n",
      "Epoch 13/25\n",
      "19/19 [==============================] - 0s 9ms/step - loss: 0.5003 - f1_m: 0.8207 - val_loss: 0.4927 - val_f1_m: 0.8273\n",
      "Epoch 14/25\n",
      "19/19 [==============================] - 0s 9ms/step - loss: 0.4985 - f1_m: 0.8125 - val_loss: 0.4882 - val_f1_m: 0.8289\n",
      "Epoch 15/25\n",
      "19/19 [==============================] - 0s 9ms/step - loss: 0.4991 - f1_m: 0.8191 - val_loss: 0.4859 - val_f1_m: 0.8273\n",
      "Epoch 16/25\n",
      "19/19 [==============================] - 0s 9ms/step - loss: 0.4933 - f1_m: 0.8207 - val_loss: 0.4827 - val_f1_m: 0.8289\n",
      "Epoch 17/25\n",
      "19/19 [==============================] - 0s 10ms/step - loss: 0.4948 - f1_m: 0.8224 - val_loss: 0.4800 - val_f1_m: 0.8289\n",
      "Epoch 18/25\n",
      "19/19 [==============================] - 0s 10ms/step - loss: 0.4839 - f1_m: 0.8289 - val_loss: 0.4778 - val_f1_m: 0.8289\n",
      "Epoch 19/25\n",
      "19/19 [==============================] - 0s 9ms/step - loss: 0.4871 - f1_m: 0.8109 - val_loss: 0.4753 - val_f1_m: 0.8273\n",
      "Epoch 20/25\n",
      "19/19 [==============================] - 0s 9ms/step - loss: 0.4879 - f1_m: 0.8158 - val_loss: 0.4742 - val_f1_m: 0.8289\n",
      "Epoch 21/25\n",
      "19/19 [==============================] - 0s 13ms/step - loss: 0.4817 - f1_m: 0.8141 - val_loss: 0.4714 - val_f1_m: 0.8289\n",
      "Epoch 22/25\n",
      "19/19 [==============================] - 0s 9ms/step - loss: 0.4735 - f1_m: 0.8207 - val_loss: 0.4701 - val_f1_m: 0.8273\n",
      "Epoch 23/25\n",
      "19/19 [==============================] - 0s 10ms/step - loss: 0.4794 - f1_m: 0.8109 - val_loss: 0.4678 - val_f1_m: 0.8289\n",
      "Epoch 24/25\n",
      "19/19 [==============================] - 0s 10ms/step - loss: 0.4757 - f1_m: 0.8207 - val_loss: 0.4665 - val_f1_m: 0.8289\n",
      "Epoch 25/25\n",
      "19/19 [==============================] - 0s 9ms/step - loss: 0.4762 - f1_m: 0.8224 - val_loss: 0.4649 - val_f1_m: 0.8289\n"
     ]
    },
    {
     "data": {
      "text/plain": [
       "<keras.callbacks.History at 0x1618245bee0>"
      ]
     },
     "execution_count": 324,
     "metadata": {},
     "output_type": "execute_result"
    }
   ],
   "source": [
    "model = create_classification_model()\n",
    "model.fit(X_train_ready, y_train_encoded, epochs=25, validation_data=(X_test_ready, y_test_encoded))"
   ]
  },
  {
   "attachments": {},
   "cell_type": "markdown",
   "metadata": {},
   "source": [
    "## Modeling for Expected Growth Rate"
   ]
  },
  {
   "cell_type": "code",
   "execution_count": 402,
   "metadata": {},
   "outputs": [],
   "source": [
    "modeling_growth_df = stock_data[['Ticker', 'TotalRevenue', 'NormEBITDA', 'ReturnOnAssets','ChangeNormEBITDA','ChangeRevenue','OperatingCashFlow','ChangeOCF','ExpectedGrowthRate']]\n",
    "modeling_growth_df.set_index('Ticker', inplace = True)"
   ]
  },
  {
   "cell_type": "code",
   "execution_count": 403,
   "metadata": {},
   "outputs": [],
   "source": [
    "X = modeling_growth_df.drop(['ExpectedGrowthRate'], axis = 1)\n",
    "y = modeling_growth_df['ExpectedGrowthRate']\n",
    "X_train, X_test, y_train, y_test = train_test_split(X, y, test_size= 0.25, random_state= 42)"
   ]
  },
  {
   "attachments": {},
   "cell_type": "markdown",
   "metadata": {},
   "source": [
    "#### Linear Regression Baseline Model"
   ]
  },
  {
   "cell_type": "code",
   "execution_count": 404,
   "metadata": {},
   "outputs": [
    {
     "name": "stdout",
     "output_type": "stream",
     "text": [
      "Root mean squared error: 0.39931552858722663\n"
     ]
    }
   ],
   "source": [
    "linreg_pipeline = Pipeline([\n",
    "    ('scaler', StandardScaler()),\n",
    "    ('regressor', LinearRegression())\n",
    "])\n",
    "\n",
    "# Fit pipeline to training data\n",
    "linreg_pipeline.fit(X_train, y_train)\n",
    "\n",
    "# Evaluate pipeline on testing data\n",
    "y_pred = linreg_pipeline.predict(X_test)\n",
    "mse = mean_squared_error(y_test, y_pred)\n",
    "rmse = np.sqrt(mse)\n",
    "print('Root mean squared error:', rmse)"
   ]
  },
  {
   "cell_type": "code",
   "execution_count": 385,
   "metadata": {},
   "outputs": [],
   "source": [
    "y_pred_mapped = np.where(y_pred < 0.1, 0, 1)\n",
    "y_test_mapped = np.where(y_test < 0.1, 0, 1)"
   ]
  },
  {
   "cell_type": "code",
   "execution_count": 422,
   "metadata": {},
   "outputs": [
    {
     "data": {
      "image/png": "[encoded data removed]",
      "text/plain": [
       "<Figure size 640x480 with 1 Axes>"
      ]
     },
     "metadata": {},
     "output_type": "display_data"
    }
   ],
   "source": [
    "plt.scatter(y_test, y_pred)\n",
    "plt.xlabel('Actual Expected Growth Rate')\n",
    "plt.ylabel('Predicted Expected Growth Rate')\n",
    "plt.title('Actual vs Predicted Expected Growth Rates- Linear Regression')\n",
    "plt.text(1.5,1.85, 'RMSE = 0.1595')\n",
    "plt.xlim(-0.2, 2)\n",
    "plt.ylim(-0.2, 2)\n",
    "\n",
    "plt.show()"
   ]
  },
  {
   "cell_type": "code",
   "execution_count": 330,
   "metadata": {},
   "outputs": [
    {
     "name": "stdout",
     "output_type": "stream",
     "text": [
      "0.8963133640552996\n"
     ]
    },
    {
     "data": {
      "text/plain": [
       "<sklearn.metrics._plot.confusion_matrix.ConfusionMatrixDisplay at 0x1618003f5b0>"
      ]
     },
     "execution_count": 330,
     "metadata": {},
     "output_type": "execute_result"
    },
    {
     "data": {
      "image/png": "[encoded data removed]",
      "text/plain": [
       "<Figure size 640x480 with 2 Axes>"
      ]
     },
     "metadata": {},
     "output_type": "display_data"
    }
   ],
   "source": [
    "print(f1_score(y_test_mapped, y_pred_mapped))\n",
    "cm = confusion_matrix(y_true = y_test_mapped, y_pred = y_pred_mapped)\n",
    "ConfusionMatrixDisplay(cm, display_labels= ['Sell','Buy']).plot()"
   ]
  },
  {
   "attachments": {},
   "cell_type": "markdown",
   "metadata": {},
   "source": [
    "### Neural Network P2- A Feedforward Neural Network"
   ]
  },
  {
   "cell_type": "code",
   "execution_count": 406,
   "metadata": {},
   "outputs": [],
   "source": [
    "# Preparing Data\n",
    "scaler = StandardScaler()\n",
    "X_train_scaled = scaler.fit_transform(X_train)\n",
    "X_test_scaled = scaler.transform(X_test)\n",
    "\n",
    "# Reshaping Data\n",
    "X_train_ready = X_train_scaled.reshape(X_train_scaled.shape[0], X_train_scaled.shape[1], 1)\n",
    "X_test_ready = X_test_scaled.reshape(X_test_scaled.shape[0], X_test_scaled.shape[1], 1)"
   ]
  },
  {
   "cell_type": "code",
   "execution_count": 407,
   "metadata": {},
   "outputs": [],
   "source": [
    "def create_continuous_model(dropout_rate=0.2, l2_weight=0.001, batch_size=32, epochs=10):\n",
    "    model = Sequential()\n",
    "    model.add(Conv1D(32, kernel_size=3, activation='relu', input_shape=(X_train_ready.shape[1],1), kernel_regularizer=l2(l2_weight)))\n",
    "    model.add(Dropout(dropout_rate))\n",
    "    model.add(Flatten())\n",
    "    model.add(Dense(128, activation='relu', kernel_regularizer=l2(l2_weight)))\n",
    "    model.add(Dropout(dropout_rate))\n",
    "    model.add(Dense(1, activation='linear', kernel_regularizer=l2(l2_weight)))\n",
    "    model.compile(loss='mean_squared_error', optimizer='adam', metrics=['mse'])\n",
    "    return model"
   ]
  },
  {
   "cell_type": "code",
   "execution_count": 408,
   "metadata": {},
   "outputs": [
    {
     "name": "stdout",
     "output_type": "stream",
     "text": [
      "Epoch 1/24\n",
      "46/46 [==============================] - 2s 13ms/step - loss: 0.3408 - mse: 0.2057 - val_loss: 0.2705 - val_mse: 0.1456\n",
      "Epoch 2/24\n",
      "46/46 [==============================] - 0s 6ms/step - loss: 0.2430 - mse: 0.1265 - val_loss: 0.2411 - val_mse: 0.1328\n",
      "Epoch 3/24\n",
      "46/46 [==============================] - 0s 6ms/step - loss: 0.2239 - mse: 0.1222 - val_loss: 0.2290 - val_mse: 0.1338\n",
      "Epoch 4/24\n",
      "46/46 [==============================] - 0s 6ms/step - loss: 0.2051 - mse: 0.1153 - val_loss: 0.2174 - val_mse: 0.1329\n",
      "Epoch 5/24\n",
      "46/46 [==============================] - 0s 6ms/step - loss: 0.1929 - mse: 0.1130 - val_loss: 0.2040 - val_mse: 0.1286\n",
      "Epoch 6/24\n",
      "46/46 [==============================] - 0s 7ms/step - loss: 0.1829 - mse: 0.1113 - val_loss: 0.2004 - val_mse: 0.1326\n",
      "Epoch 7/24\n",
      "46/46 [==============================] - 0s 8ms/step - loss: 0.1774 - mse: 0.1129 - val_loss: 0.1888 - val_mse: 0.1277\n",
      "Epoch 8/24\n",
      "46/46 [==============================] - 0s 7ms/step - loss: 0.1714 - mse: 0.1132 - val_loss: 0.1841 - val_mse: 0.1289\n",
      "Epoch 9/24\n",
      "46/46 [==============================] - 0s 8ms/step - loss: 0.1640 - mse: 0.1113 - val_loss: 0.1860 - val_mse: 0.1359\n",
      "Epoch 10/24\n",
      "46/46 [==============================] - 0s 6ms/step - loss: 0.1598 - mse: 0.1120 - val_loss: 0.1725 - val_mse: 0.1268\n",
      "Epoch 11/24\n",
      "46/46 [==============================] - 0s 7ms/step - loss: 0.1515 - mse: 0.1079 - val_loss: 0.1691 - val_mse: 0.1275\n",
      "Epoch 12/24\n",
      "46/46 [==============================] - 0s 6ms/step - loss: 0.1527 - mse: 0.1130 - val_loss: 0.1656 - val_mse: 0.1278\n",
      "Epoch 13/24\n",
      "46/46 [==============================] - 0s 7ms/step - loss: 0.1487 - mse: 0.1123 - val_loss: 0.1617 - val_mse: 0.1270\n",
      "Epoch 14/24\n",
      "46/46 [==============================] - 0s 7ms/step - loss: 0.1430 - mse: 0.1095 - val_loss: 0.1657 - val_mse: 0.1338\n",
      "Epoch 15/24\n",
      "46/46 [==============================] - 0s 7ms/step - loss: 0.1393 - mse: 0.1086 - val_loss: 0.1548 - val_mse: 0.1253\n",
      "Epoch 16/24\n",
      "46/46 [==============================] - 0s 7ms/step - loss: 0.1373 - mse: 0.1090 - val_loss: 0.1517 - val_mse: 0.1246\n",
      "Epoch 17/24\n",
      "46/46 [==============================] - 0s 6ms/step - loss: 0.1334 - mse: 0.1073 - val_loss: 0.1507 - val_mse: 0.1257\n",
      "Epoch 18/24\n",
      "46/46 [==============================] - 0s 7ms/step - loss: 0.1327 - mse: 0.1084 - val_loss: 0.1502 - val_mse: 0.1268\n",
      "Epoch 19/24\n",
      "46/46 [==============================] - 0s 6ms/step - loss: 0.1299 - mse: 0.1074 - val_loss: 0.1504 - val_mse: 0.1286\n",
      "Epoch 20/24\n",
      "46/46 [==============================] - 0s 6ms/step - loss: 0.1321 - mse: 0.1111 - val_loss: 0.1480 - val_mse: 0.1277\n",
      "Epoch 21/24\n",
      "46/46 [==============================] - 0s 6ms/step - loss: 0.1269 - mse: 0.1073 - val_loss: 0.1507 - val_mse: 0.1318\n",
      "Epoch 22/24\n",
      "46/46 [==============================] - 0s 6ms/step - loss: 0.1243 - mse: 0.1060 - val_loss: 0.1421 - val_mse: 0.1244\n",
      "Epoch 23/24\n",
      "46/46 [==============================] - 0s 7ms/step - loss: 0.1255 - mse: 0.1083 - val_loss: 0.1461 - val_mse: 0.1294\n",
      "Epoch 24/24\n",
      "46/46 [==============================] - 0s 6ms/step - loss: 0.1248 - mse: 0.1087 - val_loss: 0.1476 - val_mse: 0.1319\n"
     ]
    },
    {
     "data": {
      "text/plain": [
       "<keras.callbacks.History at 0x1618e84b1f0>"
      ]
     },
     "execution_count": 408,
     "metadata": {},
     "output_type": "execute_result"
    }
   ],
   "source": [
    "model = create_continuous_model()\n",
    "model.fit(X_train_ready, y_train, epochs = 24, batch_size = 32, validation_data=[X_test_ready, y_test])"
   ]
  },
  {
   "cell_type": "code",
   "execution_count": 409,
   "metadata": {},
   "outputs": [
    {
     "name": "stdout",
     "output_type": "stream",
     "text": [
      "16/16 [==============================] - 0s 2ms/step\n"
     ]
    }
   ],
   "source": [
    "y_pred = model.predict(X_test_ready)"
   ]
  },
  {
   "cell_type": "code",
   "execution_count": 410,
   "metadata": {},
   "outputs": [],
   "source": [
    "y_pred = pd.Series(y_pred.flatten())"
   ]
  },
  {
   "cell_type": "code",
   "execution_count": 411,
   "metadata": {},
   "outputs": [
    {
     "name": "stdout",
     "output_type": "stream",
     "text": [
      "Root mean squared error: 0.36322525620112756\n"
     ]
    }
   ],
   "source": [
    "mse = mean_squared_error(y_test, y_pred)\n",
    "rmse = np.sqrt(mse)\n",
    "print('Root mean squared error:', rmse)"
   ]
  },
  {
   "cell_type": "code",
   "execution_count": 423,
   "metadata": {},
   "outputs": [
    {
     "data": {
      "image/png": "[encoded data removed]",
      "text/plain": [
       "<Figure size 640x480 with 1 Axes>"
      ]
     },
     "metadata": {},
     "output_type": "display_data"
    }
   ],
   "source": [
    "import matplotlib.pyplot as plt\n",
    "plt.scatter(y_test, y_pred)\n",
    "plt.xlabel('Actual Expected Growth Rate')\n",
    "plt.ylabel('Predicted Expected Growth Rate')\n",
    "plt.title('Actual vs Predicted Growth Rates- Feed Forward Neural Network')\n",
    "#plt.legend(['RMSE: {:.4f}'.format(mse)])\n",
    "plt.xlim(-0.2, 2)\n",
    "plt.ylim(-0.2, 2)\n",
    "plt.text(1.5,1.85, 'RMSE = 0.1319')\n",
    "plt.show()"
   ]
  },
  {
   "cell_type": "code",
   "execution_count": 357,
   "metadata": {},
   "outputs": [],
   "source": [
    "y_pred_mapped = np.where(y_pred < 0.1, 0, 1)\n",
    "y_test_mapped = np.where(y_test < 0.1, 0, 1)"
   ]
  },
  {
   "cell_type": "code",
   "execution_count": 358,
   "metadata": {},
   "outputs": [
    {
     "name": "stdout",
     "output_type": "stream",
     "text": [
      "0.8234086242299795\n"
     ]
    },
    {
     "data": {
      "text/plain": [
       "<sklearn.metrics._plot.confusion_matrix.ConfusionMatrixDisplay at 0x161fbde1a90>"
      ]
     },
     "execution_count": 358,
     "metadata": {},
     "output_type": "execute_result"
    },
    {
     "data": {
      "image/png": "[encoded data removed]",
      "text/plain": [
       "<Figure size 640x480 with 2 Axes>"
      ]
     },
     "metadata": {},
     "output_type": "display_data"
    }
   ],
   "source": [
    "print(accuracy_score(y_test_mapped, y_pred_mapped))\n",
    "cm = confusion_matrix(y_true = y_test_mapped, y_pred = y_pred_mapped)\n",
    "ConfusionMatrixDisplay(cm, display_labels= ['Sell','Buy']).plot()"
   ]
  }
 ],
 "metadata": {
  "kernelspec": {
   "display_name": "learn-env",
   "language": "python",
   "name": "python3"
  },
  "language_info": {
   "codemirror_mode": {
    "name": "ipython",
    "version": 3
   },
   "file_extension": ".py",
   "mimetype": "text/x-python",
   "name": "python",
   "nbconvert_exporter": "python",
   "pygments_lexer": "ipython3",
   "version": "3.9.13"
  },
  "orig_nbformat": 4
 },
 "nbformat": 4,
 "nbformat_minor": 2
}
