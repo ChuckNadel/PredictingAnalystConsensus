{
 "cells": [
  {
   "attachments": {},
   "cell_type": "markdown",
   "metadata": {},
   "source": [
    "## Modeling Notebook"
   ]
  },
  {
   "cell_type": "code",
   "execution_count": 2,
   "metadata": {},
   "outputs": [],
   "source": [
    "# General Packages\n",
    "import pandas as pd\n",
    "import yfinance as yf\n",
    "import numpy as np\n",
    "import seaborn as sns\n",
    "from yahooquery import Ticker\n",
    "from tqdm import tqdm\n",
    "import matplotlib.pyplot as plt\n",
    "\n",
    "# SK-Learn Packages\n",
    "from sklearn.model_selection import train_test_split\n",
    "from sklearn.ensemble import RandomForestClassifier\n",
    "from sklearn.metrics import accuracy_score, confusion_matrix, ConfusionMatrixDisplay, f1_score, make_scorer, mean_squared_error\n",
    "from sklearn.preprocessing import StandardScaler\n",
    "from imblearn.pipeline import Pipeline, make_pipeline\n",
    "from imblearn.over_sampling import SMOTE\n",
    "from sklearn.model_selection import GridSearchCV\n",
    "from sklearn.decomposition import PCA\n",
    "from sklearn.base import BaseEstimator, TransformerMixin\n",
    "from sklearn.linear_model import LinearRegression\n",
    "\n",
    "# CNN Modeling\n",
    "from tensorflow.keras.models import Sequential\n",
    "from tensorflow.keras.layers import Dense, Conv1D, Flatten, Dropout\n",
    "from keras.regularizers import l2\n",
    "from keras.wrappers.scikit_learn import KerasClassifier\n",
    "from keras.utils import to_categorical\n",
    "from keras.metrics import Precision, Recall, AUC\n",
    "from keras import backend as K"
   ]
  },
  {
   "cell_type": "code",
   "execution_count": 3,
   "metadata": {},
   "outputs": [
    {
     "data": {
      "text/html": [
       "<div>\n",
       "<style scoped>\n",
       "    .dataframe tbody tr th:only-of-type {\n",
       "        vertical-align: middle;\n",
       "    }\n",
       "\n",
       "    .dataframe tbody tr th {\n",
       "        vertical-align: top;\n",
       "    }\n",
       "\n",
       "    .dataframe thead th {\n",
       "        text-align: right;\n",
       "    }\n",
       "</style>\n",
       "<table border=\"1\" class=\"dataframe\">\n",
       "  <thead>\n",
       "    <tr style=\"text-align: right;\">\n",
       "      <th></th>\n",
       "      <th>Ticker</th>\n",
       "      <th>AveragePriceTarget</th>\n",
       "      <th>NumRatings</th>\n",
       "      <th>ClosingPrice</th>\n",
       "      <th>MarketCap</th>\n",
       "      <th>ExpectedGrowthRate</th>\n",
       "      <th>OverallRecommendation</th>\n",
       "      <th>ProjectedMarketCap</th>\n",
       "      <th>TotalRevenue</th>\n",
       "      <th>NormEBITDA</th>\n",
       "      <th>ReturnOnAssets</th>\n",
       "      <th>ChangeNormEBITDA</th>\n",
       "      <th>ChangeRevenue</th>\n",
       "      <th>OperatingCashFlow</th>\n",
       "      <th>ChangeOCF</th>\n",
       "      <th>Sector</th>\n",
       "    </tr>\n",
       "  </thead>\n",
       "  <tbody>\n",
       "    <tr>\n",
       "      <th>0</th>\n",
       "      <td>A</td>\n",
       "      <td>166.5</td>\n",
       "      <td>14</td>\n",
       "      <td>138.09</td>\n",
       "      <td>4.088458e+10</td>\n",
       "      <td>0.206</td>\n",
       "      <td>1</td>\n",
       "      <td>4.930681e+10</td>\n",
       "      <td>6.848000e+09</td>\n",
       "      <td>1.985000e+09</td>\n",
       "      <td>0.10102</td>\n",
       "      <td>80000000.0</td>\n",
       "      <td>529000000.0</td>\n",
       "      <td>1.353000e+09</td>\n",
       "      <td>41000000.0</td>\n",
       "      <td>Healthcare</td>\n",
       "    </tr>\n",
       "    <tr>\n",
       "      <th>1</th>\n",
       "      <td>AA</td>\n",
       "      <td>50.0</td>\n",
       "      <td>11</td>\n",
       "      <td>39.43</td>\n",
       "      <td>7.032538e+09</td>\n",
       "      <td>0.268</td>\n",
       "      <td>1</td>\n",
       "      <td>8.917258e+09</td>\n",
       "      <td>1.245100e+10</td>\n",
       "      <td>2.142000e+09</td>\n",
       "      <td>0.05931</td>\n",
       "      <td>-231000000.0</td>\n",
       "      <td>299000000.0</td>\n",
       "      <td>8.220000e+08</td>\n",
       "      <td>0.0</td>\n",
       "      <td>Basic Materials</td>\n",
       "    </tr>\n",
       "    <tr>\n",
       "      <th>2</th>\n",
       "      <td>AAN</td>\n",
       "      <td>16.0</td>\n",
       "      <td>5</td>\n",
       "      <td>9.54</td>\n",
       "      <td>2.936460e+08</td>\n",
       "      <td>0.677</td>\n",
       "      <td>1</td>\n",
       "      <td>4.924443e+08</td>\n",
       "      <td>2.249434e+09</td>\n",
       "      <td>7.345500e+08</td>\n",
       "      <td>0.06360</td>\n",
       "      <td>0.0</td>\n",
       "      <td>403930000.0</td>\n",
       "      <td>1.704320e+08</td>\n",
       "      <td>0.0</td>\n",
       "      <td>Industrials</td>\n",
       "    </tr>\n",
       "    <tr>\n",
       "      <th>3</th>\n",
       "      <td>AAOI</td>\n",
       "      <td>3.4</td>\n",
       "      <td>4</td>\n",
       "      <td>2.11</td>\n",
       "      <td>6.130162e+07</td>\n",
       "      <td>0.611</td>\n",
       "      <td>1</td>\n",
       "      <td>9.875690e+07</td>\n",
       "      <td>2.228180e+08</td>\n",
       "      <td>-3.543400e+07</td>\n",
       "      <td>-0.08548</td>\n",
       "      <td>24643000.0</td>\n",
       "      <td>11253000.0</td>\n",
       "      <td>-1.402200e+07</td>\n",
       "      <td>0.0</td>\n",
       "      <td>Technology</td>\n",
       "    </tr>\n",
       "    <tr>\n",
       "      <th>4</th>\n",
       "      <td>AAP</td>\n",
       "      <td>155.0</td>\n",
       "      <td>17</td>\n",
       "      <td>120.21</td>\n",
       "      <td>7.122887e+09</td>\n",
       "      <td>0.289</td>\n",
       "      <td>1</td>\n",
       "      <td>9.181402e+09</td>\n",
       "      <td>1.115472e+10</td>\n",
       "      <td>9.909550e+08</td>\n",
       "      <td>0.03891</td>\n",
       "      <td>0.0</td>\n",
       "      <td>156733000.0</td>\n",
       "      <td>7.222220e+08</td>\n",
       "      <td>0.0</td>\n",
       "      <td>Consumer Cyclical</td>\n",
       "    </tr>\n",
       "  </tbody>\n",
       "</table>\n",
       "</div>"
      ],
      "text/plain": [
       "  Ticker  AveragePriceTarget  NumRatings  ClosingPrice     MarketCap  \\\n",
       "0      A               166.5          14        138.09  4.088458e+10   \n",
       "1     AA                50.0          11         39.43  7.032538e+09   \n",
       "2    AAN                16.0           5          9.54  2.936460e+08   \n",
       "3   AAOI                 3.4           4          2.11  6.130162e+07   \n",
       "4    AAP               155.0          17        120.21  7.122887e+09   \n",
       "\n",
       "   ExpectedGrowthRate  OverallRecommendation  ProjectedMarketCap  \\\n",
       "0               0.206                      1        4.930681e+10   \n",
       "1               0.268                      1        8.917258e+09   \n",
       "2               0.677                      1        4.924443e+08   \n",
       "3               0.611                      1        9.875690e+07   \n",
       "4               0.289                      1        9.181402e+09   \n",
       "\n",
       "   TotalRevenue    NormEBITDA  ReturnOnAssets  ChangeNormEBITDA  \\\n",
       "0  6.848000e+09  1.985000e+09         0.10102        80000000.0   \n",
       "1  1.245100e+10  2.142000e+09         0.05931      -231000000.0   \n",
       "2  2.249434e+09  7.345500e+08         0.06360               0.0   \n",
       "3  2.228180e+08 -3.543400e+07        -0.08548        24643000.0   \n",
       "4  1.115472e+10  9.909550e+08         0.03891               0.0   \n",
       "\n",
       "   ChangeRevenue  OperatingCashFlow   ChangeOCF             Sector  \n",
       "0    529000000.0       1.353000e+09  41000000.0         Healthcare  \n",
       "1    299000000.0       8.220000e+08         0.0    Basic Materials  \n",
       "2    403930000.0       1.704320e+08         0.0        Industrials  \n",
       "3     11253000.0      -1.402200e+07         0.0         Technology  \n",
       "4    156733000.0       7.222220e+08         0.0  Consumer Cyclical  "
      ]
     },
     "execution_count": 3,
     "metadata": {},
     "output_type": "execute_result"
    }
   ],
   "source": [
    "# Reading in most recent data\n",
    "stock_data = pd.read_csv('data/CompletedData.csv')\n",
    "stock_data.drop(['Unnamed: 0'], axis = 1, inplace = True)\n",
    "stock_data.dropna(inplace = True)\n",
    "stock_data.head()"
   ]
  },
  {
   "cell_type": "code",
   "execution_count": 10,
   "metadata": {},
   "outputs": [
    {
     "data": {
      "text/html": [
       "<div>\n",
       "<style scoped>\n",
       "    .dataframe tbody tr th:only-of-type {\n",
       "        vertical-align: middle;\n",
       "    }\n",
       "\n",
       "    .dataframe tbody tr th {\n",
       "        vertical-align: top;\n",
       "    }\n",
       "\n",
       "    .dataframe thead th {\n",
       "        text-align: right;\n",
       "    }\n",
       "</style>\n",
       "<table border=\"1\" class=\"dataframe\">\n",
       "  <thead>\n",
       "    <tr style=\"text-align: right;\">\n",
       "      <th></th>\n",
       "      <th>AveragePriceTarget</th>\n",
       "      <th>NumRatings</th>\n",
       "      <th>ClosingPrice</th>\n",
       "      <th>MarketCap</th>\n",
       "      <th>ExpectedGrowthRate</th>\n",
       "      <th>OverallRecommendation</th>\n",
       "      <th>ProjectedMarketCap</th>\n",
       "      <th>TotalRevenue</th>\n",
       "      <th>NormEBITDA</th>\n",
       "      <th>ReturnOnAssets</th>\n",
       "      <th>ChangeNormEBITDA</th>\n",
       "      <th>ChangeRevenue</th>\n",
       "      <th>OperatingCashFlow</th>\n",
       "      <th>ChangeOCF</th>\n",
       "    </tr>\n",
       "  </thead>\n",
       "  <tbody>\n",
       "    <tr>\n",
       "      <th>count</th>\n",
       "      <td>1945.000000</td>\n",
       "      <td>1945.000000</td>\n",
       "      <td>1945.000000</td>\n",
       "      <td>1.945000e+03</td>\n",
       "      <td>1945.000000</td>\n",
       "      <td>1945.000000</td>\n",
       "      <td>1.945000e+03</td>\n",
       "      <td>1.945000e+03</td>\n",
       "      <td>1.945000e+03</td>\n",
       "      <td>1945.000000</td>\n",
       "      <td>1.945000e+03</td>\n",
       "      <td>1.945000e+03</td>\n",
       "      <td>1.945000e+03</td>\n",
       "      <td>1.945000e+03</td>\n",
       "    </tr>\n",
       "    <tr>\n",
       "      <th>mean</th>\n",
       "      <td>74.216329</td>\n",
       "      <td>9.573265</td>\n",
       "      <td>62.437311</td>\n",
       "      <td>9.412715e+09</td>\n",
       "      <td>0.392974</td>\n",
       "      <td>0.788175</td>\n",
       "      <td>1.099520e+10</td>\n",
       "      <td>4.109402e+09</td>\n",
       "      <td>7.962129e+08</td>\n",
       "      <td>-0.020698</td>\n",
       "      <td>3.504065e+07</td>\n",
       "      <td>4.854726e+08</td>\n",
       "      <td>5.613016e+08</td>\n",
       "      <td>2.675059e+06</td>\n",
       "    </tr>\n",
       "    <tr>\n",
       "      <th>std</th>\n",
       "      <td>140.557936</td>\n",
       "      <td>4.691940</td>\n",
       "      <td>128.272359</td>\n",
       "      <td>1.850647e+10</td>\n",
       "      <td>0.413331</td>\n",
       "      <td>0.408707</td>\n",
       "      <td>2.066704e+10</td>\n",
       "      <td>7.251109e+09</td>\n",
       "      <td>1.481109e+09</td>\n",
       "      <td>0.182612</td>\n",
       "      <td>1.406330e+08</td>\n",
       "      <td>1.030938e+09</td>\n",
       "      <td>1.067708e+09</td>\n",
       "      <td>1.025702e+08</td>\n",
       "    </tr>\n",
       "    <tr>\n",
       "      <th>min</th>\n",
       "      <td>0.600000</td>\n",
       "      <td>4.000000</td>\n",
       "      <td>0.390000</td>\n",
       "      <td>2.959104e+07</td>\n",
       "      <td>-0.151000</td>\n",
       "      <td>0.000000</td>\n",
       "      <td>4.259801e+07</td>\n",
       "      <td>0.000000e+00</td>\n",
       "      <td>-9.360000e+08</td>\n",
       "      <td>-1.000000</td>\n",
       "      <td>-4.180000e+08</td>\n",
       "      <td>-1.514000e+09</td>\n",
       "      <td>-5.137450e+08</td>\n",
       "      <td>-1.710000e+09</td>\n",
       "    </tr>\n",
       "    <tr>\n",
       "      <th>25%</th>\n",
       "      <td>15.500000</td>\n",
       "      <td>6.000000</td>\n",
       "      <td>10.730000</td>\n",
       "      <td>9.377692e+08</td>\n",
       "      <td>0.121000</td>\n",
       "      <td>1.000000</td>\n",
       "      <td>1.405625e+09</td>\n",
       "      <td>3.480850e+08</td>\n",
       "      <td>-1.026871e+07</td>\n",
       "      <td>-0.043340</td>\n",
       "      <td>0.000000e+00</td>\n",
       "      <td>1.528700e+07</td>\n",
       "      <td>-8.415000e+06</td>\n",
       "      <td>0.000000e+00</td>\n",
       "    </tr>\n",
       "    <tr>\n",
       "      <th>50%</th>\n",
       "      <td>36.580000</td>\n",
       "      <td>8.000000</td>\n",
       "      <td>28.310000</td>\n",
       "      <td>2.818498e+09</td>\n",
       "      <td>0.256000</td>\n",
       "      <td>1.000000</td>\n",
       "      <td>3.642117e+09</td>\n",
       "      <td>1.356660e+09</td>\n",
       "      <td>2.406280e+08</td>\n",
       "      <td>0.027930</td>\n",
       "      <td>0.000000e+00</td>\n",
       "      <td>1.302310e+08</td>\n",
       "      <td>1.683100e+08</td>\n",
       "      <td>0.000000e+00</td>\n",
       "    </tr>\n",
       "    <tr>\n",
       "      <th>75%</th>\n",
       "      <td>85.000000</td>\n",
       "      <td>13.000000</td>\n",
       "      <td>71.190000</td>\n",
       "      <td>8.396930e+09</td>\n",
       "      <td>0.510000</td>\n",
       "      <td>1.000000</td>\n",
       "      <td>1.015952e+10</td>\n",
       "      <td>4.581100e+09</td>\n",
       "      <td>9.306570e+08</td>\n",
       "      <td>0.065240</td>\n",
       "      <td>9.199000e+06</td>\n",
       "      <td>5.360000e+08</td>\n",
       "      <td>6.257270e+08</td>\n",
       "      <td>0.000000e+00</td>\n",
       "    </tr>\n",
       "    <tr>\n",
       "      <th>max</th>\n",
       "      <td>2800.000000</td>\n",
       "      <td>20.000000</td>\n",
       "      <td>2615.600000</td>\n",
       "      <td>1.972006e+11</td>\n",
       "      <td>1.991000</td>\n",
       "      <td>1.000000</td>\n",
       "      <td>2.271751e+11</td>\n",
       "      <td>1.091200e+11</td>\n",
       "      <td>1.257500e+10</td>\n",
       "      <td>0.238460</td>\n",
       "      <td>1.309928e+09</td>\n",
       "      <td>8.335000e+09</td>\n",
       "      <td>7.762000e+09</td>\n",
       "      <td>2.518713e+09</td>\n",
       "    </tr>\n",
       "  </tbody>\n",
       "</table>\n",
       "</div>"
      ],
      "text/plain": [
       "       AveragePriceTarget   NumRatings  ClosingPrice     MarketCap  \\\n",
       "count         1945.000000  1945.000000   1945.000000  1.945000e+03   \n",
       "mean            74.216329     9.573265     62.437311  9.412715e+09   \n",
       "std            140.557936     4.691940    128.272359  1.850647e+10   \n",
       "min              0.600000     4.000000      0.390000  2.959104e+07   \n",
       "25%             15.500000     6.000000     10.730000  9.377692e+08   \n",
       "50%             36.580000     8.000000     28.310000  2.818498e+09   \n",
       "75%             85.000000    13.000000     71.190000  8.396930e+09   \n",
       "max           2800.000000    20.000000   2615.600000  1.972006e+11   \n",
       "\n",
       "       ExpectedGrowthRate  OverallRecommendation  ProjectedMarketCap  \\\n",
       "count         1945.000000            1945.000000        1.945000e+03   \n",
       "mean             0.392974               0.788175        1.099520e+10   \n",
       "std              0.413331               0.408707        2.066704e+10   \n",
       "min             -0.151000               0.000000        4.259801e+07   \n",
       "25%              0.121000               1.000000        1.405625e+09   \n",
       "50%              0.256000               1.000000        3.642117e+09   \n",
       "75%              0.510000               1.000000        1.015952e+10   \n",
       "max              1.991000               1.000000        2.271751e+11   \n",
       "\n",
       "       TotalRevenue    NormEBITDA  ReturnOnAssets  ChangeNormEBITDA  \\\n",
       "count  1.945000e+03  1.945000e+03     1945.000000      1.945000e+03   \n",
       "mean   4.109402e+09  7.962129e+08       -0.020698      3.504065e+07   \n",
       "std    7.251109e+09  1.481109e+09        0.182612      1.406330e+08   \n",
       "min    0.000000e+00 -9.360000e+08       -1.000000     -4.180000e+08   \n",
       "25%    3.480850e+08 -1.026871e+07       -0.043340      0.000000e+00   \n",
       "50%    1.356660e+09  2.406280e+08        0.027930      0.000000e+00   \n",
       "75%    4.581100e+09  9.306570e+08        0.065240      9.199000e+06   \n",
       "max    1.091200e+11  1.257500e+10        0.238460      1.309928e+09   \n",
       "\n",
       "       ChangeRevenue  OperatingCashFlow     ChangeOCF  \n",
       "count   1.945000e+03       1.945000e+03  1.945000e+03  \n",
       "mean    4.854726e+08       5.613016e+08  2.675059e+06  \n",
       "std     1.030938e+09       1.067708e+09  1.025702e+08  \n",
       "min    -1.514000e+09      -5.137450e+08 -1.710000e+09  \n",
       "25%     1.528700e+07      -8.415000e+06  0.000000e+00  \n",
       "50%     1.302310e+08       1.683100e+08  0.000000e+00  \n",
       "75%     5.360000e+08       6.257270e+08  0.000000e+00  \n",
       "max     8.335000e+09       7.762000e+09  2.518713e+09  "
      ]
     },
     "execution_count": 10,
     "metadata": {},
     "output_type": "execute_result"
    }
   ],
   "source": [
    "stock_data.describe()"
   ]
  },
  {
   "cell_type": "code",
   "execution_count": 5,
   "metadata": {},
   "outputs": [
    {
     "name": "stdout",
     "output_type": "stream",
     "text": [
      "<class 'pandas.core.frame.DataFrame'>\n",
      "Int64Index: 2135 entries, 0 to 2135\n",
      "Data columns (total 16 columns):\n",
      " #   Column                 Non-Null Count  Dtype  \n",
      "---  ------                 --------------  -----  \n",
      " 0   Ticker                 2135 non-null   object \n",
      " 1   AveragePriceTarget     2135 non-null   float64\n",
      " 2   NumRatings             2135 non-null   int64  \n",
      " 3   ClosingPrice           2135 non-null   float64\n",
      " 4   MarketCap              2135 non-null   float64\n",
      " 5   ExpectedGrowthRate     2135 non-null   float64\n",
      " 6   OverallRecommendation  2135 non-null   int64  \n",
      " 7   ProjectedMarketCap     2135 non-null   float64\n",
      " 8   TotalRevenue           2135 non-null   float64\n",
      " 9   NormEBITDA             2135 non-null   float64\n",
      " 10  ReturnOnAssets         2135 non-null   float64\n",
      " 11  ChangeNormEBITDA       2135 non-null   float64\n",
      " 12  ChangeRevenue          2135 non-null   float64\n",
      " 13  OperatingCashFlow      2135 non-null   float64\n",
      " 14  ChangeOCF              2135 non-null   float64\n",
      " 15  Sector                 2135 non-null   object \n",
      "dtypes: float64(12), int64(2), object(2)\n",
      "memory usage: 283.6+ KB\n"
     ]
    }
   ],
   "source": [
    "stock_data.info()"
   ]
  },
  {
   "attachments": {},
   "cell_type": "markdown",
   "metadata": {},
   "source": [
    "We're now ready to set up our first model"
   ]
  },
  {
   "attachments": {},
   "cell_type": "markdown",
   "metadata": {},
   "source": [
    "### Random Forest Classifier"
   ]
  },
  {
   "cell_type": "code",
   "execution_count": 295,
   "metadata": {},
   "outputs": [],
   "source": [
    "modeling_df = stock_data[['Ticker', 'TotalRevenue', 'NormEBITDA', 'ReturnOnAssets','ChangeNormEBITDA','ChangeRevenue','OperatingCashFlow','ChangeOCF','OverallRecommendation']]\n",
    "modeling_df.set_index('Ticker', inplace = True)"
   ]
  },
  {
   "cell_type": "code",
   "execution_count": 296,
   "metadata": {},
   "outputs": [],
   "source": [
    "X = modeling_df.drop(['OverallRecommendation'], axis = 1)\n",
    "y = modeling_df['OverallRecommendation']\n",
    "X_train, X_test, y_train, y_test = train_test_split(X, y, test_size= 0.3, random_state= 42)"
   ]
  },
  {
   "cell_type": "code",
   "execution_count": 306,
   "metadata": {},
   "outputs": [],
   "source": [
    "# Smote to address class imbalance\n",
    "smt = SMOTE(random_state = 42)\n",
    "# Scaling Data\n",
    "ss = StandardScaler()\n",
    "# Principal Component Analysis to address Multicolinearity\n",
    "pca = PCA(n_components = 7)\n",
    "# Instantiate Model, Pipeline\n",
    "rfc = RandomForestClassifier(random_state = 42)\n",
    "rfc_pipeline = Pipeline([('smote', smt),('scaler', ss),('pca', pca), ('random_forest', rfc)])"
   ]
  },
  {
   "cell_type": "code",
   "execution_count": 314,
   "metadata": {},
   "outputs": [
    {
     "name": "stdout",
     "output_type": "stream",
     "text": [
      "0.8048780487804877\n"
     ]
    },
    {
     "data": {
      "text/plain": [
       "<sklearn.metrics._plot.confusion_matrix.ConfusionMatrixDisplay at 0x161f76128e0>"
      ]
     },
     "execution_count": 314,
     "metadata": {},
     "output_type": "execute_result"
    },
    {
     "data": {
      "image/png": "[encoded data removed]",
      "text/plain": [
       "<Figure size 640x480 with 2 Axes>"
      ]
     },
     "metadata": {},
     "output_type": "display_data"
    }
   ],
   "source": [
    "rfc_pipeline.fit(X_train, y_train)\n",
    "y_pred = rfc_pipeline.predict(X_test)\n",
    "f1 = f1_score(y_test, y_pred)\n",
    "print(f1)\n",
    "cm = confusion_matrix(y_true = y_test, y_pred = y_pred)\n",
    "ConfusionMatrixDisplay(cm, display_labels= ['Sell','Buy']).plot()"
   ]
  },
  {
   "attachments": {},
   "cell_type": "markdown",
   "metadata": {},
   "source": [
    "Hyper Parameter Tuning"
   ]
  },
  {
   "cell_type": "code",
   "execution_count": 308,
   "metadata": {},
   "outputs": [],
   "source": [
    "rfc_params = {'random_forest__max_depth': [5,10,15,20,25], 'random_forest__n_estimators': [45,50,55,60,65]}"
   ]
  },
  {
   "cell_type": "code",
   "execution_count": 309,
   "metadata": {},
   "outputs": [
    {
     "name": "stdout",
     "output_type": "stream",
     "text": [
      "Fitting 5 folds for each of 25 candidates, totalling 125 fits\n"
     ]
    },
    {
     "data": {
      "text/plain": [
       "GridSearchCV(cv=5,\n",
       "             estimator=Pipeline(steps=[('smote', SMOTE(random_state=42)),\n",
       "                                       ('scaler', StandardScaler()),\n",
       "                                       ('pca', PCA(n_components=7)),\n",
       "                                       ('random_forest',\n",
       "                                        RandomForestClassifier(random_state=42))]),\n",
       "             param_grid={'random_forest__max_depth': [5, 10, 15, 20, 25],\n",
       "                         'random_forest__n_estimators': [45, 50, 55, 60, 65]},\n",
       "             scoring='f1', verbose=1)"
      ]
     },
     "execution_count": 309,
     "metadata": {},
     "output_type": "execute_result"
    }
   ],
   "source": [
    "gs = GridSearchCV(rfc_pipeline, rfc_params, cv = 5, scoring = 'f1', verbose = 1)\n",
    "gs.fit(X_train,y_train)"
   ]
  },
  {
   "cell_type": "code",
   "execution_count": 310,
   "metadata": {},
   "outputs": [
    {
     "data": {
      "text/plain": [
       "{'random_forest__max_depth': 20, 'random_forest__n_estimators': 55}"
      ]
     },
     "execution_count": 310,
     "metadata": {},
     "output_type": "execute_result"
    }
   ],
   "source": [
    "gs.best_params_"
   ]
  },
  {
   "cell_type": "code",
   "execution_count": 311,
   "metadata": {},
   "outputs": [
    {
     "data": {
      "text/plain": [
       "0.7655829371001845"
      ]
     },
     "execution_count": 311,
     "metadata": {},
     "output_type": "execute_result"
    }
   ],
   "source": [
    "gs.best_score_"
   ]
  },
  {
   "attachments": {},
   "cell_type": "markdown",
   "metadata": {},
   "source": [
    "Updating Parameters"
   ]
  },
  {
   "cell_type": "code",
   "execution_count": 312,
   "metadata": {},
   "outputs": [],
   "source": [
    "rfc = RandomForestClassifier(max_depth = 20, n_estimators = 55, random_state = 42)\n",
    "rfc_pipeline = Pipeline([('smote', smt),('scaler', ss),('random_forest', rfc)])"
   ]
  },
  {
   "cell_type": "code",
   "execution_count": 313,
   "metadata": {},
   "outputs": [
    {
     "name": "stdout",
     "output_type": "stream",
     "text": [
      "0.7178026924980342\n"
     ]
    },
    {
     "data": {
      "text/plain": [
       "<sklearn.metrics._plot.confusion_matrix.ConfusionMatrixDisplay at 0x161f5cdffd0>"
      ]
     },
     "execution_count": 313,
     "metadata": {},
     "output_type": "execute_result"
    },
    {
     "data": {
      "image/png": "[encoded data removed]",
      "text/plain": [
       "<Figure size 640x480 with 2 Axes>"
      ]
     },
     "metadata": {},
     "output_type": "display_data"
    }
   ],
   "source": [
    "rfc_pipeline.fit(X_train, y_train)\n",
    "y_pred = rfc_pipeline.predict(X_test)\n",
    "f1 = f1_score(y_test, y_pred, average = 'weighted')\n",
    "print(f1)\n",
    "cm = confusion_matrix(y_true = y_test, y_pred = y_pred)\n",
    "ConfusionMatrixDisplay(cm, display_labels= ['Sell','Buy']).plot()"
   ]
  },
  {
   "attachments": {},
   "cell_type": "markdown",
   "metadata": {},
   "source": [
    "### Convolutional Neural Network"
   ]
  },
  {
   "attachments": {},
   "cell_type": "markdown",
   "metadata": {},
   "source": [
    "Preprocessing Data"
   ]
  },
  {
   "cell_type": "code",
   "execution_count": 315,
   "metadata": {},
   "outputs": [],
   "source": [
    "X_train, X_test, y_train, y_test = train_test_split(X, y, test_size= 0.3, random_state= 42)"
   ]
  },
  {
   "cell_type": "code",
   "execution_count": 316,
   "metadata": {},
   "outputs": [
    {
     "name": "stderr",
     "output_type": "stream",
     "text": [
      "c:\\Users\\cnade\\anaconda3\\lib\\site-packages\\sklearn\\base.py:450: UserWarning: X does not have valid feature names, but PCA was fitted with feature names\n",
      "  warnings.warn(\n"
     ]
    }
   ],
   "source": [
    "# Preparing Data\n",
    "scaler = StandardScaler()\n",
    "X_train_scaled = scaler.fit_transform(X_train)\n",
    "X_test_scaled = scaler.transform(X_test)\n",
    "\n",
    "# SMOTE\n",
    "smt = SMOTE(random_state=42)\n",
    "X_train_resampled, y_train_resampled = smt.fit_resample(X_train, y_train)\n",
    "\n",
    "# PCA\n",
    "pca = PCA(n_components = 5)\n",
    "X_train_ready = pca.fit_transform(X_train_resampled)\n",
    "X_test_ready = pca.transform(X_test_scaled)\n",
    "\n",
    "# Reshaping Data\n",
    "X_train_ready = X_train_resampled.values.reshape(X_train_resampled.shape[0], X_train_resampled.shape[1], 1)\n",
    "X_test_ready = X_test_scaled.reshape(X_test_scaled.shape[0], X_test_scaled.shape[1], 1)\n",
    "\n",
    "# Map labels to non-negative integers\n",
    "# Encode labels\n",
    "y_train_encoded = to_categorical(y_train_resampled)\n",
    "y_test_encoded = to_categorical(y_test)"
   ]
  },
  {
   "cell_type": "code",
   "execution_count": 317,
   "metadata": {},
   "outputs": [
    {
     "data": {
      "text/plain": [
       "(584, 7, 1)"
      ]
     },
     "execution_count": 317,
     "metadata": {},
     "output_type": "execute_result"
    }
   ],
   "source": [
    "X_test_ready.shape"
   ]
  },
  {
   "cell_type": "code",
   "execution_count": 318,
   "metadata": {},
   "outputs": [
    {
     "data": {
      "text/plain": [
       "(2116, 2)"
      ]
     },
     "execution_count": 318,
     "metadata": {},
     "output_type": "execute_result"
    }
   ],
   "source": [
    "y_train_encoded.shape"
   ]
  },
  {
   "cell_type": "code",
   "execution_count": 319,
   "metadata": {},
   "outputs": [],
   "source": [
    "# Creating F1 Score\n",
    "def recall_m(y_true, y_pred):\n",
    "    true_positives = K.sum(K.round(K.clip(y_true * y_pred, 0, 1)))\n",
    "    possible_positives = K.sum(K.round(K.clip(y_true, 0, 1)))\n",
    "    recall = true_positives / (possible_positives + K.epsilon())\n",
    "    return recall\n",
    "\n",
    "def precision_m(y_true, y_pred):\n",
    "    true_positives = K.sum(K.round(K.clip(y_true * y_pred, 0, 1)))\n",
    "    predicted_positives = K.sum(K.round(K.clip(y_pred, 0, 1)))\n",
    "    precision = true_positives / (predicted_positives + K.epsilon())\n",
    "    return precision\n",
    "\n",
    "def f1_m(y_true, y_pred):\n",
    "    precision = precision_m(y_true, y_pred)\n",
    "    recall = recall_m(y_true, y_pred)\n",
    "    return 2*((precision*recall)/(precision+recall+K.epsilon()))"
   ]
  },
  {
   "cell_type": "code",
   "execution_count": 320,
   "metadata": {},
   "outputs": [],
   "source": [
    "# Creating Neural Network Function\n",
    "def create_classification_model(dropout_rate=0.2, l2_weight=0.001, batch_size=32, epochs=10):\n",
    "    model = Sequential()\n",
    "    model.add(Conv1D(32, kernel_size=3, activation='relu', input_shape=(X_train_ready.shape[1],1), kernel_regularizer=l2(l2_weight)))\n",
    "    model.add(Dropout(dropout_rate))\n",
    "    model.add(Flatten())\n",
    "    model.add(Dense(128, activation='relu', kernel_regularizer=l2(l2_weight)))\n",
    "    model.add(Dropout(dropout_rate))\n",
    "    model.add(Dense(2, activation='softmax', kernel_regularizer=l2(l2_weight)))\n",
    "    model.compile(loss='binary_crossentropy', optimizer='adam', metrics=[f1_m])\n",
    "    return model"
   ]
  },
  {
   "cell_type": "code",
   "execution_count": 324,
   "metadata": {},
   "outputs": [
    {
     "name": "stdout",
     "output_type": "stream",
     "text": [
      "Epoch 1/25\n",
      "19/19 [==============================] - 3s 30ms/step - loss: 0.7471 - f1_m: 0.7566 - val_loss: 0.6526 - val_f1_m: 0.8207\n",
      "Epoch 2/25\n",
      "19/19 [==============================] - 0s 11ms/step - loss: 0.6299 - f1_m: 0.8109 - val_loss: 0.6008 - val_f1_m: 0.8207\n",
      "Epoch 3/25\n",
      "19/19 [==============================] - 0s 11ms/step - loss: 0.5949 - f1_m: 0.8010 - val_loss: 0.5777 - val_f1_m: 0.8207\n",
      "Epoch 4/25\n",
      "19/19 [==============================] - 0s 10ms/step - loss: 0.5755 - f1_m: 0.8158 - val_loss: 0.5624 - val_f1_m: 0.8207\n",
      "Epoch 5/25\n",
      "19/19 [==============================] - 0s 11ms/step - loss: 0.5589 - f1_m: 0.8191 - val_loss: 0.5473 - val_f1_m: 0.8224\n",
      "Epoch 6/25\n",
      "19/19 [==============================] - 0s 11ms/step - loss: 0.5564 - f1_m: 0.8158 - val_loss: 0.5366 - val_f1_m: 0.8207\n",
      "Epoch 7/25\n",
      "19/19 [==============================] - 0s 11ms/step - loss: 0.5448 - f1_m: 0.8224 - val_loss: 0.5277 - val_f1_m: 0.8240\n",
      "Epoch 8/25\n",
      "19/19 [==============================] - 0s 11ms/step - loss: 0.5339 - f1_m: 0.8125 - val_loss: 0.5207 - val_f1_m: 0.8207\n",
      "Epoch 9/25\n",
      "19/19 [==============================] - 0s 11ms/step - loss: 0.5233 - f1_m: 0.8043 - val_loss: 0.5146 - val_f1_m: 0.8257\n",
      "Epoch 10/25\n",
      "19/19 [==============================] - 0s 12ms/step - loss: 0.5118 - f1_m: 0.8076 - val_loss: 0.5065 - val_f1_m: 0.8273\n",
      "Epoch 11/25\n",
      "19/19 [==============================] - 0s 11ms/step - loss: 0.5131 - f1_m: 0.8125 - val_loss: 0.5018 - val_f1_m: 0.8273\n",
      "Epoch 12/25\n",
      "19/19 [==============================] - 0s 10ms/step - loss: 0.5032 - f1_m: 0.8174 - val_loss: 0.4967 - val_f1_m: 0.8257\n",
      "Epoch 13/25\n",
      "19/19 [==============================] - 0s 9ms/step - loss: 0.5003 - f1_m: 0.8207 - val_loss: 0.4927 - val_f1_m: 0.8273\n",
      "Epoch 14/25\n",
      "19/19 [==============================] - 0s 9ms/step - loss: 0.4985 - f1_m: 0.8125 - val_loss: 0.4882 - val_f1_m: 0.8289\n",
      "Epoch 15/25\n",
      "19/19 [==============================] - 0s 9ms/step - loss: 0.4991 - f1_m: 0.8191 - val_loss: 0.4859 - val_f1_m: 0.8273\n",
      "Epoch 16/25\n",
      "19/19 [==============================] - 0s 9ms/step - loss: 0.4933 - f1_m: 0.8207 - val_loss: 0.4827 - val_f1_m: 0.8289\n",
      "Epoch 17/25\n",
      "19/19 [==============================] - 0s 10ms/step - loss: 0.4948 - f1_m: 0.8224 - val_loss: 0.4800 - val_f1_m: 0.8289\n",
      "Epoch 18/25\n",
      "19/19 [==============================] - 0s 10ms/step - loss: 0.4839 - f1_m: 0.8289 - val_loss: 0.4778 - val_f1_m: 0.8289\n",
      "Epoch 19/25\n",
      "19/19 [==============================] - 0s 9ms/step - loss: 0.4871 - f1_m: 0.8109 - val_loss: 0.4753 - val_f1_m: 0.8273\n",
      "Epoch 20/25\n",
      "19/19 [==============================] - 0s 9ms/step - loss: 0.4879 - f1_m: 0.8158 - val_loss: 0.4742 - val_f1_m: 0.8289\n",
      "Epoch 21/25\n",
      "19/19 [==============================] - 0s 13ms/step - loss: 0.4817 - f1_m: 0.8141 - val_loss: 0.4714 - val_f1_m: 0.8289\n",
      "Epoch 22/25\n",
      "19/19 [==============================] - 0s 9ms/step - loss: 0.4735 - f1_m: 0.8207 - val_loss: 0.4701 - val_f1_m: 0.8273\n",
      "Epoch 23/25\n",
      "19/19 [==============================] - 0s 10ms/step - loss: 0.4794 - f1_m: 0.8109 - val_loss: 0.4678 - val_f1_m: 0.8289\n",
      "Epoch 24/25\n",
      "19/19 [==============================] - 0s 10ms/step - loss: 0.4757 - f1_m: 0.8207 - val_loss: 0.4665 - val_f1_m: 0.8289\n",
      "Epoch 25/25\n",
      "19/19 [==============================] - 0s 9ms/step - loss: 0.4762 - f1_m: 0.8224 - val_loss: 0.4649 - val_f1_m: 0.8289\n"
     ]
    },
    {
     "data": {
      "text/plain": [
       "<keras.callbacks.History at 0x1618245bee0>"
      ]
     },
     "execution_count": 324,
     "metadata": {},
     "output_type": "execute_result"
    }
   ],
   "source": [
    "model = create_classification_model()\n",
    "model.fit(X_train_ready, y_train_encoded, epochs=25, validation_data=(X_test_ready, y_test_encoded))"
   ]
  },
  {
   "attachments": {},
   "cell_type": "markdown",
   "metadata": {},
   "source": [
    "## Modeling for Expected Growth Rate"
   ]
  },
  {
   "cell_type": "code",
   "execution_count": 4,
   "metadata": {},
   "outputs": [],
   "source": [
    "modeling_growth_df = stock_data[['Ticker', 'TotalRevenue', 'NormEBITDA', 'ReturnOnAssets','ChangeNormEBITDA','ChangeRevenue','OperatingCashFlow','ChangeOCF', 'ExpectedGrowthRate', 'Sector']]\n",
    "modeling_growth_df.set_index('Ticker', inplace = True)"
   ]
  },
  {
   "cell_type": "code",
   "execution_count": 5,
   "metadata": {},
   "outputs": [],
   "source": [
    "X = modeling_growth_df.drop(['ExpectedGrowthRate', 'Sector'], axis = 1)\n",
    "y = modeling_growth_df['ExpectedGrowthRate']\n",
    "X_train, X_test, y_train, y_test = train_test_split(X, y, test_size= 0.25, random_state= 42)"
   ]
  },
  {
   "attachments": {},
   "cell_type": "markdown",
   "metadata": {},
   "source": [
    "#### Linear Regression Baseline Model"
   ]
  },
  {
   "cell_type": "code",
   "execution_count": 8,
   "metadata": {},
   "outputs": [
    {
     "name": "stdout",
     "output_type": "stream",
     "text": [
      "Root mean squared error: 0.4021873021021452\n"
     ]
    }
   ],
   "source": [
    "linreg_pipeline = Pipeline([\n",
    "    ('scaler', StandardScaler()),\n",
    "    ('regressor', LinearRegression())\n",
    "])\n",
    "\n",
    "# Fit pipeline to training data\n",
    "linreg_pipeline.fit(X_train, y_train)\n",
    "\n",
    "# Evaluate pipeline on testing data\n",
    "y_pred = linreg_pipeline.predict(X_test)\n",
    "mse = mean_squared_error(y_test, y_pred)\n",
    "rmse = np.sqrt(mse)\n",
    "print('Root mean squared error:', rmse)"
   ]
  },
  {
   "cell_type": "code",
   "execution_count": 17,
   "metadata": {},
   "outputs": [],
   "source": [
    "y_pred_mapped = np.where(y_pred < 0.1, 0, 1)\n",
    "y_test_mapped = np.where(y_test < 0.1, 0, 1)"
   ]
  },
  {
   "cell_type": "code",
   "execution_count": 9,
   "metadata": {},
   "outputs": [
    {
     "data": {
      "image/png": "[encoded data removed]",
      "text/plain": [
       "<Figure size 640x480 with 1 Axes>"
      ]
     },
     "metadata": {},
     "output_type": "display_data"
    }
   ],
   "source": [
    "plt.scatter(y_test, y_pred)\n",
    "plt.xlabel('Actual Expected Growth Rate')\n",
    "plt.ylabel('Predicted Expected Growth Rate')\n",
    "plt.title('Actual vs Predicted Expected Growth Rates- Linear Regression')\n",
    "plt.text(1.5,1, 'RMSE = 0.4022')\n",
    "plt.show()"
   ]
  },
  {
   "attachments": {},
   "cell_type": "markdown",
   "metadata": {},
   "source": [
    "### Neural Network P2- A Feedforward Neural Network"
   ]
  },
  {
   "cell_type": "code",
   "execution_count": 10,
   "metadata": {},
   "outputs": [],
   "source": [
    "# Preparing Data\n",
    "scaler = StandardScaler()\n",
    "X_train_scaled = scaler.fit_transform(X_train)\n",
    "X_test_scaled = scaler.transform(X_test)\n",
    "\n",
    "# Reshaping Data\n",
    "X_train_ready = X_train_scaled.reshape(X_train_scaled.shape[0], X_train_scaled.shape[1], 1)\n",
    "X_test_ready = X_test_scaled.reshape(X_test_scaled.shape[0], X_test_scaled.shape[1], 1)"
   ]
  },
  {
   "cell_type": "code",
   "execution_count": 11,
   "metadata": {},
   "outputs": [],
   "source": [
    "def create_continuous_model(dropout_rate=0.2, l2_weight=0.001, batch_size=32, epochs=10):\n",
    "    model = Sequential()\n",
    "#    model.add(Conv1D(32, kernel_size=3, activation='relu', input_shape=(X_train_ready.shape[1],1), kernel_regularizer=l2(l2_weight)))\n",
    "    model.add(Dropout(dropout_rate))\n",
    "    model.add(Flatten())\n",
    "    model.add(Dense(128, activation='relu', kernel_regularizer=l2(l2_weight)))\n",
    "    model.add(Dropout(dropout_rate))\n",
    "    model.add(Dense(1, activation='linear', kernel_regularizer=l2(l2_weight)))\n",
    "    model.compile(loss='mean_squared_error', optimizer='adam', metrics=['mse'])\n",
    "    return model"
   ]
  },
  {
   "cell_type": "code",
   "execution_count": 37,
   "metadata": {},
   "outputs": [
    {
     "name": "stdout",
     "output_type": "stream",
     "text": [
      "Epoch 1/25\n",
      "46/46 [==============================] - 2s 11ms/step - loss: 0.2258 - mse: 0.2106 - val_loss: 0.1724 - val_mse: 0.1575\n",
      "Epoch 2/25\n",
      "46/46 [==============================] - 0s 6ms/step - loss: 0.1806 - mse: 0.1659 - val_loss: 0.1637 - val_mse: 0.1493\n",
      "Epoch 3/25\n",
      "46/46 [==============================] - 0s 6ms/step - loss: 0.1676 - mse: 0.1534 - val_loss: 0.1620 - val_mse: 0.1480\n",
      "Epoch 4/25\n",
      "46/46 [==============================] - 0s 5ms/step - loss: 0.1653 - mse: 0.1517 - val_loss: 0.1531 - val_mse: 0.1397\n",
      "Epoch 5/25\n",
      "46/46 [==============================] - 0s 6ms/step - loss: 0.1662 - mse: 0.1531 - val_loss: 0.1507 - val_mse: 0.1378\n",
      "Epoch 6/25\n",
      "46/46 [==============================] - 0s 5ms/step - loss: 0.1507 - mse: 0.1380 - val_loss: 0.1493 - val_mse: 0.1368\n",
      "Epoch 7/25\n",
      "46/46 [==============================] - 0s 5ms/step - loss: 0.1480 - mse: 0.1357 - val_loss: 0.1509 - val_mse: 0.1388\n",
      "Epoch 8/25\n",
      "46/46 [==============================] - 0s 6ms/step - loss: 0.1476 - mse: 0.1357 - val_loss: 0.1509 - val_mse: 0.1392\n",
      "Epoch 9/25\n",
      "46/46 [==============================] - 0s 6ms/step - loss: 0.1548 - mse: 0.1432 - val_loss: 0.1508 - val_mse: 0.1394\n",
      "Epoch 10/25\n",
      "46/46 [==============================] - 0s 6ms/step - loss: 0.1448 - mse: 0.1336 - val_loss: 0.1543 - val_mse: 0.1432\n",
      "Epoch 11/25\n",
      "46/46 [==============================] - 0s 5ms/step - loss: 0.1618 - mse: 0.1509 - val_loss: 0.1514 - val_mse: 0.1407\n",
      "Epoch 12/25\n",
      "46/46 [==============================] - 0s 5ms/step - loss: 0.1434 - mse: 0.1329 - val_loss: 0.1480 - val_mse: 0.1376\n",
      "Epoch 13/25\n",
      "46/46 [==============================] - 0s 5ms/step - loss: 0.1402 - mse: 0.1298 - val_loss: 0.1495 - val_mse: 0.1393\n",
      "Epoch 14/25\n",
      "46/46 [==============================] - 0s 5ms/step - loss: 0.1427 - mse: 0.1326 - val_loss: 0.1482 - val_mse: 0.1383\n",
      "Epoch 15/25\n",
      "46/46 [==============================] - 0s 5ms/step - loss: 0.1404 - mse: 0.1306 - val_loss: 0.1455 - val_mse: 0.1357\n",
      "Epoch 16/25\n",
      "46/46 [==============================] - 0s 5ms/step - loss: 0.1364 - mse: 0.1268 - val_loss: 0.1495 - val_mse: 0.1400\n",
      "Epoch 17/25\n",
      "46/46 [==============================] - 0s 5ms/step - loss: 0.1349 - mse: 0.1256 - val_loss: 0.1457 - val_mse: 0.1364\n",
      "Epoch 18/25\n",
      "46/46 [==============================] - 0s 5ms/step - loss: 0.1339 - mse: 0.1248 - val_loss: 0.1473 - val_mse: 0.1383\n",
      "Epoch 19/25\n",
      "46/46 [==============================] - 0s 5ms/step - loss: 0.1327 - mse: 0.1238 - val_loss: 0.1438 - val_mse: 0.1350\n",
      "Epoch 20/25\n",
      "46/46 [==============================] - 0s 5ms/step - loss: 0.1286 - mse: 0.1199 - val_loss: 0.1487 - val_mse: 0.1401\n",
      "Epoch 21/25\n",
      "46/46 [==============================] - 0s 5ms/step - loss: 0.1285 - mse: 0.1200 - val_loss: 0.1422 - val_mse: 0.1338\n",
      "Epoch 22/25\n",
      "46/46 [==============================] - 0s 5ms/step - loss: 0.1352 - mse: 0.1269 - val_loss: 0.1435 - val_mse: 0.1353\n",
      "Epoch 23/25\n",
      "46/46 [==============================] - 0s 5ms/step - loss: 0.1325 - mse: 0.1243 - val_loss: 0.1468 - val_mse: 0.1388\n",
      "Epoch 24/25\n",
      "46/46 [==============================] - 0s 5ms/step - loss: 0.1282 - mse: 0.1203 - val_loss: 0.1457 - val_mse: 0.1378\n",
      "Epoch 25/25\n",
      "46/46 [==============================] - 0s 5ms/step - loss: 0.1260 - mse: 0.1183 - val_loss: 0.1428 - val_mse: 0.1351\n"
     ]
    },
    {
     "data": {
      "text/plain": [
       "<keras.callbacks.History at 0x290fb0cb1c0>"
      ]
     },
     "execution_count": 37,
     "metadata": {},
     "output_type": "execute_result"
    }
   ],
   "source": [
    "model = create_continuous_model()\n",
    "model.fit(X_train_ready, y_train, epochs = 25, batch_size = 32, validation_data=[X_test_ready, y_test])"
   ]
  },
  {
   "cell_type": "code",
   "execution_count": 38,
   "metadata": {},
   "outputs": [
    {
     "name": "stdout",
     "output_type": "stream",
     "text": [
      "16/16 [==============================] - 0s 2ms/step\n"
     ]
    }
   ],
   "source": [
    "y_pred = model.predict(X_test_ready)"
   ]
  },
  {
   "cell_type": "code",
   "execution_count": 39,
   "metadata": {},
   "outputs": [],
   "source": [
    "y_pred = pd.Series(y_pred.flatten())"
   ]
  },
  {
   "cell_type": "code",
   "execution_count": 40,
   "metadata": {},
   "outputs": [
    {
     "name": "stdout",
     "output_type": "stream",
     "text": [
      "Root mean squared error: 0.3675623037070377\n"
     ]
    }
   ],
   "source": [
    "mse = mean_squared_error(y_test, y_pred)\n",
    "rmse = np.sqrt(mse)\n",
    "print('Root mean squared error:', rmse)"
   ]
  },
  {
   "cell_type": "code",
   "execution_count": 42,
   "metadata": {},
   "outputs": [
    {
     "data": {
      "image/png": "[encoded data removed]",
      "text/plain": [
       "<Figure size 640x480 with 1 Axes>"
      ]
     },
     "metadata": {},
     "output_type": "display_data"
    }
   ],
   "source": [
    "plt.scatter(y_test, y_pred)\n",
    "plt.xlabel('Actual Expected Growth Rate')\n",
    "plt.ylabel('Predicted Expected Growth Rate')\n",
    "plt.title('Actual vs Predicted Growth Rates- Feed Forward Neural Network')\n",
    "#plt.legend(['RMSE: {:.4f}'.format(mse)])\n",
    "plt.text(1.5,0.08, 'RMSE = 0.3676')\n",
    "plt.show()"
   ]
  },
  {
   "attachments": {},
   "cell_type": "markdown",
   "metadata": {},
   "source": [
    "#### Breaking Down Sector Performance"
   ]
  },
  {
   "cell_type": "code",
   "execution_count": 22,
   "metadata": {},
   "outputs": [],
   "source": [
    "y_pred.name = 'ProjectedGrowthRate'\n",
    "y_pred.index = y_test.index"
   ]
  },
  {
   "cell_type": "code",
   "execution_count": 23,
   "metadata": {},
   "outputs": [
    {
     "data": {
      "text/plain": [
       "Ticker\n",
       "A               Healthcare\n",
       "AA         Basic Materials\n",
       "AAN            Industrials\n",
       "AAOI            Technology\n",
       "AAP      Consumer Cyclical\n",
       "               ...        \n",
       "ZS              Technology\n",
       "ZTS             Healthcare\n",
       "ZVIA    Consumer Defensive\n",
       "ZWS            Industrials\n",
       "ZYXI            Healthcare\n",
       "Name: Sector, Length: 1945, dtype: object"
      ]
     },
     "execution_count": 23,
     "metadata": {},
     "output_type": "execute_result"
    }
   ],
   "source": [
    "sector_series = modeling_growth_df['Sector']\n",
    "sector_series"
   ]
  },
  {
   "cell_type": "code",
   "execution_count": 24,
   "metadata": {},
   "outputs": [],
   "source": [
    "Merged_Predictions = pd.concat([y_test, y_pred], axis=1)\n",
    "\n",
    "Merged_Predictions_With_Sector = Merged_Predictions.join(sector_series, how = 'inner')"
   ]
  },
  {
   "cell_type": "code",
   "execution_count": 25,
   "metadata": {},
   "outputs": [
    {
     "data": {
      "text/html": [
       "<div>\n",
       "<style scoped>\n",
       "    .dataframe tbody tr th:only-of-type {\n",
       "        vertical-align: middle;\n",
       "    }\n",
       "\n",
       "    .dataframe tbody tr th {\n",
       "        vertical-align: top;\n",
       "    }\n",
       "\n",
       "    .dataframe thead th {\n",
       "        text-align: right;\n",
       "    }\n",
       "</style>\n",
       "<table border=\"1\" class=\"dataframe\">\n",
       "  <thead>\n",
       "    <tr style=\"text-align: right;\">\n",
       "      <th></th>\n",
       "      <th>ExpectedGrowthRate</th>\n",
       "      <th>ProjectedGrowthRate</th>\n",
       "      <th>Sector</th>\n",
       "    </tr>\n",
       "    <tr>\n",
       "      <th>Ticker</th>\n",
       "      <th></th>\n",
       "      <th></th>\n",
       "      <th></th>\n",
       "    </tr>\n",
       "  </thead>\n",
       "  <tbody>\n",
       "    <tr>\n",
       "      <th>SPGI</th>\n",
       "      <td>0.164</td>\n",
       "      <td>0.122456</td>\n",
       "      <td>Financial Services</td>\n",
       "    </tr>\n",
       "    <tr>\n",
       "      <th>PRVB</th>\n",
       "      <td>0.029</td>\n",
       "      <td>0.809790</td>\n",
       "      <td>Healthcare</td>\n",
       "    </tr>\n",
       "    <tr>\n",
       "      <th>KEYS</th>\n",
       "      <td>0.212</td>\n",
       "      <td>0.158705</td>\n",
       "      <td>Technology</td>\n",
       "    </tr>\n",
       "    <tr>\n",
       "      <th>LTHM</th>\n",
       "      <td>0.480</td>\n",
       "      <td>0.248114</td>\n",
       "      <td>Basic Materials</td>\n",
       "    </tr>\n",
       "    <tr>\n",
       "      <th>CAKE</th>\n",
       "      <td>0.098</td>\n",
       "      <td>0.289121</td>\n",
       "      <td>Consumer Cyclical</td>\n",
       "    </tr>\n",
       "    <tr>\n",
       "      <th>...</th>\n",
       "      <td>...</td>\n",
       "      <td>...</td>\n",
       "      <td>...</td>\n",
       "    </tr>\n",
       "    <tr>\n",
       "      <th>MANH</th>\n",
       "      <td>0.080</td>\n",
       "      <td>0.256197</td>\n",
       "      <td>Technology</td>\n",
       "    </tr>\n",
       "    <tr>\n",
       "      <th>PANW</th>\n",
       "      <td>0.184</td>\n",
       "      <td>0.293648</td>\n",
       "      <td>Technology</td>\n",
       "    </tr>\n",
       "    <tr>\n",
       "      <th>CDNA</th>\n",
       "      <td>0.515</td>\n",
       "      <td>0.544227</td>\n",
       "      <td>Healthcare</td>\n",
       "    </tr>\n",
       "    <tr>\n",
       "      <th>HXL</th>\n",
       "      <td>0.028</td>\n",
       "      <td>0.294093</td>\n",
       "      <td>Industrials</td>\n",
       "    </tr>\n",
       "    <tr>\n",
       "      <th>NRDY</th>\n",
       "      <td>0.299</td>\n",
       "      <td>0.810647</td>\n",
       "      <td>Technology</td>\n",
       "    </tr>\n",
       "  </tbody>\n",
       "</table>\n",
       "<p>487 rows × 3 columns</p>\n",
       "</div>"
      ],
      "text/plain": [
       "        ExpectedGrowthRate  ProjectedGrowthRate              Sector\n",
       "Ticker                                                             \n",
       "SPGI                 0.164             0.122456  Financial Services\n",
       "PRVB                 0.029             0.809790          Healthcare\n",
       "KEYS                 0.212             0.158705          Technology\n",
       "LTHM                 0.480             0.248114     Basic Materials\n",
       "CAKE                 0.098             0.289121   Consumer Cyclical\n",
       "...                    ...                  ...                 ...\n",
       "MANH                 0.080             0.256197          Technology\n",
       "PANW                 0.184             0.293648          Technology\n",
       "CDNA                 0.515             0.544227          Healthcare\n",
       "HXL                  0.028             0.294093         Industrials\n",
       "NRDY                 0.299             0.810647          Technology\n",
       "\n",
       "[487 rows x 3 columns]"
      ]
     },
     "execution_count": 25,
     "metadata": {},
     "output_type": "execute_result"
    }
   ],
   "source": [
    "Merged_Predictions_With_Sector"
   ]
  },
  {
   "attachments": {},
   "cell_type": "markdown",
   "metadata": {},
   "source": [
    "Calculating Residuals"
   ]
  },
  {
   "cell_type": "code",
   "execution_count": 26,
   "metadata": {},
   "outputs": [],
   "source": [
    "Merged_Predictions_With_Sector['Residual Magnitude'] = np.absolute((Merged_Predictions_With_Sector['ExpectedGrowthRate'] - Merged_Predictions_With_Sector['ProjectedGrowthRate']))"
   ]
  },
  {
   "attachments": {},
   "cell_type": "markdown",
   "metadata": {},
   "source": [
    "Grouping by Sector, finding mean"
   ]
  },
  {
   "cell_type": "code",
   "execution_count": 35,
   "metadata": {},
   "outputs": [
    {
     "data": {
      "text/html": [
       "<div>\n",
       "<style scoped>\n",
       "    .dataframe tbody tr th:only-of-type {\n",
       "        vertical-align: middle;\n",
       "    }\n",
       "\n",
       "    .dataframe tbody tr th {\n",
       "        vertical-align: top;\n",
       "    }\n",
       "\n",
       "    .dataframe thead th {\n",
       "        text-align: right;\n",
       "    }\n",
       "</style>\n",
       "<table border=\"1\" class=\"dataframe\">\n",
       "  <thead>\n",
       "    <tr style=\"text-align: right;\">\n",
       "      <th></th>\n",
       "      <th>Sector</th>\n",
       "      <th>Residual Magnitude</th>\n",
       "    </tr>\n",
       "  </thead>\n",
       "  <tbody>\n",
       "    <tr>\n",
       "      <th>0</th>\n",
       "      <td>Basic Materials</td>\n",
       "      <td>0.160588</td>\n",
       "    </tr>\n",
       "    <tr>\n",
       "      <th>1</th>\n",
       "      <td>Communication Services</td>\n",
       "      <td>0.380602</td>\n",
       "    </tr>\n",
       "    <tr>\n",
       "      <th>2</th>\n",
       "      <td>Consumer Cyclical</td>\n",
       "      <td>0.178745</td>\n",
       "    </tr>\n",
       "    <tr>\n",
       "      <th>3</th>\n",
       "      <td>Consumer Defensive</td>\n",
       "      <td>0.198039</td>\n",
       "    </tr>\n",
       "    <tr>\n",
       "      <th>4</th>\n",
       "      <td>Energy</td>\n",
       "      <td>0.183484</td>\n",
       "    </tr>\n",
       "    <tr>\n",
       "      <th>5</th>\n",
       "      <td>Financial Services</td>\n",
       "      <td>0.163208</td>\n",
       "    </tr>\n",
       "    <tr>\n",
       "      <th>6</th>\n",
       "      <td>Healthcare</td>\n",
       "      <td>0.410051</td>\n",
       "    </tr>\n",
       "    <tr>\n",
       "      <th>7</th>\n",
       "      <td>Industrials</td>\n",
       "      <td>0.172552</td>\n",
       "    </tr>\n",
       "    <tr>\n",
       "      <th>8</th>\n",
       "      <td>Real Estate</td>\n",
       "      <td>0.133369</td>\n",
       "    </tr>\n",
       "    <tr>\n",
       "      <th>9</th>\n",
       "      <td>Technology</td>\n",
       "      <td>0.294108</td>\n",
       "    </tr>\n",
       "    <tr>\n",
       "      <th>10</th>\n",
       "      <td>Utilities</td>\n",
       "      <td>0.185357</td>\n",
       "    </tr>\n",
       "  </tbody>\n",
       "</table>\n",
       "</div>"
      ],
      "text/plain": [
       "                    Sector  Residual Magnitude\n",
       "0          Basic Materials            0.160588\n",
       "1   Communication Services            0.380602\n",
       "2        Consumer Cyclical            0.178745\n",
       "3       Consumer Defensive            0.198039\n",
       "4                   Energy            0.183484\n",
       "5       Financial Services            0.163208\n",
       "6               Healthcare            0.410051\n",
       "7              Industrials            0.172552\n",
       "8              Real Estate            0.133369\n",
       "9               Technology            0.294108\n",
       "10               Utilities            0.185357"
      ]
     },
     "execution_count": 35,
     "metadata": {},
     "output_type": "execute_result"
    }
   ],
   "source": [
    "averages_by_sector = Merged_Predictions_With_Sector.groupby('Sector')['Residual Magnitude'].mean().reset_index()\n",
    "averages_by_sector"
   ]
  },
  {
   "cell_type": "code",
   "execution_count": 36,
   "metadata": {},
   "outputs": [
    {
     "data": {
      "text/plain": [
       "Healthcare                105\n",
       "Technology                 89\n",
       "Consumer Cyclical          72\n",
       "Industrials                67\n",
       "Real Estate                32\n",
       "Consumer Defensive         30\n",
       "Basic Materials            26\n",
       "Communication Services     20\n",
       "Energy                     19\n",
       "Utilities                  15\n",
       "Financial Services         12\n",
       "Name: Sector, dtype: int64"
      ]
     },
     "execution_count": 36,
     "metadata": {},
     "output_type": "execute_result"
    }
   ],
   "source": [
    "# Sector Counts in Test Data\n",
    "Merged_Predictions_With_Sector['Sector'].value_counts()"
   ]
  },
  {
   "attachments": {},
   "cell_type": "markdown",
   "metadata": {},
   "source": [
    "Looks like our model is predicting Real Estate really well, while not doing as well with Healthcare and Communication Services companies performing the worst"
   ]
  },
  {
   "cell_type": "code",
   "execution_count": 28,
   "metadata": {},
   "outputs": [
    {
     "data": {
      "image/png": "[encoded data removed]",
      "text/plain": [
       "<Figure size 1000x600 with 1 Axes>"
      ]
     },
     "metadata": {},
     "output_type": "display_data"
    }
   ],
   "source": [
    "sns.set(style=\"whitegrid\")\n",
    "plt.figure(figsize=(10, 6))\n",
    "sns.barplot(x='Residual Magnitude', y='Sector', data=averages_by_sector.sort_values('Residual Magnitude', ascending=True))\n",
    "plt.title('Average Residual Magnitude by Sector')\n",
    "plt.xlabel('Average Residual Magnitude')\n",
    "plt.ylabel('Sector')\n",
    "plt.show()"
   ]
  }
 ],
 "metadata": {
  "kernelspec": {
   "display_name": "learn-env",
   "language": "python",
   "name": "python3"
  },
  "language_info": {
   "codemirror_mode": {
    "name": "ipython",
    "version": 3
   },
   "file_extension": ".py",
   "mimetype": "text/x-python",
   "name": "python",
   "nbconvert_exporter": "python",
   "pygments_lexer": "ipython3",
   "version": "3.9.13"
  },
  "orig_nbformat": 4
 },
 "nbformat": 4,
 "nbformat_minor": 2
}
