{
 "cells": [
  {
   "attachments": {},
   "cell_type": "markdown",
   "metadata": {},
   "source": [
    "# Predicting Analyst Consensus Notebook 3"
   ]
  },
  {
   "attachments": {},
   "cell_type": "markdown",
   "metadata": {},
   "source": [
    "# Modeling Notebook"
   ]
  },
  {
   "cell_type": "code",
   "execution_count": 82,
   "metadata": {},
   "outputs": [],
   "source": [
    "# General Packages\n",
    "import pandas as pd\n",
    "import yfinance as yf\n",
    "import numpy as np\n",
    "import seaborn as sns\n",
    "from yahooquery import Ticker\n",
    "from tqdm import tqdm\n",
    "import matplotlib.pyplot as plt\n",
    "\n",
    "# SK-Learn Packages\n",
    "from sklearn.model_selection import train_test_split\n",
    "from sklearn.ensemble import RandomForestClassifier\n",
    "from sklearn.metrics import accuracy_score, confusion_matrix, ConfusionMatrixDisplay, f1_score, make_scorer, mean_squared_error\n",
    "from sklearn.preprocessing import StandardScaler\n",
    "from imblearn.pipeline import Pipeline, make_pipeline\n",
    "from imblearn.over_sampling import SMOTE\n",
    "from sklearn.model_selection import GridSearchCV\n",
    "from sklearn.decomposition import PCA\n",
    "from sklearn.base import BaseEstimator, TransformerMixin\n",
    "from sklearn.linear_model import LinearRegression\n",
    "\n",
    "# CNN Modeling\n",
    "from tensorflow.keras.models import Sequential\n",
    "from tensorflow.keras.layers import Dense, Conv1D, Flatten, Dropout\n",
    "from keras.regularizers import l2\n",
    "from keras.wrappers.scikit_learn import KerasClassifier\n",
    "from keras.utils import to_categorical\n",
    "from keras.metrics import Precision, Recall, AUC\n",
    "from keras import backend as K"
   ]
  },
  {
   "attachments": {},
   "cell_type": "markdown",
   "metadata": {},
   "source": [
    "## The Business Problem"
   ]
  },
  {
   "attachments": {},
   "cell_type": "markdown",
   "metadata": {},
   "source": [
    "##### We've been tasked by (ficticious) hedge fund Frye Street Capital to gauge the impact of fundamental financial data on a stock's value. "
   ]
  },
  {
   "attachments": {},
   "cell_type": "markdown",
   "metadata": {},
   "source": [
    "## Data Preparation and Understanding- See Notebooks 1 and 2"
   ]
  },
  {
   "cell_type": "code",
   "execution_count": 83,
   "metadata": {},
   "outputs": [],
   "source": [
    "# Reading in most recent data\n",
    "stock_data = pd.read_csv('data/CompletedData.csv')\n",
    "stock_data.drop(['Unnamed: 0'], axis = 1, inplace = True)\n",
    "stock_data.dropna(inplace = True)"
   ]
  },
  {
   "cell_type": "code",
   "execution_count": 84,
   "metadata": {},
   "outputs": [
    {
     "data": {
      "text/html": [
       "<div>\n",
       "<style scoped>\n",
       "    .dataframe tbody tr th:only-of-type {\n",
       "        vertical-align: middle;\n",
       "    }\n",
       "\n",
       "    .dataframe tbody tr th {\n",
       "        vertical-align: top;\n",
       "    }\n",
       "\n",
       "    .dataframe thead th {\n",
       "        text-align: right;\n",
       "    }\n",
       "</style>\n",
       "<table border=\"1\" class=\"dataframe\">\n",
       "  <thead>\n",
       "    <tr style=\"text-align: right;\">\n",
       "      <th></th>\n",
       "      <th>AveragePriceTarget</th>\n",
       "      <th>NumRatings</th>\n",
       "      <th>ClosingPrice</th>\n",
       "      <th>MarketCap</th>\n",
       "      <th>ExpectedGrowthRate</th>\n",
       "      <th>OverallRecommendation</th>\n",
       "      <th>ProjectedMarketCap</th>\n",
       "      <th>TotalRevenue</th>\n",
       "      <th>NormEBITDA</th>\n",
       "      <th>ReturnOnAssets</th>\n",
       "      <th>ChangeNormEBITDA</th>\n",
       "      <th>ChangeRevenue</th>\n",
       "      <th>OperatingCashFlow</th>\n",
       "      <th>ChangeOCF</th>\n",
       "    </tr>\n",
       "  </thead>\n",
       "  <tbody>\n",
       "    <tr>\n",
       "      <th>count</th>\n",
       "      <td>1945.000000</td>\n",
       "      <td>1945.000000</td>\n",
       "      <td>1945.000000</td>\n",
       "      <td>1.945000e+03</td>\n",
       "      <td>1945.000000</td>\n",
       "      <td>1945.000000</td>\n",
       "      <td>1.945000e+03</td>\n",
       "      <td>1.945000e+03</td>\n",
       "      <td>1.945000e+03</td>\n",
       "      <td>1945.000000</td>\n",
       "      <td>1.945000e+03</td>\n",
       "      <td>1.945000e+03</td>\n",
       "      <td>1.945000e+03</td>\n",
       "      <td>1.945000e+03</td>\n",
       "    </tr>\n",
       "    <tr>\n",
       "      <th>mean</th>\n",
       "      <td>74.216329</td>\n",
       "      <td>9.573265</td>\n",
       "      <td>62.437311</td>\n",
       "      <td>9.412715e+09</td>\n",
       "      <td>0.392974</td>\n",
       "      <td>0.788175</td>\n",
       "      <td>1.099520e+10</td>\n",
       "      <td>4.109402e+09</td>\n",
       "      <td>7.962129e+08</td>\n",
       "      <td>-0.020698</td>\n",
       "      <td>3.504065e+07</td>\n",
       "      <td>4.854726e+08</td>\n",
       "      <td>5.613016e+08</td>\n",
       "      <td>2.675059e+06</td>\n",
       "    </tr>\n",
       "    <tr>\n",
       "      <th>std</th>\n",
       "      <td>140.557936</td>\n",
       "      <td>4.691940</td>\n",
       "      <td>128.272359</td>\n",
       "      <td>1.850647e+10</td>\n",
       "      <td>0.413331</td>\n",
       "      <td>0.408707</td>\n",
       "      <td>2.066704e+10</td>\n",
       "      <td>7.251109e+09</td>\n",
       "      <td>1.481109e+09</td>\n",
       "      <td>0.182612</td>\n",
       "      <td>1.406330e+08</td>\n",
       "      <td>1.030938e+09</td>\n",
       "      <td>1.067708e+09</td>\n",
       "      <td>1.025702e+08</td>\n",
       "    </tr>\n",
       "    <tr>\n",
       "      <th>min</th>\n",
       "      <td>0.600000</td>\n",
       "      <td>4.000000</td>\n",
       "      <td>0.390000</td>\n",
       "      <td>2.959104e+07</td>\n",
       "      <td>-0.151000</td>\n",
       "      <td>0.000000</td>\n",
       "      <td>4.259801e+07</td>\n",
       "      <td>0.000000e+00</td>\n",
       "      <td>-9.360000e+08</td>\n",
       "      <td>-1.000000</td>\n",
       "      <td>-4.180000e+08</td>\n",
       "      <td>-1.514000e+09</td>\n",
       "      <td>-5.137450e+08</td>\n",
       "      <td>-1.710000e+09</td>\n",
       "    </tr>\n",
       "    <tr>\n",
       "      <th>25%</th>\n",
       "      <td>15.500000</td>\n",
       "      <td>6.000000</td>\n",
       "      <td>10.730000</td>\n",
       "      <td>9.377692e+08</td>\n",
       "      <td>0.121000</td>\n",
       "      <td>1.000000</td>\n",
       "      <td>1.405625e+09</td>\n",
       "      <td>3.480850e+08</td>\n",
       "      <td>-1.026871e+07</td>\n",
       "      <td>-0.043340</td>\n",
       "      <td>0.000000e+00</td>\n",
       "      <td>1.528700e+07</td>\n",
       "      <td>-8.415000e+06</td>\n",
       "      <td>0.000000e+00</td>\n",
       "    </tr>\n",
       "    <tr>\n",
       "      <th>50%</th>\n",
       "      <td>36.580000</td>\n",
       "      <td>8.000000</td>\n",
       "      <td>28.310000</td>\n",
       "      <td>2.818498e+09</td>\n",
       "      <td>0.256000</td>\n",
       "      <td>1.000000</td>\n",
       "      <td>3.642117e+09</td>\n",
       "      <td>1.356660e+09</td>\n",
       "      <td>2.406280e+08</td>\n",
       "      <td>0.027930</td>\n",
       "      <td>0.000000e+00</td>\n",
       "      <td>1.302310e+08</td>\n",
       "      <td>1.683100e+08</td>\n",
       "      <td>0.000000e+00</td>\n",
       "    </tr>\n",
       "    <tr>\n",
       "      <th>75%</th>\n",
       "      <td>85.000000</td>\n",
       "      <td>13.000000</td>\n",
       "      <td>71.190000</td>\n",
       "      <td>8.396930e+09</td>\n",
       "      <td>0.510000</td>\n",
       "      <td>1.000000</td>\n",
       "      <td>1.015952e+10</td>\n",
       "      <td>4.581100e+09</td>\n",
       "      <td>9.306570e+08</td>\n",
       "      <td>0.065240</td>\n",
       "      <td>9.199000e+06</td>\n",
       "      <td>5.360000e+08</td>\n",
       "      <td>6.257270e+08</td>\n",
       "      <td>0.000000e+00</td>\n",
       "    </tr>\n",
       "    <tr>\n",
       "      <th>max</th>\n",
       "      <td>2800.000000</td>\n",
       "      <td>20.000000</td>\n",
       "      <td>2615.600000</td>\n",
       "      <td>1.972006e+11</td>\n",
       "      <td>1.991000</td>\n",
       "      <td>1.000000</td>\n",
       "      <td>2.271751e+11</td>\n",
       "      <td>1.091200e+11</td>\n",
       "      <td>1.257500e+10</td>\n",
       "      <td>0.238460</td>\n",
       "      <td>1.309928e+09</td>\n",
       "      <td>8.335000e+09</td>\n",
       "      <td>7.762000e+09</td>\n",
       "      <td>2.518713e+09</td>\n",
       "    </tr>\n",
       "  </tbody>\n",
       "</table>\n",
       "</div>"
      ],
      "text/plain": [
       "       AveragePriceTarget   NumRatings  ClosingPrice     MarketCap  \\\n",
       "count         1945.000000  1945.000000   1945.000000  1.945000e+03   \n",
       "mean            74.216329     9.573265     62.437311  9.412715e+09   \n",
       "std            140.557936     4.691940    128.272359  1.850647e+10   \n",
       "min              0.600000     4.000000      0.390000  2.959104e+07   \n",
       "25%             15.500000     6.000000     10.730000  9.377692e+08   \n",
       "50%             36.580000     8.000000     28.310000  2.818498e+09   \n",
       "75%             85.000000    13.000000     71.190000  8.396930e+09   \n",
       "max           2800.000000    20.000000   2615.600000  1.972006e+11   \n",
       "\n",
       "       ExpectedGrowthRate  OverallRecommendation  ProjectedMarketCap  \\\n",
       "count         1945.000000            1945.000000        1.945000e+03   \n",
       "mean             0.392974               0.788175        1.099520e+10   \n",
       "std              0.413331               0.408707        2.066704e+10   \n",
       "min             -0.151000               0.000000        4.259801e+07   \n",
       "25%              0.121000               1.000000        1.405625e+09   \n",
       "50%              0.256000               1.000000        3.642117e+09   \n",
       "75%              0.510000               1.000000        1.015952e+10   \n",
       "max              1.991000               1.000000        2.271751e+11   \n",
       "\n",
       "       TotalRevenue    NormEBITDA  ReturnOnAssets  ChangeNormEBITDA  \\\n",
       "count  1.945000e+03  1.945000e+03     1945.000000      1.945000e+03   \n",
       "mean   4.109402e+09  7.962129e+08       -0.020698      3.504065e+07   \n",
       "std    7.251109e+09  1.481109e+09        0.182612      1.406330e+08   \n",
       "min    0.000000e+00 -9.360000e+08       -1.000000     -4.180000e+08   \n",
       "25%    3.480850e+08 -1.026871e+07       -0.043340      0.000000e+00   \n",
       "50%    1.356660e+09  2.406280e+08        0.027930      0.000000e+00   \n",
       "75%    4.581100e+09  9.306570e+08        0.065240      9.199000e+06   \n",
       "max    1.091200e+11  1.257500e+10        0.238460      1.309928e+09   \n",
       "\n",
       "       ChangeRevenue  OperatingCashFlow     ChangeOCF  \n",
       "count   1.945000e+03       1.945000e+03  1.945000e+03  \n",
       "mean    4.854726e+08       5.613016e+08  2.675059e+06  \n",
       "std     1.030938e+09       1.067708e+09  1.025702e+08  \n",
       "min    -1.514000e+09      -5.137450e+08 -1.710000e+09  \n",
       "25%     1.528700e+07      -8.415000e+06  0.000000e+00  \n",
       "50%     1.302310e+08       1.683100e+08  0.000000e+00  \n",
       "75%     5.360000e+08       6.257270e+08  0.000000e+00  \n",
       "max     8.335000e+09       7.762000e+09  2.518713e+09  "
      ]
     },
     "execution_count": 84,
     "metadata": {},
     "output_type": "execute_result"
    }
   ],
   "source": [
    "stock_data.describe()"
   ]
  },
  {
   "cell_type": "code",
   "execution_count": 85,
   "metadata": {},
   "outputs": [
    {
     "name": "stdout",
     "output_type": "stream",
     "text": [
      "<class 'pandas.core.frame.DataFrame'>\n",
      "RangeIndex: 1945 entries, 0 to 1944\n",
      "Data columns (total 16 columns):\n",
      " #   Column                 Non-Null Count  Dtype  \n",
      "---  ------                 --------------  -----  \n",
      " 0   Ticker                 1945 non-null   object \n",
      " 1   AveragePriceTarget     1945 non-null   float64\n",
      " 2   NumRatings             1945 non-null   int64  \n",
      " 3   ClosingPrice           1945 non-null   float64\n",
      " 4   MarketCap              1945 non-null   float64\n",
      " 5   ExpectedGrowthRate     1945 non-null   float64\n",
      " 6   OverallRecommendation  1945 non-null   int64  \n",
      " 7   ProjectedMarketCap     1945 non-null   float64\n",
      " 8   TotalRevenue           1945 non-null   float64\n",
      " 9   NormEBITDA             1945 non-null   float64\n",
      " 10  ReturnOnAssets         1945 non-null   float64\n",
      " 11  ChangeNormEBITDA       1945 non-null   float64\n",
      " 12  ChangeRevenue          1945 non-null   float64\n",
      " 13  OperatingCashFlow      1945 non-null   float64\n",
      " 14  ChangeOCF              1945 non-null   float64\n",
      " 15  Sector                 1945 non-null   object \n",
      "dtypes: float64(12), int64(2), object(2)\n",
      "memory usage: 243.2+ KB\n"
     ]
    }
   ],
   "source": [
    "stock_data.info()"
   ]
  },
  {
   "attachments": {},
   "cell_type": "markdown",
   "metadata": {},
   "source": [
    "We're now ready to set up our first model"
   ]
  },
  {
   "attachments": {},
   "cell_type": "markdown",
   "metadata": {},
   "source": [
    "## Classification Modeling"
   ]
  },
  {
   "attachments": {},
   "cell_type": "markdown",
   "metadata": {},
   "source": [
    "### Random Forest Classifier"
   ]
  },
  {
   "cell_type": "code",
   "execution_count": 119,
   "metadata": {},
   "outputs": [],
   "source": [
    "modeling_df = stock_data[['Ticker', 'TotalRevenue', 'NormEBITDA', 'ReturnOnAssets','ChangeNormEBITDA','ChangeRevenue','OperatingCashFlow','ChangeOCF','OverallRecommendation']]\n",
    "modeling_df.set_index('Ticker', inplace = True)"
   ]
  },
  {
   "cell_type": "code",
   "execution_count": 120,
   "metadata": {},
   "outputs": [],
   "source": [
    "X = modeling_df.drop(['OverallRecommendation'], axis = 1)\n",
    "y = modeling_df['OverallRecommendation']\n",
    "X_train, X_test, y_train, y_test = train_test_split(X, y, test_size= 0.3, random_state= 42)"
   ]
  },
  {
   "cell_type": "code",
   "execution_count": 121,
   "metadata": {},
   "outputs": [],
   "source": [
    "# Smote to address class imbalance\n",
    "smt = SMOTE(random_state = 42)\n",
    "# Scaling Data\n",
    "ss = StandardScaler()\n",
    "# Principal Component Analysis to address Multicolinearity\n",
    "pca = PCA(n_components = 7)\n",
    "# Instantiate Model, Pipeline\n",
    "rfc = RandomForestClassifier(random_state = 42)\n",
    "rfc_pipeline = Pipeline([('smote', smt),('scaler', ss),('pca', pca), ('random_forest', rfc)])"
   ]
  },
  {
   "cell_type": "code",
   "execution_count": 89,
   "metadata": {},
   "outputs": [
    {
     "name": "stdout",
     "output_type": "stream",
     "text": [
      "0.7872582480091013\n"
     ]
    },
    {
     "data": {
      "text/plain": [
       "<sklearn.metrics._plot.confusion_matrix.ConfusionMatrixDisplay at 0x29081259850>"
      ]
     },
     "execution_count": 89,
     "metadata": {},
     "output_type": "execute_result"
    },
    {
     "data": {
      "image/png": "[encoded data removed]",
      "text/plain": [
       "<Figure size 640x480 with 2 Axes>"
      ]
     },
     "metadata": {},
     "output_type": "display_data"
    }
   ],
   "source": [
    "rfc_pipeline.fit(X_train, y_train)\n",
    "y_pred = rfc_pipeline.predict(X_test)\n",
    "f1 = f1_score(y_test, y_pred)\n",
    "print(f1)\n",
    "cm = confusion_matrix(y_true = y_test, y_pred = y_pred)\n",
    "ConfusionMatrixDisplay(cm, display_labels= ['Sell','Buy']).plot()"
   ]
  },
  {
   "attachments": {},
   "cell_type": "markdown",
   "metadata": {},
   "source": [
    "##### Hyper Parameter Tuning"
   ]
  },
  {
   "cell_type": "code",
   "execution_count": 90,
   "metadata": {},
   "outputs": [],
   "source": [
    "rfc_params = {'random_forest__max_depth': [5,10,15,20,25], 'random_forest__n_estimators': [45,50,55,60,65]}"
   ]
  },
  {
   "cell_type": "code",
   "execution_count": 91,
   "metadata": {},
   "outputs": [
    {
     "name": "stdout",
     "output_type": "stream",
     "text": [
      "Fitting 5 folds for each of 25 candidates, totalling 125 fits\n"
     ]
    },
    {
     "data": {
      "text/plain": [
       "GridSearchCV(cv=5,\n",
       "             estimator=Pipeline(steps=[('smote', SMOTE(random_state=42)),\n",
       "                                       ('scaler', StandardScaler()),\n",
       "                                       ('pca', PCA(n_components=7)),\n",
       "                                       ('random_forest',\n",
       "                                        RandomForestClassifier(random_state=42))]),\n",
       "             param_grid={'random_forest__max_depth': [5, 10, 15, 20, 25],\n",
       "                         'random_forest__n_estimators': [45, 50, 55, 60, 65]},\n",
       "             scoring='f1', verbose=1)"
      ]
     },
     "execution_count": 91,
     "metadata": {},
     "output_type": "execute_result"
    }
   ],
   "source": [
    "gs = GridSearchCV(rfc_pipeline, rfc_params, cv = 5, scoring = 'f1', verbose = 1)\n",
    "gs.fit(X_train,y_train)"
   ]
  },
  {
   "cell_type": "code",
   "execution_count": 92,
   "metadata": {},
   "outputs": [
    {
     "data": {
      "text/plain": [
       "{'random_forest__max_depth': 25, 'random_forest__n_estimators': 65}"
      ]
     },
     "execution_count": 92,
     "metadata": {},
     "output_type": "execute_result"
    }
   ],
   "source": [
    "gs.best_params_"
   ]
  },
  {
   "cell_type": "code",
   "execution_count": 93,
   "metadata": {},
   "outputs": [
    {
     "data": {
      "text/plain": [
       "0.8023915981908365"
      ]
     },
     "execution_count": 93,
     "metadata": {},
     "output_type": "execute_result"
    }
   ],
   "source": [
    "gs.best_score_"
   ]
  },
  {
   "attachments": {},
   "cell_type": "markdown",
   "metadata": {},
   "source": [
    "Updating Parameters"
   ]
  },
  {
   "cell_type": "code",
   "execution_count": 122,
   "metadata": {},
   "outputs": [],
   "source": [
    "rfc = RandomForestClassifier(max_depth = 20, n_estimators = 55, random_state = 42)\n",
    "rfc_pipeline = Pipeline([('smote', smt),('scaler', ss),('random_forest', rfc)])"
   ]
  },
  {
   "cell_type": "code",
   "execution_count": 123,
   "metadata": {},
   "outputs": [
    {
     "name": "stdout",
     "output_type": "stream",
     "text": [
      "0.812227074235808\n"
     ]
    },
    {
     "data": {
      "text/plain": [
       "<sklearn.metrics._plot.confusion_matrix.ConfusionMatrixDisplay at 0x290fb061be0>"
      ]
     },
     "execution_count": 123,
     "metadata": {},
     "output_type": "execute_result"
    },
    {
     "data": {
      "image/png": "[encoded data removed]",
      "text/plain": [
       "<Figure size 640x480 with 2 Axes>"
      ]
     },
     "metadata": {},
     "output_type": "display_data"
    }
   ],
   "source": [
    "rfc_pipeline.fit(X_train, y_train)\n",
    "y_pred = rfc_pipeline.predict(X_test)\n",
    "f1 = f1_score(y_test, y_pred)\n",
    "print(f1)\n",
    "cm = confusion_matrix(y_true = y_test, y_pred = y_pred)\n",
    "ConfusionMatrixDisplay(cm, display_labels= ['Sell','Buy']).plot()"
   ]
  },
  {
   "attachments": {},
   "cell_type": "markdown",
   "metadata": {},
   "source": [
    "### Convolutional Neural Network"
   ]
  },
  {
   "cell_type": "code",
   "execution_count": 96,
   "metadata": {},
   "outputs": [],
   "source": [
    "X_train, X_test, y_train, y_test = train_test_split(X, y, test_size= 0.3, random_state= 42)"
   ]
  },
  {
   "attachments": {},
   "cell_type": "markdown",
   "metadata": {},
   "source": [
    "Preprocessing Data"
   ]
  },
  {
   "cell_type": "code",
   "execution_count": 97,
   "metadata": {},
   "outputs": [
    {
     "name": "stderr",
     "output_type": "stream",
     "text": [
      "c:\\Users\\cnade\\anaconda3\\lib\\site-packages\\sklearn\\base.py:450: UserWarning: X does not have valid feature names, but PCA was fitted with feature names\n",
      "  warnings.warn(\n"
     ]
    }
   ],
   "source": [
    "# Preparing Data\n",
    "scaler = StandardScaler()\n",
    "X_train_scaled = scaler.fit_transform(X_train)\n",
    "X_test_scaled = scaler.transform(X_test)\n",
    "\n",
    "# SMOTE\n",
    "smt = SMOTE(random_state=42)\n",
    "X_train_resampled, y_train_resampled = smt.fit_resample(X_train, y_train)\n",
    "\n",
    "# PCA\n",
    "pca = PCA(n_components = 5)\n",
    "X_train_ready = pca.fit_transform(X_train_resampled)\n",
    "X_test_ready = pca.transform(X_test_scaled)\n",
    "\n",
    "# Reshaping Data\n",
    "X_train_ready = X_train_resampled.values.reshape(X_train_resampled.shape[0], X_train_resampled.shape[1], 1)\n",
    "X_test_ready = X_test_scaled.reshape(X_test_scaled.shape[0], X_test_scaled.shape[1], 1)\n",
    "\n",
    "# Encode labels\n",
    "y_train_encoded = to_categorical(y_train_resampled)\n",
    "y_test_encoded = to_categorical(y_test)"
   ]
  },
  {
   "cell_type": "code",
   "execution_count": 98,
   "metadata": {},
   "outputs": [],
   "source": [
    "# Creating F1 Score for Neural Network\n",
    "def recall_m(y_true, y_pred):\n",
    "    true_positives = K.sum(K.round(K.clip(y_true * y_pred, 0, 1)))\n",
    "    possible_positives = K.sum(K.round(K.clip(y_true, 0, 1)))\n",
    "    recall = true_positives / (possible_positives + K.epsilon())\n",
    "    return recall\n",
    "\n",
    "def precision_m(y_true, y_pred):\n",
    "    true_positives = K.sum(K.round(K.clip(y_true * y_pred, 0, 1)))\n",
    "    predicted_positives = K.sum(K.round(K.clip(y_pred, 0, 1)))\n",
    "    precision = true_positives / (predicted_positives + K.epsilon())\n",
    "    return precision\n",
    "\n",
    "def f1_m(y_true, y_pred):\n",
    "    precision = precision_m(y_true, y_pred)\n",
    "    recall = recall_m(y_true, y_pred)\n",
    "    return 2*((precision*recall)/(precision+recall+K.epsilon()))"
   ]
  },
  {
   "cell_type": "code",
   "execution_count": 99,
   "metadata": {},
   "outputs": [],
   "source": [
    "# Creating Neural Network Function\n",
    "def create_classification_model(dropout_rate=0.2, l2_weight=0.001, batch_size=32, epochs=10):\n",
    "    model = Sequential()\n",
    "    model.add(Conv1D(32, kernel_size=3, activation='relu', input_shape=(X_train_ready.shape[1],1), kernel_regularizer=l2(l2_weight)))\n",
    "    model.add(Dropout(dropout_rate))\n",
    "    model.add(Flatten())\n",
    "    model.add(Dense(128, activation='relu', kernel_regularizer=l2(l2_weight)))\n",
    "    model.add(Dropout(dropout_rate))\n",
    "    model.add(Dense(2, activation='softmax', kernel_regularizer=l2(l2_weight)))\n",
    "    model.compile(loss='binary_crossentropy', optimizer='adam', metrics=[f1_m])\n",
    "    return model"
   ]
  },
  {
   "cell_type": "code",
   "execution_count": 100,
   "metadata": {},
   "outputs": [
    {
     "name": "stdout",
     "output_type": "stream",
     "text": [
      "Epoch 1/25\n",
      "67/67 [==============================] - 1s 6ms/step - loss: 65494824.0000 - f1_m: 0.5993 - val_loss: 0.7932 - val_f1_m: 0.8174\n",
      "Epoch 2/25\n",
      "67/67 [==============================] - 0s 3ms/step - loss: 32382832.0000 - f1_m: 0.5900 - val_loss: 0.7919 - val_f1_m: 0.8158\n",
      "Epoch 3/25\n",
      "67/67 [==============================] - 0s 4ms/step - loss: 21618708.0000 - f1_m: 0.6101 - val_loss: 0.7923 - val_f1_m: 0.8174\n",
      "Epoch 4/25\n",
      "67/67 [==============================] - 0s 3ms/step - loss: 12760777.0000 - f1_m: 0.6101 - val_loss: 0.7898 - val_f1_m: 0.8174\n",
      "Epoch 5/25\n",
      "67/67 [==============================] - 0s 3ms/step - loss: 9155967.0000 - f1_m: 0.5872 - val_loss: 0.7896 - val_f1_m: 0.8174\n",
      "Epoch 6/25\n",
      "67/67 [==============================] - 0s 4ms/step - loss: 5860026.0000 - f1_m: 0.6101 - val_loss: 0.7903 - val_f1_m: 0.8174\n",
      "Epoch 7/25\n",
      "67/67 [==============================] - 0s 4ms/step - loss: 3581807.2500 - f1_m: 0.6152 - val_loss: 0.7859 - val_f1_m: 0.8174\n",
      "Epoch 8/25\n",
      "67/67 [==============================] - 0s 4ms/step - loss: 2130015.2500 - f1_m: 0.5826 - val_loss: 0.7786 - val_f1_m: 0.8174\n",
      "Epoch 9/25\n",
      "67/67 [==============================] - 0s 3ms/step - loss: 1327796.3750 - f1_m: 0.5774 - val_loss: 0.7769 - val_f1_m: 0.8174\n",
      "Epoch 10/25\n",
      "67/67 [==============================] - 0s 4ms/step - loss: 744014.8125 - f1_m: 0.5606 - val_loss: 0.7782 - val_f1_m: 0.8174\n",
      "Epoch 11/25\n",
      "67/67 [==============================] - 0s 3ms/step - loss: 642454.1250 - f1_m: 0.5368 - val_loss: 0.7774 - val_f1_m: 0.8174\n",
      "Epoch 12/25\n",
      "67/67 [==============================] - 0s 3ms/step - loss: 443511.5312 - f1_m: 0.5415 - val_loss: 0.7821 - val_f1_m: 0.8174\n",
      "Epoch 13/25\n",
      "67/67 [==============================] - 0s 3ms/step - loss: 298191.4375 - f1_m: 0.5271 - val_loss: 0.7869 - val_f1_m: 0.8174\n",
      "Epoch 14/25\n",
      "67/67 [==============================] - 0s 3ms/step - loss: 253820.9531 - f1_m: 0.5205 - val_loss: 0.7886 - val_f1_m: 0.8174\n",
      "Epoch 15/25\n",
      "67/67 [==============================] - 0s 3ms/step - loss: 190333.3906 - f1_m: 0.5182 - val_loss: 0.7933 - val_f1_m: 0.8174\n",
      "Epoch 16/25\n",
      "67/67 [==============================] - 0s 3ms/step - loss: 174360.1406 - f1_m: 0.5135 - val_loss: 0.7989 - val_f1_m: 0.8174\n",
      "Epoch 17/25\n",
      "67/67 [==============================] - 0s 3ms/step - loss: 180667.8125 - f1_m: 0.5079 - val_loss: 0.8031 - val_f1_m: 0.8174\n",
      "Epoch 18/25\n",
      "67/67 [==============================] - 0s 3ms/step - loss: 99178.2031 - f1_m: 0.5117 - val_loss: 0.8062 - val_f1_m: 0.8174\n",
      "Epoch 19/25\n",
      "67/67 [==============================] - 0s 3ms/step - loss: 88302.3125 - f1_m: 0.5037 - val_loss: 0.8126 - val_f1_m: 0.8174\n",
      "Epoch 20/25\n",
      "67/67 [==============================] - 0s 3ms/step - loss: 62089.3047 - f1_m: 0.5028 - val_loss: 0.8158 - val_f1_m: 0.8174\n",
      "Epoch 21/25\n",
      "67/67 [==============================] - 0s 3ms/step - loss: 78609.6094 - f1_m: 0.5019 - val_loss: 0.8185 - val_f1_m: 0.8174\n",
      "Epoch 22/25\n",
      "67/67 [==============================] - 0s 3ms/step - loss: 55784.4492 - f1_m: 0.4977 - val_loss: 0.8211 - val_f1_m: 0.8174\n",
      "Epoch 23/25\n",
      "67/67 [==============================] - 0s 3ms/step - loss: 60697.4766 - f1_m: 0.4916 - val_loss: 0.8260 - val_f1_m: 0.8174\n",
      "Epoch 24/25\n",
      "67/67 [==============================] - 0s 3ms/step - loss: 177521.8438 - f1_m: 0.5023 - val_loss: 0.8308 - val_f1_m: 0.8174\n",
      "Epoch 25/25\n",
      "67/67 [==============================] - 0s 3ms/step - loss: 38795.5000 - f1_m: 0.5093 - val_loss: 0.8334 - val_f1_m: 0.8174\n"
     ]
    },
    {
     "data": {
      "text/plain": [
       "<keras.callbacks.History at 0x290826d4670>"
      ]
     },
     "execution_count": 100,
     "metadata": {},
     "output_type": "execute_result"
    }
   ],
   "source": [
    "model = create_classification_model()\n",
    "model.fit(X_train_ready, y_train_encoded, epochs=25, validation_data=(X_test_ready, y_test_encoded))"
   ]
  },
  {
   "attachments": {},
   "cell_type": "markdown",
   "metadata": {},
   "source": [
    "##### These Models Stunk. Let's try something else..."
   ]
  },
  {
   "attachments": {},
   "cell_type": "markdown",
   "metadata": {},
   "source": [
    "## Regression Modeling for Expected Growth Rate"
   ]
  },
  {
   "cell_type": "code",
   "execution_count": 101,
   "metadata": {},
   "outputs": [],
   "source": [
    "# Loading in Data\n",
    "modeling_growth_df = stock_data[['Ticker', 'TotalRevenue', 'NormEBITDA', 'ReturnOnAssets','ChangeNormEBITDA','ChangeRevenue','OperatingCashFlow','ChangeOCF', 'ExpectedGrowthRate', 'Sector']]\n",
    "modeling_growth_df.set_index('Ticker', inplace = True)"
   ]
  },
  {
   "cell_type": "code",
   "execution_count": 102,
   "metadata": {},
   "outputs": [],
   "source": [
    "# Define X, y and train test split\n",
    "X = modeling_growth_df.drop(['ExpectedGrowthRate', 'Sector'], axis = 1)\n",
    "y = modeling_growth_df['ExpectedGrowthRate']\n",
    "X_train, X_test, y_train, y_test = train_test_split(X, y, test_size= 0.25, random_state= 42)"
   ]
  },
  {
   "attachments": {},
   "cell_type": "markdown",
   "metadata": {},
   "source": [
    "### Linear Regression Baseline Model"
   ]
  },
  {
   "cell_type": "code",
   "execution_count": 103,
   "metadata": {},
   "outputs": [
    {
     "name": "stdout",
     "output_type": "stream",
     "text": [
      "Root mean squared error: 0.4021873021021452\n"
     ]
    }
   ],
   "source": [
    "linreg_pipeline = Pipeline([\n",
    "    ('scaler', StandardScaler()),\n",
    "    ('regressor', LinearRegression())\n",
    "])\n",
    "\n",
    "# Fit pipeline to training data\n",
    "linreg_pipeline.fit(X_train, y_train)\n",
    "\n",
    "# Evaluate pipeline on testing data\n",
    "y_pred = linreg_pipeline.predict(X_test)\n",
    "mse = mean_squared_error(y_test, y_pred)\n",
    "rmse = np.sqrt(mse)\n",
    "print('Root mean squared error:', rmse)"
   ]
  },
  {
   "cell_type": "code",
   "execution_count": 104,
   "metadata": {},
   "outputs": [
    {
     "data": {
      "image/png": "[encoded data removed]",
      "text/plain": [
       "<Figure size 640x480 with 1 Axes>"
      ]
     },
     "metadata": {},
     "output_type": "display_data"
    }
   ],
   "source": [
    "plt.scatter(y_test, y_pred)\n",
    "plt.xlabel('Actual Expected Growth Rate')\n",
    "plt.ylabel('Predicted Expected Growth Rate')\n",
    "plt.title('Actual vs Predicted Expected Growth Rates- Linear Regression')\n",
    "plt.text(1.5,1, 'RMSE = 0.4022')\n",
    "plt.show()"
   ]
  },
  {
   "attachments": {},
   "cell_type": "markdown",
   "metadata": {},
   "source": [
    "### Neural Network Part 2- A Feedforward Neural Network"
   ]
  },
  {
   "cell_type": "code",
   "execution_count": 105,
   "metadata": {},
   "outputs": [],
   "source": [
    "# Preparing Data\n",
    "scaler = StandardScaler()\n",
    "X_train_scaled = scaler.fit_transform(X_train)\n",
    "X_test_scaled = scaler.transform(X_test)\n",
    "\n",
    "# Reshaping Data\n",
    "X_train_ready = X_train_scaled.reshape(X_train_scaled.shape[0], X_train_scaled.shape[1], 1)\n",
    "X_test_ready = X_test_scaled.reshape(X_test_scaled.shape[0], X_test_scaled.shape[1], 1)"
   ]
  },
  {
   "cell_type": "code",
   "execution_count": 106,
   "metadata": {},
   "outputs": [],
   "source": [
    "def create_continuous_model(dropout_rate=0.2, l2_weight=0.001, batch_size=32, epochs=10):\n",
    "    model = Sequential()\n",
    "    model.add(Dropout(dropout_rate))\n",
    "    model.add(Flatten())\n",
    "    model.add(Dense(128, activation='relu', kernel_regularizer=l2(l2_weight)))\n",
    "    model.add(Dropout(dropout_rate))\n",
    "    model.add(Dense(1, activation='linear', kernel_regularizer=l2(l2_weight)))\n",
    "    model.compile(loss='mean_squared_error', optimizer='adam', metrics=['mse'])\n",
    "    return model"
   ]
  },
  {
   "cell_type": "code",
   "execution_count": 107,
   "metadata": {},
   "outputs": [
    {
     "name": "stdout",
     "output_type": "stream",
     "text": [
      "Epoch 1/25\n",
      "46/46 [==============================] - 1s 6ms/step - loss: 0.3775 - mse: 0.3622 - val_loss: 0.1797 - val_mse: 0.1646\n",
      "Epoch 2/25\n",
      "46/46 [==============================] - 0s 3ms/step - loss: 0.1984 - mse: 0.1835 - val_loss: 0.1690 - val_mse: 0.1543\n",
      "Epoch 3/25\n",
      "46/46 [==============================] - 0s 3ms/step - loss: 0.1825 - mse: 0.1680 - val_loss: 0.1590 - val_mse: 0.1447\n",
      "Epoch 4/25\n",
      "46/46 [==============================] - 0s 3ms/step - loss: 0.1644 - mse: 0.1503 - val_loss: 0.1542 - val_mse: 0.1402\n",
      "Epoch 5/25\n",
      "46/46 [==============================] - 0s 3ms/step - loss: 0.1586 - mse: 0.1449 - val_loss: 0.1525 - val_mse: 0.1389\n",
      "Epoch 6/25\n",
      "46/46 [==============================] - 0s 3ms/step - loss: 0.1615 - mse: 0.1482 - val_loss: 0.1572 - val_mse: 0.1441\n",
      "Epoch 7/25\n",
      "46/46 [==============================] - 0s 3ms/step - loss: 0.1682 - mse: 0.1553 - val_loss: 0.1560 - val_mse: 0.1432\n",
      "Epoch 8/25\n",
      "46/46 [==============================] - 0s 3ms/step - loss: 0.1583 - mse: 0.1457 - val_loss: 0.1524 - val_mse: 0.1400\n",
      "Epoch 9/25\n",
      "46/46 [==============================] - 0s 3ms/step - loss: 0.1511 - mse: 0.1388 - val_loss: 0.1508 - val_mse: 0.1387\n",
      "Epoch 10/25\n",
      "46/46 [==============================] - 0s 3ms/step - loss: 0.1474 - mse: 0.1354 - val_loss: 0.1459 - val_mse: 0.1341\n",
      "Epoch 11/25\n",
      "46/46 [==============================] - 0s 3ms/step - loss: 0.1448 - mse: 0.1332 - val_loss: 0.1479 - val_mse: 0.1363\n",
      "Epoch 12/25\n",
      "46/46 [==============================] - 0s 3ms/step - loss: 0.1547 - mse: 0.1433 - val_loss: 0.1521 - val_mse: 0.1408\n",
      "Epoch 13/25\n",
      "46/46 [==============================] - 0s 3ms/step - loss: 0.1448 - mse: 0.1336 - val_loss: 0.1480 - val_mse: 0.1370\n",
      "Epoch 14/25\n",
      "46/46 [==============================] - 0s 3ms/step - loss: 0.1377 - mse: 0.1269 - val_loss: 0.1514 - val_mse: 0.1408\n",
      "Epoch 15/25\n",
      "46/46 [==============================] - 0s 3ms/step - loss: 0.1377 - mse: 0.1271 - val_loss: 0.1481 - val_mse: 0.1376\n",
      "Epoch 16/25\n",
      "46/46 [==============================] - 0s 4ms/step - loss: 0.1432 - mse: 0.1328 - val_loss: 0.1460 - val_mse: 0.1357\n",
      "Epoch 17/25\n",
      "46/46 [==============================] - 0s 3ms/step - loss: 0.1393 - mse: 0.1292 - val_loss: 0.1435 - val_mse: 0.1335\n",
      "Epoch 18/25\n",
      "46/46 [==============================] - 0s 3ms/step - loss: 0.1387 - mse: 0.1288 - val_loss: 0.1499 - val_mse: 0.1402\n",
      "Epoch 19/25\n",
      "46/46 [==============================] - 0s 3ms/step - loss: 0.1315 - mse: 0.1218 - val_loss: 0.1472 - val_mse: 0.1377\n",
      "Epoch 20/25\n",
      "46/46 [==============================] - 0s 3ms/step - loss: 0.1349 - mse: 0.1255 - val_loss: 0.1465 - val_mse: 0.1372\n",
      "Epoch 21/25\n",
      "46/46 [==============================] - 0s 3ms/step - loss: 0.1328 - mse: 0.1236 - val_loss: 0.1448 - val_mse: 0.1357\n",
      "Epoch 22/25\n",
      "46/46 [==============================] - 0s 3ms/step - loss: 0.1297 - mse: 0.1206 - val_loss: 0.1432 - val_mse: 0.1343\n",
      "Epoch 23/25\n",
      "46/46 [==============================] - 0s 3ms/step - loss: 0.1341 - mse: 0.1252 - val_loss: 0.1436 - val_mse: 0.1348\n",
      "Epoch 24/25\n",
      "46/46 [==============================] - 0s 3ms/step - loss: 0.1302 - mse: 0.1215 - val_loss: 0.1447 - val_mse: 0.1362\n",
      "Epoch 25/25\n",
      "46/46 [==============================] - 0s 3ms/step - loss: 0.1323 - mse: 0.1239 - val_loss: 0.1460 - val_mse: 0.1377\n"
     ]
    },
    {
     "data": {
      "text/plain": [
       "<keras.callbacks.History at 0x290fb061430>"
      ]
     },
     "execution_count": 107,
     "metadata": {},
     "output_type": "execute_result"
    }
   ],
   "source": [
    "model = create_continuous_model()\n",
    "model.fit(X_train_ready, y_train, epochs = 25, batch_size = 32, validation_data=[X_test_ready, y_test])"
   ]
  },
  {
   "attachments": {},
   "cell_type": "markdown",
   "metadata": {},
   "source": [
    "#### Getting Test Predictions for Visualizations"
   ]
  },
  {
   "cell_type": "code",
   "execution_count": 108,
   "metadata": {},
   "outputs": [
    {
     "name": "stdout",
     "output_type": "stream",
     "text": [
      "16/16 [==============================] - 0s 1ms/step\n"
     ]
    }
   ],
   "source": [
    "y_pred = model.predict(X_test_ready)\n",
    "y_pred = pd.Series(y_pred.flatten())"
   ]
  },
  {
   "cell_type": "code",
   "execution_count": 109,
   "metadata": {},
   "outputs": [
    {
     "name": "stdout",
     "output_type": "stream",
     "text": [
      "Root mean squared error: 0.37102465005072055\n"
     ]
    }
   ],
   "source": [
    "# Results\n",
    "mse = mean_squared_error(y_test, y_pred)\n",
    "rmse = np.sqrt(mse)\n",
    "print('Root mean squared error:', rmse)"
   ]
  },
  {
   "cell_type": "code",
   "execution_count": 110,
   "metadata": {},
   "outputs": [
    {
     "data": {
      "image/png": "[encoded data removed]",
      "text/plain": [
       "<Figure size 640x480 with 1 Axes>"
      ]
     },
     "metadata": {},
     "output_type": "display_data"
    }
   ],
   "source": [
    "plt.scatter(y_test, y_pred)\n",
    "plt.xlabel('Actual Expected Growth Rate')\n",
    "plt.ylabel('Predicted Expected Growth Rate')\n",
    "plt.title('Actual vs Predicted Growth Rates- Feed Forward Neural Network')\n",
    "#plt.legend(['RMSE: {:.4f}'.format(mse)])\n",
    "plt.text(1.5,0.08, 'RMSE = 0.3676')\n",
    "plt.show()"
   ]
  },
  {
   "attachments": {},
   "cell_type": "markdown",
   "metadata": {},
   "source": [
    "#### Breaking Down Sector Performance"
   ]
  },
  {
   "cell_type": "code",
   "execution_count": 111,
   "metadata": {},
   "outputs": [],
   "source": [
    "# Labeling Y_Predictions to Merge\n",
    "y_pred.name = 'ProjectedGrowthRate'\n",
    "y_pred.index = y_test.index"
   ]
  },
  {
   "cell_type": "code",
   "execution_count": 112,
   "metadata": {},
   "outputs": [
    {
     "data": {
      "text/plain": [
       "Ticker\n",
       "A               Healthcare\n",
       "AA         Basic Materials\n",
       "AAN            Industrials\n",
       "AAOI            Technology\n",
       "AAP      Consumer Cyclical\n",
       "               ...        \n",
       "ZS              Technology\n",
       "ZTS             Healthcare\n",
       "ZVIA    Consumer Defensive\n",
       "ZWS            Industrials\n",
       "ZYXI            Healthcare\n",
       "Name: Sector, Length: 1945, dtype: object"
      ]
     },
     "execution_count": 112,
     "metadata": {},
     "output_type": "execute_result"
    }
   ],
   "source": [
    "sector_series = modeling_growth_df['Sector']\n",
    "sector_series"
   ]
  },
  {
   "cell_type": "code",
   "execution_count": 113,
   "metadata": {},
   "outputs": [],
   "source": [
    "# Merging Predictions with Actual Values, including sector\n",
    "Merged_Predictions = pd.concat([y_test, y_pred], axis=1)\n",
    "\n",
    "Merged_Predictions_With_Sector = Merged_Predictions.join(sector_series, how = 'inner')"
   ]
  },
  {
   "cell_type": "code",
   "execution_count": 114,
   "metadata": {},
   "outputs": [
    {
     "data": {
      "text/html": [
       "<div>\n",
       "<style scoped>\n",
       "    .dataframe tbody tr th:only-of-type {\n",
       "        vertical-align: middle;\n",
       "    }\n",
       "\n",
       "    .dataframe tbody tr th {\n",
       "        vertical-align: top;\n",
       "    }\n",
       "\n",
       "    .dataframe thead th {\n",
       "        text-align: right;\n",
       "    }\n",
       "</style>\n",
       "<table border=\"1\" class=\"dataframe\">\n",
       "  <thead>\n",
       "    <tr style=\"text-align: right;\">\n",
       "      <th></th>\n",
       "      <th>ExpectedGrowthRate</th>\n",
       "      <th>ProjectedGrowthRate</th>\n",
       "      <th>Sector</th>\n",
       "    </tr>\n",
       "    <tr>\n",
       "      <th>Ticker</th>\n",
       "      <th></th>\n",
       "      <th></th>\n",
       "      <th></th>\n",
       "    </tr>\n",
       "  </thead>\n",
       "  <tbody>\n",
       "    <tr>\n",
       "      <th>SPGI</th>\n",
       "      <td>0.164</td>\n",
       "      <td>0.216881</td>\n",
       "      <td>Financial Services</td>\n",
       "    </tr>\n",
       "    <tr>\n",
       "      <th>PRVB</th>\n",
       "      <td>0.029</td>\n",
       "      <td>0.819705</td>\n",
       "      <td>Healthcare</td>\n",
       "    </tr>\n",
       "    <tr>\n",
       "      <th>KEYS</th>\n",
       "      <td>0.212</td>\n",
       "      <td>0.137038</td>\n",
       "      <td>Technology</td>\n",
       "    </tr>\n",
       "    <tr>\n",
       "      <th>LTHM</th>\n",
       "      <td>0.480</td>\n",
       "      <td>0.232220</td>\n",
       "      <td>Basic Materials</td>\n",
       "    </tr>\n",
       "    <tr>\n",
       "      <th>CAKE</th>\n",
       "      <td>0.098</td>\n",
       "      <td>0.276264</td>\n",
       "      <td>Consumer Cyclical</td>\n",
       "    </tr>\n",
       "  </tbody>\n",
       "</table>\n",
       "</div>"
      ],
      "text/plain": [
       "        ExpectedGrowthRate  ProjectedGrowthRate              Sector\n",
       "Ticker                                                             \n",
       "SPGI                 0.164             0.216881  Financial Services\n",
       "PRVB                 0.029             0.819705          Healthcare\n",
       "KEYS                 0.212             0.137038          Technology\n",
       "LTHM                 0.480             0.232220     Basic Materials\n",
       "CAKE                 0.098             0.276264   Consumer Cyclical"
      ]
     },
     "execution_count": 114,
     "metadata": {},
     "output_type": "execute_result"
    }
   ],
   "source": [
    "Merged_Predictions_With_Sector.head()"
   ]
  },
  {
   "attachments": {},
   "cell_type": "markdown",
   "metadata": {},
   "source": [
    "### Calculating Residuals for Mean Absolute Error"
   ]
  },
  {
   "cell_type": "code",
   "execution_count": 115,
   "metadata": {},
   "outputs": [],
   "source": [
    "Merged_Predictions_With_Sector['Residual Magnitude'] = np.absolute((Merged_Predictions_With_Sector['ExpectedGrowthRate'] - Merged_Predictions_With_Sector['ProjectedGrowthRate']))"
   ]
  },
  {
   "attachments": {},
   "cell_type": "markdown",
   "metadata": {},
   "source": [
    "Grouping by Sector, finding mean"
   ]
  },
  {
   "cell_type": "code",
   "execution_count": 116,
   "metadata": {},
   "outputs": [
    {
     "data": {
      "text/html": [
       "<div>\n",
       "<style scoped>\n",
       "    .dataframe tbody tr th:only-of-type {\n",
       "        vertical-align: middle;\n",
       "    }\n",
       "\n",
       "    .dataframe tbody tr th {\n",
       "        vertical-align: top;\n",
       "    }\n",
       "\n",
       "    .dataframe thead th {\n",
       "        text-align: right;\n",
       "    }\n",
       "</style>\n",
       "<table border=\"1\" class=\"dataframe\">\n",
       "  <thead>\n",
       "    <tr style=\"text-align: right;\">\n",
       "      <th></th>\n",
       "      <th>Sector</th>\n",
       "      <th>Residual Magnitude</th>\n",
       "    </tr>\n",
       "  </thead>\n",
       "  <tbody>\n",
       "    <tr>\n",
       "      <th>0</th>\n",
       "      <td>Basic Materials</td>\n",
       "      <td>0.165098</td>\n",
       "    </tr>\n",
       "    <tr>\n",
       "      <th>1</th>\n",
       "      <td>Communication Services</td>\n",
       "      <td>0.387631</td>\n",
       "    </tr>\n",
       "    <tr>\n",
       "      <th>2</th>\n",
       "      <td>Consumer Cyclical</td>\n",
       "      <td>0.175229</td>\n",
       "    </tr>\n",
       "    <tr>\n",
       "      <th>3</th>\n",
       "      <td>Consumer Defensive</td>\n",
       "      <td>0.199275</td>\n",
       "    </tr>\n",
       "    <tr>\n",
       "      <th>4</th>\n",
       "      <td>Energy</td>\n",
       "      <td>0.193552</td>\n",
       "    </tr>\n",
       "    <tr>\n",
       "      <th>5</th>\n",
       "      <td>Financial Services</td>\n",
       "      <td>0.163733</td>\n",
       "    </tr>\n",
       "    <tr>\n",
       "      <th>6</th>\n",
       "      <td>Healthcare</td>\n",
       "      <td>0.409527</td>\n",
       "    </tr>\n",
       "    <tr>\n",
       "      <th>7</th>\n",
       "      <td>Industrials</td>\n",
       "      <td>0.177094</td>\n",
       "    </tr>\n",
       "    <tr>\n",
       "      <th>8</th>\n",
       "      <td>Real Estate</td>\n",
       "      <td>0.130297</td>\n",
       "    </tr>\n",
       "    <tr>\n",
       "      <th>9</th>\n",
       "      <td>Technology</td>\n",
       "      <td>0.294197</td>\n",
       "    </tr>\n",
       "    <tr>\n",
       "      <th>10</th>\n",
       "      <td>Utilities</td>\n",
       "      <td>0.179904</td>\n",
       "    </tr>\n",
       "  </tbody>\n",
       "</table>\n",
       "</div>"
      ],
      "text/plain": [
       "                    Sector  Residual Magnitude\n",
       "0          Basic Materials            0.165098\n",
       "1   Communication Services            0.387631\n",
       "2        Consumer Cyclical            0.175229\n",
       "3       Consumer Defensive            0.199275\n",
       "4                   Energy            0.193552\n",
       "5       Financial Services            0.163733\n",
       "6               Healthcare            0.409527\n",
       "7              Industrials            0.177094\n",
       "8              Real Estate            0.130297\n",
       "9               Technology            0.294197\n",
       "10               Utilities            0.179904"
      ]
     },
     "execution_count": 116,
     "metadata": {},
     "output_type": "execute_result"
    }
   ],
   "source": [
    "averages_by_sector = Merged_Predictions_With_Sector.groupby('Sector')['Residual Magnitude'].mean().reset_index()\n",
    "averages_by_sector"
   ]
  },
  {
   "attachments": {},
   "cell_type": "markdown",
   "metadata": {},
   "source": [
    "Looks like our model is predicting Real Estate really well, while not doing as well with Healthcare and Communication Services companies performing the worst. Let's visualize this"
   ]
  },
  {
   "cell_type": "code",
   "execution_count": 117,
   "metadata": {},
   "outputs": [
    {
     "data": {
      "image/png": "[encoded data removed]",
      "text/plain": [
       "<Figure size 1000x600 with 1 Axes>"
      ]
     },
     "metadata": {},
     "output_type": "display_data"
    }
   ],
   "source": [
    "sns.set(style=\"whitegrid\")\n",
    "plt.figure(figsize=(10, 6))\n",
    "sns.barplot(x='Residual Magnitude', y='Sector', data=averages_by_sector.sort_values('Residual Magnitude', ascending=True))\n",
    "plt.title('Average Residual Magnitude by Sector')\n",
    "plt.xlabel('Average Residual Magnitude')\n",
    "plt.ylabel('Sector')\n",
    "plt.show()"
   ]
  }
 ],
 "metadata": {
  "kernelspec": {
   "display_name": "learn-env",
   "language": "python",
   "name": "python3"
  },
  "language_info": {
   "codemirror_mode": {
    "name": "ipython",
    "version": 3
   },
   "file_extension": ".py",
   "mimetype": "text/x-python",
   "name": "python",
   "nbconvert_exporter": "python",
   "pygments_lexer": "ipython3",
   "version": "3.9.13"
  },
  "orig_nbformat": 4
 },
 "nbformat": 4,
 "nbformat_minor": 2
}
