{
 "cells": [
  {
   "attachments": {},
   "cell_type": "markdown",
   "metadata": {},
   "source": [
    "## Modeling Notebook"
   ]
  },
  {
   "cell_type": "code",
   "execution_count": 33,
   "metadata": {},
   "outputs": [],
   "source": [
    "import pandas as pd\n",
    "import yfinance as yf\n",
    "from yahooquery import Ticker\n",
    "from sklearn.model_selection import train_test_split\n",
    "from tqdm import tqdm\n",
    "from sklearn.ensemble import RandomForestClassifier\n",
    "from sklearn.metrics import accuracy_score, confusion_matrix, ConfusionMatrixDisplay\n",
    "from sklearn.preprocessing import StandardScaler"
   ]
  },
  {
   "cell_type": "code",
   "execution_count": 2,
   "metadata": {},
   "outputs": [
    {
     "data": {
      "text/html": [
       "<div>\n",
       "<style scoped>\n",
       "    .dataframe tbody tr th:only-of-type {\n",
       "        vertical-align: middle;\n",
       "    }\n",
       "\n",
       "    .dataframe tbody tr th {\n",
       "        vertical-align: top;\n",
       "    }\n",
       "\n",
       "    .dataframe thead th {\n",
       "        text-align: right;\n",
       "    }\n",
       "</style>\n",
       "<table border=\"1\" class=\"dataframe\">\n",
       "  <thead>\n",
       "    <tr style=\"text-align: right;\">\n",
       "      <th></th>\n",
       "      <th>Ticker</th>\n",
       "      <th>AveragePriceTarget</th>\n",
       "      <th>NumRatings</th>\n",
       "      <th>ClosingPrice</th>\n",
       "      <th>MarketCap</th>\n",
       "      <th>ExpectedGrowthRate</th>\n",
       "      <th>OverallRecommendation</th>\n",
       "      <th>ProjectedMarketCap</th>\n",
       "    </tr>\n",
       "  </thead>\n",
       "  <tbody>\n",
       "    <tr>\n",
       "      <th>0</th>\n",
       "      <td>A</td>\n",
       "      <td>166.50</td>\n",
       "      <td>14</td>\n",
       "      <td>138.09</td>\n",
       "      <td>4.088458e+10</td>\n",
       "      <td>0.206</td>\n",
       "      <td>0</td>\n",
       "      <td>4.930681e+10</td>\n",
       "    </tr>\n",
       "    <tr>\n",
       "      <th>1</th>\n",
       "      <td>AA</td>\n",
       "      <td>50.00</td>\n",
       "      <td>11</td>\n",
       "      <td>39.43</td>\n",
       "      <td>7.032538e+09</td>\n",
       "      <td>0.268</td>\n",
       "      <td>1</td>\n",
       "      <td>8.917258e+09</td>\n",
       "    </tr>\n",
       "    <tr>\n",
       "      <th>2</th>\n",
       "      <td>AADI</td>\n",
       "      <td>37.00</td>\n",
       "      <td>3</td>\n",
       "      <td>7.20</td>\n",
       "      <td>1.756447e+08</td>\n",
       "      <td>4.139</td>\n",
       "      <td>1</td>\n",
       "      <td>9.026382e+08</td>\n",
       "    </tr>\n",
       "    <tr>\n",
       "      <th>3</th>\n",
       "      <td>AAL</td>\n",
       "      <td>16.62</td>\n",
       "      <td>14</td>\n",
       "      <td>13.89</td>\n",
       "      <td>1.862496e+10</td>\n",
       "      <td>0.197</td>\n",
       "      <td>0</td>\n",
       "      <td>2.229408e+10</td>\n",
       "    </tr>\n",
       "    <tr>\n",
       "      <th>4</th>\n",
       "      <td>AAN</td>\n",
       "      <td>16.00</td>\n",
       "      <td>5</td>\n",
       "      <td>9.54</td>\n",
       "      <td>2.936460e+08</td>\n",
       "      <td>0.677</td>\n",
       "      <td>1</td>\n",
       "      <td>4.924443e+08</td>\n",
       "    </tr>\n",
       "  </tbody>\n",
       "</table>\n",
       "</div>"
      ],
      "text/plain": [
       "  Ticker  AveragePriceTarget  NumRatings  ClosingPrice     MarketCap  \\\n",
       "0      A              166.50          14        138.09  4.088458e+10   \n",
       "1     AA               50.00          11         39.43  7.032538e+09   \n",
       "2   AADI               37.00           3          7.20  1.756447e+08   \n",
       "3    AAL               16.62          14         13.89  1.862496e+10   \n",
       "4    AAN               16.00           5          9.54  2.936460e+08   \n",
       "\n",
       "   ExpectedGrowthRate  OverallRecommendation  ProjectedMarketCap  \n",
       "0               0.206                      0        4.930681e+10  \n",
       "1               0.268                      1        8.917258e+09  \n",
       "2               4.139                      1        9.026382e+08  \n",
       "3               0.197                      0        2.229408e+10  \n",
       "4               0.677                      1        4.924443e+08  "
      ]
     },
     "execution_count": 2,
     "metadata": {},
     "output_type": "execute_result"
    }
   ],
   "source": [
    "# Reading in Data from EDA Notebook\n",
    "stock_data = pd.read_csv('data/analyst_data_with_labels.csv')\n",
    "stock_data.head()"
   ]
  },
  {
   "cell_type": "code",
   "execution_count": 3,
   "metadata": {},
   "outputs": [
    {
     "name": "stdout",
     "output_type": "stream",
     "text": [
      "<class 'pandas.core.frame.DataFrame'>\n",
      "RangeIndex: 3261 entries, 0 to 3260\n",
      "Data columns (total 8 columns):\n",
      " #   Column                 Non-Null Count  Dtype  \n",
      "---  ------                 --------------  -----  \n",
      " 0   Ticker                 3261 non-null   object \n",
      " 1   AveragePriceTarget     3261 non-null   float64\n",
      " 2   NumRatings             3261 non-null   int64  \n",
      " 3   ClosingPrice           3261 non-null   float64\n",
      " 4   MarketCap              3261 non-null   float64\n",
      " 5   ExpectedGrowthRate     3261 non-null   float64\n",
      " 6   OverallRecommendation  3261 non-null   int64  \n",
      " 7   ProjectedMarketCap     3261 non-null   float64\n",
      "dtypes: float64(5), int64(2), object(1)\n",
      "memory usage: 203.9+ KB\n"
     ]
    }
   ],
   "source": [
    "stock_data.info()"
   ]
  },
  {
   "cell_type": "code",
   "execution_count": 4,
   "metadata": {},
   "outputs": [],
   "source": [
    "# Dropping Bad Columns\n",
    "stock_data.drop(stock_data[stock_data['Ticker'] == 'STR'].index, axis = 0, inplace = True)\n",
    "stock_data.drop(stock_data[stock_data['Ticker'] == 'BIOS'].index, axis = 0, inplace = True)"
   ]
  },
  {
   "attachments": {},
   "cell_type": "markdown",
   "metadata": {},
   "source": [
    "#### First Basic Model- Use Normalized EBITDA"
   ]
  },
  {
   "attachments": {},
   "cell_type": "markdown",
   "metadata": {},
   "source": [
    "Normalized EBITDA is good because it measures the profitability of businesses. It isn't the end-all-be-all, especially with smaller, more speculative companies (mainly in the biotech industry), but it is a good starting point."
   ]
  },
  {
   "cell_type": "code",
   "execution_count": 5,
   "metadata": {},
   "outputs": [
    {
     "name": "stderr",
     "output_type": "stream",
     "text": [
      "  0%|          | 8/3259 [00:05<34:30,  1.57it/s]\n"
     ]
    },
    {
     "ename": "KeyError",
     "evalue": "'NormalizedEBITDA'",
     "output_type": "error",
     "traceback": [
      "\u001b[1;31m---------------------------------------------------------------------------\u001b[0m",
      "\u001b[1;31mKeyError\u001b[0m                                  Traceback (most recent call last)",
      "File \u001b[1;32mc:\\Users\\cnade\\anaconda3\\envs\\learn-env\\lib\\site-packages\\pandas\\core\\indexes\\base.py:3629\u001b[0m, in \u001b[0;36mIndex.get_loc\u001b[1;34m(self, key, method, tolerance)\u001b[0m\n\u001b[0;32m   3628\u001b[0m \u001b[39mtry\u001b[39;00m:\n\u001b[1;32m-> 3629\u001b[0m     \u001b[39mreturn\u001b[39;00m \u001b[39mself\u001b[39;49m\u001b[39m.\u001b[39;49m_engine\u001b[39m.\u001b[39;49mget_loc(casted_key)\n\u001b[0;32m   3630\u001b[0m \u001b[39mexcept\u001b[39;00m \u001b[39mKeyError\u001b[39;00m \u001b[39mas\u001b[39;00m err:\n",
      "File \u001b[1;32mc:\\Users\\cnade\\anaconda3\\envs\\learn-env\\lib\\site-packages\\pandas\\_libs\\index.pyx:136\u001b[0m, in \u001b[0;36mpandas._libs.index.IndexEngine.get_loc\u001b[1;34m()\u001b[0m\n",
      "File \u001b[1;32mc:\\Users\\cnade\\anaconda3\\envs\\learn-env\\lib\\site-packages\\pandas\\_libs\\index.pyx:163\u001b[0m, in \u001b[0;36mpandas._libs.index.IndexEngine.get_loc\u001b[1;34m()\u001b[0m\n",
      "File \u001b[1;32mpandas\\_libs\\hashtable_class_helper.pxi:5198\u001b[0m, in \u001b[0;36mpandas._libs.hashtable.PyObjectHashTable.get_item\u001b[1;34m()\u001b[0m\n",
      "File \u001b[1;32mpandas\\_libs\\hashtable_class_helper.pxi:5206\u001b[0m, in \u001b[0;36mpandas._libs.hashtable.PyObjectHashTable.get_item\u001b[1;34m()\u001b[0m\n",
      "\u001b[1;31mKeyError\u001b[0m: 'NormalizedEBITDA'",
      "\nThe above exception was the direct cause of the following exception:\n",
      "\u001b[1;31mKeyError\u001b[0m                                  Traceback (most recent call last)",
      "Cell \u001b[1;32mIn[5], line 4\u001b[0m\n\u001b[0;32m      1\u001b[0m \u001b[39m# Using YahooQuery to get Normalized EBITDA for each ticker\u001b[39;00m\n\u001b[0;32m      2\u001b[0m \u001b[39mfor\u001b[39;00m ticker \u001b[39min\u001b[39;00m tqdm(stock_data[\u001b[39m'\u001b[39m\u001b[39mTicker\u001b[39m\u001b[39m'\u001b[39m]):\n\u001b[0;32m      3\u001b[0m     \u001b[39m# Create new column -> Append most recent Normalized EBITDA number\u001b[39;00m\n\u001b[1;32m----> 4\u001b[0m     stock_data[\u001b[39m'\u001b[39m\u001b[39mNormEBITDA\u001b[39m\u001b[39m'\u001b[39m] \u001b[39m=\u001b[39m Ticker(ticker)\u001b[39m.\u001b[39;49mincome_statement()[\u001b[39m'\u001b[39;49m\u001b[39mNormalizedEBITDA\u001b[39;49m\u001b[39m'\u001b[39;49m][\u001b[39m-\u001b[39m\u001b[39m1\u001b[39m]\n",
      "File \u001b[1;32mc:\\Users\\cnade\\anaconda3\\envs\\learn-env\\lib\\site-packages\\pandas\\core\\frame.py:3505\u001b[0m, in \u001b[0;36mDataFrame.__getitem__\u001b[1;34m(self, key)\u001b[0m\n\u001b[0;32m   3503\u001b[0m \u001b[39mif\u001b[39;00m \u001b[39mself\u001b[39m\u001b[39m.\u001b[39mcolumns\u001b[39m.\u001b[39mnlevels \u001b[39m>\u001b[39m \u001b[39m1\u001b[39m:\n\u001b[0;32m   3504\u001b[0m     \u001b[39mreturn\u001b[39;00m \u001b[39mself\u001b[39m\u001b[39m.\u001b[39m_getitem_multilevel(key)\n\u001b[1;32m-> 3505\u001b[0m indexer \u001b[39m=\u001b[39m \u001b[39mself\u001b[39;49m\u001b[39m.\u001b[39;49mcolumns\u001b[39m.\u001b[39;49mget_loc(key)\n\u001b[0;32m   3506\u001b[0m \u001b[39mif\u001b[39;00m is_integer(indexer):\n\u001b[0;32m   3507\u001b[0m     indexer \u001b[39m=\u001b[39m [indexer]\n",
      "File \u001b[1;32mc:\\Users\\cnade\\anaconda3\\envs\\learn-env\\lib\\site-packages\\pandas\\core\\indexes\\base.py:3631\u001b[0m, in \u001b[0;36mIndex.get_loc\u001b[1;34m(self, key, method, tolerance)\u001b[0m\n\u001b[0;32m   3629\u001b[0m     \u001b[39mreturn\u001b[39;00m \u001b[39mself\u001b[39m\u001b[39m.\u001b[39m_engine\u001b[39m.\u001b[39mget_loc(casted_key)\n\u001b[0;32m   3630\u001b[0m \u001b[39mexcept\u001b[39;00m \u001b[39mKeyError\u001b[39;00m \u001b[39mas\u001b[39;00m err:\n\u001b[1;32m-> 3631\u001b[0m     \u001b[39mraise\u001b[39;00m \u001b[39mKeyError\u001b[39;00m(key) \u001b[39mfrom\u001b[39;00m \u001b[39merr\u001b[39;00m\n\u001b[0;32m   3632\u001b[0m \u001b[39mexcept\u001b[39;00m \u001b[39mTypeError\u001b[39;00m:\n\u001b[0;32m   3633\u001b[0m     \u001b[39m# If we have a listlike key, _check_indexing_error will raise\u001b[39;00m\n\u001b[0;32m   3634\u001b[0m     \u001b[39m#  InvalidIndexError. Otherwise we fall through and re-raise\u001b[39;00m\n\u001b[0;32m   3635\u001b[0m     \u001b[39m#  the TypeError.\u001b[39;00m\n\u001b[0;32m   3636\u001b[0m     \u001b[39mself\u001b[39m\u001b[39m.\u001b[39m_check_indexing_error(key)\n",
      "\u001b[1;31mKeyError\u001b[0m: 'NormalizedEBITDA'"
     ]
    }
   ],
   "source": [
    "# Using YahooQuery to get Normalized EBITDA for each ticker\n",
    "for ticker in tqdm(stock_data['Ticker']):\n",
    "    # Create new column -> Append most recent Normalized EBITDA number\n",
    "    stock_data['NormEBITDA'] = Ticker(ticker).income_statement()['NormalizedEBITDA'][-1]"
   ]
  },
  {
   "cell_type": "code",
   "execution_count": null,
   "metadata": {},
   "outputs": [
    {
     "data": {
      "text/html": [
       "<div>\n",
       "<style scoped>\n",
       "    .dataframe tbody tr th:only-of-type {\n",
       "        vertical-align: middle;\n",
       "    }\n",
       "\n",
       "    .dataframe tbody tr th {\n",
       "        vertical-align: top;\n",
       "    }\n",
       "\n",
       "    .dataframe thead th {\n",
       "        text-align: right;\n",
       "    }\n",
       "</style>\n",
       "<table border=\"1\" class=\"dataframe\">\n",
       "  <thead>\n",
       "    <tr style=\"text-align: right;\">\n",
       "      <th></th>\n",
       "      <th>asOfDate</th>\n",
       "      <th>periodType</th>\n",
       "      <th>currencyCode</th>\n",
       "      <th>AverageDilutionEarnings</th>\n",
       "      <th>BasicAverageShares</th>\n",
       "      <th>BasicEPS</th>\n",
       "      <th>BeginningCashPosition</th>\n",
       "      <th>CapitalStock</th>\n",
       "      <th>CashDividendsPaid</th>\n",
       "      <th>ChangeInCashSupplementalAsReported</th>\n",
       "      <th>...</th>\n",
       "      <th>ShareIssued</th>\n",
       "      <th>StockholdersEquity</th>\n",
       "      <th>TangibleBookValue</th>\n",
       "      <th>TaxEffectOfUnusualItems</th>\n",
       "      <th>TaxProvision</th>\n",
       "      <th>TaxRateForCalcs</th>\n",
       "      <th>TotalAssets</th>\n",
       "      <th>TotalEquityGrossMinorityInterest</th>\n",
       "      <th>TotalLiabilitiesNetMinorityInterest</th>\n",
       "      <th>TotalRevenue</th>\n",
       "    </tr>\n",
       "    <tr>\n",
       "      <th>symbol</th>\n",
       "      <th></th>\n",
       "      <th></th>\n",
       "      <th></th>\n",
       "      <th></th>\n",
       "      <th></th>\n",
       "      <th></th>\n",
       "      <th></th>\n",
       "      <th></th>\n",
       "      <th></th>\n",
       "      <th></th>\n",
       "      <th></th>\n",
       "      <th></th>\n",
       "      <th></th>\n",
       "      <th></th>\n",
       "      <th></th>\n",
       "      <th></th>\n",
       "      <th></th>\n",
       "      <th></th>\n",
       "      <th></th>\n",
       "      <th></th>\n",
       "      <th></th>\n",
       "    </tr>\n",
       "  </thead>\n",
       "  <tbody>\n",
       "    <tr>\n",
       "      <th>AB</th>\n",
       "      <td>2019-12-31</td>\n",
       "      <td>12M</td>\n",
       "      <td>USD</td>\n",
       "      <td>79000.0</td>\n",
       "      <td>95883604.0</td>\n",
       "      <td>2.488048</td>\n",
       "      <td>0.0</td>\n",
       "      <td>1.620602e+09</td>\n",
       "      <td>-222485000.0</td>\n",
       "      <td>0.0</td>\n",
       "      <td>...</td>\n",
       "      <td>98092098.0</td>\n",
       "      <td>1.552538e+09</td>\n",
       "      <td>1.552538e+09</td>\n",
       "      <td>0.0</td>\n",
       "      <td>27729000.0</td>\n",
       "      <td>0.051</td>\n",
       "      <td>1.554264e+09</td>\n",
       "      <td>1.552538e+09</td>\n",
       "      <td>1726000.0</td>\n",
       "      <td>266292000.0</td>\n",
       "    </tr>\n",
       "    <tr>\n",
       "      <th>AB</th>\n",
       "      <td>2020-12-31</td>\n",
       "      <td>12M</td>\n",
       "      <td>USD</td>\n",
       "      <td>NaN</td>\n",
       "      <td>96870007.0</td>\n",
       "      <td>2.884071</td>\n",
       "      <td>0.0</td>\n",
       "      <td>1.658226e+09</td>\n",
       "      <td>-270881000.0</td>\n",
       "      <td>0.0</td>\n",
       "      <td>...</td>\n",
       "      <td>98222942.0</td>\n",
       "      <td>1.604157e+09</td>\n",
       "      <td>1.604157e+09</td>\n",
       "      <td>0.0</td>\n",
       "      <td>29024000.0</td>\n",
       "      <td>0.050</td>\n",
       "      <td>1.606033e+09</td>\n",
       "      <td>1.604157e+09</td>\n",
       "      <td>1876000.0</td>\n",
       "      <td>308404000.0</td>\n",
       "    </tr>\n",
       "    <tr>\n",
       "      <th>AB</th>\n",
       "      <td>2021-12-31</td>\n",
       "      <td>12M</td>\n",
       "      <td>USD</td>\n",
       "      <td>NaN</td>\n",
       "      <td>99545000.0</td>\n",
       "      <td>3.880000</td>\n",
       "      <td>0.0</td>\n",
       "      <td>1.697638e+09</td>\n",
       "      <td>-357455000.0</td>\n",
       "      <td>0.0</td>\n",
       "      <td>...</td>\n",
       "      <td>99271727.0</td>\n",
       "      <td>1.621624e+09</td>\n",
       "      <td>1.621624e+09</td>\n",
       "      <td>0.0</td>\n",
       "      <td>30483000.0</td>\n",
       "      <td>0.052</td>\n",
       "      <td>1.623764e+09</td>\n",
       "      <td>1.621624e+09</td>\n",
       "      <td>2140000.0</td>\n",
       "      <td>416326000.0</td>\n",
       "    </tr>\n",
       "    <tr>\n",
       "      <th>AB</th>\n",
       "      <td>2022-12-31</td>\n",
       "      <td>12M</td>\n",
       "      <td>USD</td>\n",
       "      <td>2000.0</td>\n",
       "      <td>NaN</td>\n",
       "      <td>NaN</td>\n",
       "      <td>0.0</td>\n",
       "      <td>2.161562e+09</td>\n",
       "      <td>-361024000.0</td>\n",
       "      <td>0.0</td>\n",
       "      <td>...</td>\n",
       "      <td>113801097.0</td>\n",
       "      <td>2.073003e+09</td>\n",
       "      <td>2.073003e+09</td>\n",
       "      <td>0.0</td>\n",
       "      <td>31339000.0</td>\n",
       "      <td>0.049</td>\n",
       "      <td>2.074626e+09</td>\n",
       "      <td>2.073003e+09</td>\n",
       "      <td>1623000.0</td>\n",
       "      <td>305504000.0</td>\n",
       "    </tr>\n",
       "  </tbody>\n",
       "</table>\n",
       "<p>4 rows × 58 columns</p>\n",
       "</div>"
      ],
      "text/plain": [
       "         asOfDate periodType currencyCode  AverageDilutionEarnings  \\\n",
       "symbol                                                               \n",
       "AB     2019-12-31        12M          USD                  79000.0   \n",
       "AB     2020-12-31        12M          USD                      NaN   \n",
       "AB     2021-12-31        12M          USD                      NaN   \n",
       "AB     2022-12-31        12M          USD                   2000.0   \n",
       "\n",
       "        BasicAverageShares  BasicEPS  BeginningCashPosition  CapitalStock  \\\n",
       "symbol                                                                      \n",
       "AB              95883604.0  2.488048                    0.0  1.620602e+09   \n",
       "AB              96870007.0  2.884071                    0.0  1.658226e+09   \n",
       "AB              99545000.0  3.880000                    0.0  1.697638e+09   \n",
       "AB                     NaN       NaN                    0.0  2.161562e+09   \n",
       "\n",
       "        CashDividendsPaid  ChangeInCashSupplementalAsReported  ...  \\\n",
       "symbol                                                         ...   \n",
       "AB           -222485000.0                                 0.0  ...   \n",
       "AB           -270881000.0                                 0.0  ...   \n",
       "AB           -357455000.0                                 0.0  ...   \n",
       "AB           -361024000.0                                 0.0  ...   \n",
       "\n",
       "        ShareIssued  StockholdersEquity  TangibleBookValue  \\\n",
       "symbol                                                       \n",
       "AB       98092098.0        1.552538e+09       1.552538e+09   \n",
       "AB       98222942.0        1.604157e+09       1.604157e+09   \n",
       "AB       99271727.0        1.621624e+09       1.621624e+09   \n",
       "AB      113801097.0        2.073003e+09       2.073003e+09   \n",
       "\n",
       "        TaxEffectOfUnusualItems  TaxProvision  TaxRateForCalcs   TotalAssets  \\\n",
       "symbol                                                                         \n",
       "AB                          0.0    27729000.0            0.051  1.554264e+09   \n",
       "AB                          0.0    29024000.0            0.050  1.606033e+09   \n",
       "AB                          0.0    30483000.0            0.052  1.623764e+09   \n",
       "AB                          0.0    31339000.0            0.049  2.074626e+09   \n",
       "\n",
       "        TotalEquityGrossMinorityInterest  TotalLiabilitiesNetMinorityInterest  \\\n",
       "symbol                                                                          \n",
       "AB                          1.552538e+09                            1726000.0   \n",
       "AB                          1.604157e+09                            1876000.0   \n",
       "AB                          1.621624e+09                            2140000.0   \n",
       "AB                          2.073003e+09                            1623000.0   \n",
       "\n",
       "        TotalRevenue  \n",
       "symbol                \n",
       "AB       266292000.0  \n",
       "AB       308404000.0  \n",
       "AB       416326000.0  \n",
       "AB       305504000.0  \n",
       "\n",
       "[4 rows x 58 columns]"
      ]
     },
     "execution_count": 43,
     "metadata": {},
     "output_type": "execute_result"
    }
   ],
   "source": [
    "Ticker(stock_data['Ticker'][8]).all_financial_data()"
   ]
  },
  {
   "cell_type": "code",
   "execution_count": 6,
   "metadata": {},
   "outputs": [],
   "source": [
    "stock_data.drop(columns = ['NormEBITDA'], axis = 1, inplace = True)"
   ]
  },
  {
   "attachments": {},
   "cell_type": "markdown",
   "metadata": {},
   "source": [
    "Looks like some companies don't have Normalized EBITDA as a metric, which doesn't really make sense, but alas. Let's use a more basic metric, TotalRevenue, to measure instead"
   ]
  },
  {
   "cell_type": "code",
   "execution_count": 7,
   "metadata": {},
   "outputs": [],
   "source": [
    "error_tickers = []"
   ]
  },
  {
   "cell_type": "code",
   "execution_count": 8,
   "metadata": {},
   "outputs": [
    {
     "name": "stderr",
     "output_type": "stream",
     "text": [
      "100%|██████████| 3259/3259 [39:56<00:00,  1.36it/s] \n"
     ]
    }
   ],
   "source": [
    "total_revenue = []\n",
    "for ticker in tqdm(stock_data['Ticker']):\n",
    "    try:\n",
    "        revenue = Ticker(ticker).all_financial_data()['TotalRevenue'][-1]\n",
    "        total_revenue.append(revenue)\n",
    "    except:\n",
    "        total_revenue.append(None)\n",
    "        error_tickers.append(ticker)\n",
    "\n",
    "# Create a pandas series from the total revenue data\n",
    "total_revenue_series = pd.Series(total_revenue, index=stock_data.index)\n",
    "\n",
    "# Add the new 'TotalRevenue' column to the stock_data dataframe\n",
    "stock_data['TotalRevenue'] = total_revenue_series"
   ]
  },
  {
   "cell_type": "code",
   "execution_count": 16,
   "metadata": {},
   "outputs": [
    {
     "data": {
      "text/plain": [
       "['SAR', 'ZYME']"
      ]
     },
     "execution_count": 16,
     "metadata": {},
     "output_type": "execute_result"
    }
   ],
   "source": [
    "error_tickers"
   ]
  },
  {
   "cell_type": "code",
   "execution_count": 17,
   "metadata": {},
   "outputs": [
    {
     "data": {
      "text/plain": [
       "2"
      ]
     },
     "execution_count": 17,
     "metadata": {},
     "output_type": "execute_result"
    }
   ],
   "source": [
    "len(error_tickers)"
   ]
  },
  {
   "cell_type": "code",
   "execution_count": 19,
   "metadata": {},
   "outputs": [],
   "source": [
    "mask = ~stock_data['Ticker'].isin(error_tickers)\n",
    "\n",
    "# New DataFrame with tickers dropped\n",
    "stock_data = stock_data[mask]"
   ]
  },
  {
   "cell_type": "code",
   "execution_count": 21,
   "metadata": {},
   "outputs": [
    {
     "data": {
      "text/plain": [
       "0       6.848000e+09\n",
       "1       1.245100e+10\n",
       "2       1.000000e+06\n",
       "3       4.897100e+10\n",
       "4       2.249434e+09\n",
       "            ...     \n",
       "3256    1.631810e+08\n",
       "3257    1.045800e+07\n",
       "3258    1.281800e+09\n",
       "3259             NaN\n",
       "3260    1.303010e+08\n",
       "Length: 3259, dtype: float64"
      ]
     },
     "execution_count": 21,
     "metadata": {},
     "output_type": "execute_result"
    }
   ],
   "source": [
    "total_revenue_series"
   ]
  },
  {
   "cell_type": "code",
   "execution_count": 20,
   "metadata": {},
   "outputs": [
    {
     "name": "stderr",
     "output_type": "stream",
     "text": [
      "C:\\Users\\cnade\\AppData\\Local\\Temp\\ipykernel_80500\\4240918470.py:1: SettingWithCopyWarning: \n",
      "A value is trying to be set on a copy of a slice from a DataFrame.\n",
      "Try using .loc[row_indexer,col_indexer] = value instead\n",
      "\n",
      "See the caveats in the documentation: https://pandas.pydata.org/pandas-docs/stable/user_guide/indexing.html#returning-a-view-versus-a-copy\n",
      "  stock_data['TotalRevenue'] = total_revenue_series\n"
     ]
    }
   ],
   "source": [
    "stock_data['TotalRevenue'] = total_revenue_series"
   ]
  },
  {
   "cell_type": "code",
   "execution_count": 25,
   "metadata": {},
   "outputs": [
    {
     "name": "stdout",
     "output_type": "stream",
     "text": [
      "<class 'pandas.core.frame.DataFrame'>\n",
      "Int64Index: 3257 entries, 0 to 3260\n",
      "Data columns (total 9 columns):\n",
      " #   Column                 Non-Null Count  Dtype  \n",
      "---  ------                 --------------  -----  \n",
      " 0   Ticker                 3257 non-null   object \n",
      " 1   AveragePriceTarget     3257 non-null   float64\n",
      " 2   NumRatings             3257 non-null   int64  \n",
      " 3   ClosingPrice           3257 non-null   float64\n",
      " 4   MarketCap              3257 non-null   float64\n",
      " 5   ExpectedGrowthRate     3257 non-null   float64\n",
      " 6   OverallRecommendation  3257 non-null   int64  \n",
      " 7   ProjectedMarketCap     3257 non-null   float64\n",
      " 8   TotalRevenue           3230 non-null   float64\n",
      "dtypes: float64(6), int64(2), object(1)\n",
      "memory usage: 254.5+ KB\n"
     ]
    }
   ],
   "source": [
    "stock_data.info()"
   ]
  },
  {
   "cell_type": "code",
   "execution_count": 26,
   "metadata": {},
   "outputs": [
    {
     "name": "stderr",
     "output_type": "stream",
     "text": [
      "C:\\Users\\cnade\\AppData\\Local\\Temp\\ipykernel_80500\\3893329783.py:1: SettingWithCopyWarning: \n",
      "A value is trying to be set on a copy of a slice from a DataFrame\n",
      "\n",
      "See the caveats in the documentation: https://pandas.pydata.org/pandas-docs/stable/user_guide/indexing.html#returning-a-view-versus-a-copy\n",
      "  stock_data.dropna(inplace= True)\n"
     ]
    }
   ],
   "source": [
    "stock_data.dropna(inplace= True)"
   ]
  },
  {
   "cell_type": "code",
   "execution_count": 27,
   "metadata": {},
   "outputs": [
    {
     "name": "stdout",
     "output_type": "stream",
     "text": [
      "<class 'pandas.core.frame.DataFrame'>\n",
      "Int64Index: 3230 entries, 0 to 3260\n",
      "Data columns (total 9 columns):\n",
      " #   Column                 Non-Null Count  Dtype  \n",
      "---  ------                 --------------  -----  \n",
      " 0   Ticker                 3230 non-null   object \n",
      " 1   AveragePriceTarget     3230 non-null   float64\n",
      " 2   NumRatings             3230 non-null   int64  \n",
      " 3   ClosingPrice           3230 non-null   float64\n",
      " 4   MarketCap              3230 non-null   float64\n",
      " 5   ExpectedGrowthRate     3230 non-null   float64\n",
      " 6   OverallRecommendation  3230 non-null   int64  \n",
      " 7   ProjectedMarketCap     3230 non-null   float64\n",
      " 8   TotalRevenue           3230 non-null   float64\n",
      "dtypes: float64(6), int64(2), object(1)\n",
      "memory usage: 252.3+ KB\n"
     ]
    }
   ],
   "source": [
    "stock_data.info()"
   ]
  },
  {
   "attachments": {},
   "cell_type": "markdown",
   "metadata": {},
   "source": [
    "Nice- All our companies reported some sort of revenue (As required by law). We're now ready to set up our first model"
   ]
  },
  {
   "cell_type": "code",
   "execution_count": 28,
   "metadata": {},
   "outputs": [],
   "source": [
    "stock_data.to_csv('First_Model_Data.csv')"
   ]
  },
  {
   "cell_type": "code",
   "execution_count": 29,
   "metadata": {},
   "outputs": [
    {
     "data": {
      "text/html": [
       "<div>\n",
       "<style scoped>\n",
       "    .dataframe tbody tr th:only-of-type {\n",
       "        vertical-align: middle;\n",
       "    }\n",
       "\n",
       "    .dataframe tbody tr th {\n",
       "        vertical-align: top;\n",
       "    }\n",
       "\n",
       "    .dataframe thead th {\n",
       "        text-align: right;\n",
       "    }\n",
       "</style>\n",
       "<table border=\"1\" class=\"dataframe\">\n",
       "  <thead>\n",
       "    <tr style=\"text-align: right;\">\n",
       "      <th></th>\n",
       "      <th>AveragePriceTarget</th>\n",
       "      <th>NumRatings</th>\n",
       "      <th>ClosingPrice</th>\n",
       "      <th>MarketCap</th>\n",
       "      <th>ExpectedGrowthRate</th>\n",
       "      <th>OverallRecommendation</th>\n",
       "      <th>ProjectedMarketCap</th>\n",
       "      <th>TotalRevenue</th>\n",
       "    </tr>\n",
       "  </thead>\n",
       "  <tbody>\n",
       "    <tr>\n",
       "      <th>count</th>\n",
       "      <td>3230.000000</td>\n",
       "      <td>3230.000000</td>\n",
       "      <td>3230.000000</td>\n",
       "      <td>3.230000e+03</td>\n",
       "      <td>3230.000000</td>\n",
       "      <td>3230.000000</td>\n",
       "      <td>3.230000e+03</td>\n",
       "      <td>3.230000e+03</td>\n",
       "    </tr>\n",
       "    <tr>\n",
       "      <th>mean</th>\n",
       "      <td>65.905913</td>\n",
       "      <td>8.595666</td>\n",
       "      <td>54.505889</td>\n",
       "      <td>1.599859e+10</td>\n",
       "      <td>1.050058</td>\n",
       "      <td>0.520124</td>\n",
       "      <td>1.866133e+10</td>\n",
       "      <td>8.406432e+10</td>\n",
       "    </tr>\n",
       "    <tr>\n",
       "      <th>std</th>\n",
       "      <td>159.714747</td>\n",
       "      <td>5.059875</td>\n",
       "      <td>148.724780</td>\n",
       "      <td>8.129981e+10</td>\n",
       "      <td>4.222461</td>\n",
       "      <td>0.591619</td>\n",
       "      <td>9.105191e+10</td>\n",
       "      <td>2.898617e+12</td>\n",
       "    </tr>\n",
       "    <tr>\n",
       "      <th>min</th>\n",
       "      <td>0.500000</td>\n",
       "      <td>3.000000</td>\n",
       "      <td>0.060000</td>\n",
       "      <td>1.928435e+06</td>\n",
       "      <td>-0.658000</td>\n",
       "      <td>-1.000000</td>\n",
       "      <td>1.355883e+07</td>\n",
       "      <td>-1.116000e+09</td>\n",
       "    </tr>\n",
       "    <tr>\n",
       "      <th>25%</th>\n",
       "      <td>12.000000</td>\n",
       "      <td>4.000000</td>\n",
       "      <td>6.680000</td>\n",
       "      <td>4.824180e+08</td>\n",
       "      <td>0.140250</td>\n",
       "      <td>0.000000</td>\n",
       "      <td>8.893442e+08</td>\n",
       "      <td>1.674785e+08</td>\n",
       "    </tr>\n",
       "    <tr>\n",
       "      <th>50%</th>\n",
       "      <td>28.000000</td>\n",
       "      <td>7.000000</td>\n",
       "      <td>20.235000</td>\n",
       "      <td>2.086045e+09</td>\n",
       "      <td>0.305000</td>\n",
       "      <td>1.000000</td>\n",
       "      <td>2.839494e+09</td>\n",
       "      <td>1.007052e+09</td>\n",
       "    </tr>\n",
       "    <tr>\n",
       "      <th>75%</th>\n",
       "      <td>71.000000</td>\n",
       "      <td>12.000000</td>\n",
       "      <td>58.110000</td>\n",
       "      <td>7.629272e+09</td>\n",
       "      <td>0.724000</td>\n",
       "      <td>1.000000</td>\n",
       "      <td>9.410879e+09</td>\n",
       "      <td>4.827174e+09</td>\n",
       "    </tr>\n",
       "    <tr>\n",
       "      <th>max</th>\n",
       "      <td>5712.500000</td>\n",
       "      <td>20.000000</td>\n",
       "      <td>5542.840000</td>\n",
       "      <td>2.593336e+12</td>\n",
       "      <td>149.000000</td>\n",
       "      <td>1.000000</td>\n",
       "      <td>2.738563e+12</td>\n",
       "      <td>1.594740e+14</td>\n",
       "    </tr>\n",
       "  </tbody>\n",
       "</table>\n",
       "</div>"
      ],
      "text/plain": [
       "       AveragePriceTarget   NumRatings  ClosingPrice     MarketCap  \\\n",
       "count         3230.000000  3230.000000   3230.000000  3.230000e+03   \n",
       "mean            65.905913     8.595666     54.505889  1.599859e+10   \n",
       "std            159.714747     5.059875    148.724780  8.129981e+10   \n",
       "min              0.500000     3.000000      0.060000  1.928435e+06   \n",
       "25%             12.000000     4.000000      6.680000  4.824180e+08   \n",
       "50%             28.000000     7.000000     20.235000  2.086045e+09   \n",
       "75%             71.000000    12.000000     58.110000  7.629272e+09   \n",
       "max           5712.500000    20.000000   5542.840000  2.593336e+12   \n",
       "\n",
       "       ExpectedGrowthRate  OverallRecommendation  ProjectedMarketCap  \\\n",
       "count         3230.000000            3230.000000        3.230000e+03   \n",
       "mean             1.050058               0.520124        1.866133e+10   \n",
       "std              4.222461               0.591619        9.105191e+10   \n",
       "min             -0.658000              -1.000000        1.355883e+07   \n",
       "25%              0.140250               0.000000        8.893442e+08   \n",
       "50%              0.305000               1.000000        2.839494e+09   \n",
       "75%              0.724000               1.000000        9.410879e+09   \n",
       "max            149.000000               1.000000        2.738563e+12   \n",
       "\n",
       "       TotalRevenue  \n",
       "count  3.230000e+03  \n",
       "mean   8.406432e+10  \n",
       "std    2.898617e+12  \n",
       "min   -1.116000e+09  \n",
       "25%    1.674785e+08  \n",
       "50%    1.007052e+09  \n",
       "75%    4.827174e+09  \n",
       "max    1.594740e+14  "
      ]
     },
     "execution_count": 29,
     "metadata": {},
     "output_type": "execute_result"
    }
   ],
   "source": [
    "stock_data.describe()"
   ]
  },
  {
   "cell_type": "code",
   "execution_count": 30,
   "metadata": {},
   "outputs": [],
   "source": [
    "first_model_df = stock_data[['Ticker', 'TotalRevenue','OverallRecommendation']]\n",
    "first_model_df.set_index('Ticker', inplace = True)"
   ]
  },
  {
   "cell_type": "code",
   "execution_count": 47,
   "metadata": {},
   "outputs": [],
   "source": [
    "X = first_model_df['TotalRevenue']\n",
    "y = first_model_df['OverallRecommendation']\n",
    "X_train, X_test, y_train, y_test = train_test_split(X, y, test_size= 0.4, random_state= 42)"
   ]
  },
  {
   "cell_type": "code",
   "execution_count": 48,
   "metadata": {},
   "outputs": [],
   "source": [
    "X_train = X_train.to_numpy().reshape(-1, 1)\n",
    "X_test = X_test.to_numpy().reshape(-1, 1)\n",
    "scaler = StandardScaler()\n",
    "X_train_scaled = scaler.fit_transform(X_train)\n",
    "X_test_scaled = scaler.transform(X_test)"
   ]
  },
  {
   "cell_type": "code",
   "execution_count": 55,
   "metadata": {},
   "outputs": [
    {
     "name": "stdout",
     "output_type": "stream",
     "text": [
      "0.5727554179566563\n"
     ]
    },
    {
     "data": {
      "text/plain": [
       "<sklearn.metrics._plot.confusion_matrix.ConfusionMatrixDisplay at 0x1e43267f100>"
      ]
     },
     "execution_count": 55,
     "metadata": {},
     "output_type": "execute_result"
    },
    {
     "data": {
      "image/png": "[encoded data removed]",
      "text/plain": [
       "<Figure size 640x480 with 2 Axes>"
      ]
     },
     "metadata": {},
     "output_type": "display_data"
    }
   ],
   "source": [
    "rfc = RandomForestClassifier(random_state= 42)\n",
    "rfc.fit(X_train_scaled, y_train)\n",
    "y_pred = rfc.predict(X_test_scaled)\n",
    "accuracy = accuracy_score(y_test, y_pred)\n",
    "print(accuracy)\n",
    "cm = confusion_matrix(y_true = y_test, y_pred = y_pred)\n",
    "ConfusionMatrixDisplay(cm, display_labels= ['Buy','Hold','Sell']).plot()"
   ]
  },
  {
   "cell_type": "code",
   "execution_count": null,
   "metadata": {},
   "outputs": [],
   "source": []
  }
 ],
 "metadata": {
  "kernelspec": {
   "display_name": "learn-env",
   "language": "python",
   "name": "python3"
  },
  "language_info": {
   "codemirror_mode": {
    "name": "ipython",
    "version": 3
   },
   "file_extension": ".py",
   "mimetype": "text/x-python",
   "name": "python",
   "nbconvert_exporter": "python",
   "pygments_lexer": "ipython3",
   "version": "3.8.1"
  },
  "orig_nbformat": 4
 },
 "nbformat": 4,
 "nbformat_minor": 2
}
