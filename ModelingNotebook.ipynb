{
 "cells": [
  {
   "attachments": {},
   "cell_type": "markdown",
   "metadata": {},
   "source": [
    "## Modeling Notebook"
   ]
  },
  {
   "cell_type": "code",
   "execution_count": 138,
   "metadata": {},
   "outputs": [],
   "source": [
    "# General Packages\n",
    "import pandas as pd\n",
    "import yfinance as yf\n",
    "import numpy as np\n",
    "import seaborn as sns\n",
    "from yahooquery import Ticker\n",
    "from tqdm import tqdm\n",
    "\n",
    "# SK-Learn Packages\n",
    "from sklearn.model_selection import train_test_split\n",
    "from sklearn.ensemble import RandomForestClassifier\n",
    "from sklearn.metrics import accuracy_score, confusion_matrix, ConfusionMatrixDisplay, f1_score, make_scorer, mean_squared_error\n",
    "from sklearn.preprocessing import StandardScaler\n",
    "from imblearn.pipeline import Pipeline, make_pipeline\n",
    "from imblearn.over_sampling import SMOTE\n",
    "from sklearn.model_selection import GridSearchCV\n",
    "from sklearn.decomposition import PCA\n",
    "from sklearn.base import BaseEstimator, TransformerMixin\n",
    "from sklearn.linear_model import LinearRegression\n",
    "\n",
    "# CNN Modeling\n",
    "from tensorflow.keras.models import Sequential\n",
    "from tensorflow.keras.layers import Dense, Conv1D, Flatten, Dropout\n",
    "from keras.regularizers import l2\n",
    "from keras.wrappers.scikit_learn import KerasClassifier\n",
    "from keras.utils import to_categorical\n",
    "from keras.metrics import Precision, Recall, AUC\n",
    "from keras import backend as K"
   ]
  },
  {
   "cell_type": "code",
   "execution_count": 139,
   "metadata": {},
   "outputs": [
    {
     "data": {
      "text/html": [
       "<div>\n",
       "<style scoped>\n",
       "    .dataframe tbody tr th:only-of-type {\n",
       "        vertical-align: middle;\n",
       "    }\n",
       "\n",
       "    .dataframe tbody tr th {\n",
       "        vertical-align: top;\n",
       "    }\n",
       "\n",
       "    .dataframe thead th {\n",
       "        text-align: right;\n",
       "    }\n",
       "</style>\n",
       "<table border=\"1\" class=\"dataframe\">\n",
       "  <thead>\n",
       "    <tr style=\"text-align: right;\">\n",
       "      <th></th>\n",
       "      <th>Ticker</th>\n",
       "      <th>AveragePriceTarget</th>\n",
       "      <th>NumRatings</th>\n",
       "      <th>ClosingPrice</th>\n",
       "      <th>MarketCap</th>\n",
       "      <th>ExpectedGrowthRate</th>\n",
       "      <th>OverallRecommendation</th>\n",
       "      <th>ProjectedMarketCap</th>\n",
       "      <th>TotalRevenue</th>\n",
       "      <th>NormEBITDA</th>\n",
       "      <th>ReturnOnAssets</th>\n",
       "      <th>ChangeNormEBITDA</th>\n",
       "      <th>ChangeRevenue</th>\n",
       "      <th>OperatingCashFlow</th>\n",
       "      <th>ChangeOCF</th>\n",
       "    </tr>\n",
       "  </thead>\n",
       "  <tbody>\n",
       "    <tr>\n",
       "      <th>0</th>\n",
       "      <td>A</td>\n",
       "      <td>166.5</td>\n",
       "      <td>14</td>\n",
       "      <td>138.09</td>\n",
       "      <td>4.088458e+10</td>\n",
       "      <td>0.206</td>\n",
       "      <td>1</td>\n",
       "      <td>4.930681e+10</td>\n",
       "      <td>6.848000e+09</td>\n",
       "      <td>1.985000e+09</td>\n",
       "      <td>0.10102</td>\n",
       "      <td>80000000.0</td>\n",
       "      <td>529000000.0</td>\n",
       "      <td>1.353000e+09</td>\n",
       "      <td>41000000.0</td>\n",
       "    </tr>\n",
       "    <tr>\n",
       "      <th>1</th>\n",
       "      <td>AA</td>\n",
       "      <td>50.0</td>\n",
       "      <td>11</td>\n",
       "      <td>39.43</td>\n",
       "      <td>7.032538e+09</td>\n",
       "      <td>0.268</td>\n",
       "      <td>1</td>\n",
       "      <td>8.917258e+09</td>\n",
       "      <td>1.245100e+10</td>\n",
       "      <td>2.142000e+09</td>\n",
       "      <td>0.05931</td>\n",
       "      <td>-231000000.0</td>\n",
       "      <td>299000000.0</td>\n",
       "      <td>8.220000e+08</td>\n",
       "      <td>0.0</td>\n",
       "    </tr>\n",
       "    <tr>\n",
       "      <th>2</th>\n",
       "      <td>AAN</td>\n",
       "      <td>16.0</td>\n",
       "      <td>5</td>\n",
       "      <td>9.54</td>\n",
       "      <td>2.936460e+08</td>\n",
       "      <td>0.677</td>\n",
       "      <td>1</td>\n",
       "      <td>4.924443e+08</td>\n",
       "      <td>2.249434e+09</td>\n",
       "      <td>7.345500e+08</td>\n",
       "      <td>0.06360</td>\n",
       "      <td>0.0</td>\n",
       "      <td>403930000.0</td>\n",
       "      <td>1.704320e+08</td>\n",
       "      <td>0.0</td>\n",
       "    </tr>\n",
       "    <tr>\n",
       "      <th>3</th>\n",
       "      <td>AAOI</td>\n",
       "      <td>3.4</td>\n",
       "      <td>4</td>\n",
       "      <td>2.11</td>\n",
       "      <td>6.130162e+07</td>\n",
       "      <td>0.611</td>\n",
       "      <td>1</td>\n",
       "      <td>9.875690e+07</td>\n",
       "      <td>2.228180e+08</td>\n",
       "      <td>-3.543400e+07</td>\n",
       "      <td>-0.08548</td>\n",
       "      <td>24643000.0</td>\n",
       "      <td>11253000.0</td>\n",
       "      <td>-1.402200e+07</td>\n",
       "      <td>0.0</td>\n",
       "    </tr>\n",
       "    <tr>\n",
       "      <th>4</th>\n",
       "      <td>AAP</td>\n",
       "      <td>155.0</td>\n",
       "      <td>17</td>\n",
       "      <td>120.21</td>\n",
       "      <td>7.122887e+09</td>\n",
       "      <td>0.289</td>\n",
       "      <td>1</td>\n",
       "      <td>9.181402e+09</td>\n",
       "      <td>1.115472e+10</td>\n",
       "      <td>9.909550e+08</td>\n",
       "      <td>0.03891</td>\n",
       "      <td>0.0</td>\n",
       "      <td>156733000.0</td>\n",
       "      <td>7.222220e+08</td>\n",
       "      <td>0.0</td>\n",
       "    </tr>\n",
       "  </tbody>\n",
       "</table>\n",
       "</div>"
      ],
      "text/plain": [
       "  Ticker  AveragePriceTarget  NumRatings  ClosingPrice     MarketCap  \\\n",
       "0      A               166.5          14        138.09  4.088458e+10   \n",
       "1     AA                50.0          11         39.43  7.032538e+09   \n",
       "2    AAN                16.0           5          9.54  2.936460e+08   \n",
       "3   AAOI                 3.4           4          2.11  6.130162e+07   \n",
       "4    AAP               155.0          17        120.21  7.122887e+09   \n",
       "\n",
       "   ExpectedGrowthRate  OverallRecommendation  ProjectedMarketCap  \\\n",
       "0               0.206                      1        4.930681e+10   \n",
       "1               0.268                      1        8.917258e+09   \n",
       "2               0.677                      1        4.924443e+08   \n",
       "3               0.611                      1        9.875690e+07   \n",
       "4               0.289                      1        9.181402e+09   \n",
       "\n",
       "   TotalRevenue    NormEBITDA  ReturnOnAssets  ChangeNormEBITDA  \\\n",
       "0  6.848000e+09  1.985000e+09         0.10102        80000000.0   \n",
       "1  1.245100e+10  2.142000e+09         0.05931      -231000000.0   \n",
       "2  2.249434e+09  7.345500e+08         0.06360               0.0   \n",
       "3  2.228180e+08 -3.543400e+07        -0.08548        24643000.0   \n",
       "4  1.115472e+10  9.909550e+08         0.03891               0.0   \n",
       "\n",
       "   ChangeRevenue  OperatingCashFlow   ChangeOCF  \n",
       "0    529000000.0       1.353000e+09  41000000.0  \n",
       "1    299000000.0       8.220000e+08         0.0  \n",
       "2    403930000.0       1.704320e+08         0.0  \n",
       "3     11253000.0      -1.402200e+07         0.0  \n",
       "4    156733000.0       7.222220e+08         0.0  "
      ]
     },
     "execution_count": 139,
     "metadata": {},
     "output_type": "execute_result"
    }
   ],
   "source": [
    "# Reading in most recent data\n",
    "stock_data = pd.read_csv('data/WithCashFlowDataNoOutliers.csv')\n",
    "#stock_data.drop(['Index'], axis = 1, inplace = True)\n",
    "stock_data.dropna(inplace = True)\n",
    "stock_data.head()"
   ]
  },
  {
   "cell_type": "code",
   "execution_count": 140,
   "metadata": {},
   "outputs": [
    {
     "data": {
      "text/html": [
       "<div>\n",
       "<style scoped>\n",
       "    .dataframe tbody tr th:only-of-type {\n",
       "        vertical-align: middle;\n",
       "    }\n",
       "\n",
       "    .dataframe tbody tr th {\n",
       "        vertical-align: top;\n",
       "    }\n",
       "\n",
       "    .dataframe thead th {\n",
       "        text-align: right;\n",
       "    }\n",
       "</style>\n",
       "<table border=\"1\" class=\"dataframe\">\n",
       "  <thead>\n",
       "    <tr style=\"text-align: right;\">\n",
       "      <th></th>\n",
       "      <th>AveragePriceTarget</th>\n",
       "      <th>NumRatings</th>\n",
       "      <th>ClosingPrice</th>\n",
       "      <th>MarketCap</th>\n",
       "      <th>ExpectedGrowthRate</th>\n",
       "      <th>OverallRecommendation</th>\n",
       "      <th>ProjectedMarketCap</th>\n",
       "      <th>TotalRevenue</th>\n",
       "      <th>NormEBITDA</th>\n",
       "      <th>ReturnOnAssets</th>\n",
       "      <th>ChangeNormEBITDA</th>\n",
       "      <th>ChangeRevenue</th>\n",
       "      <th>OperatingCashFlow</th>\n",
       "      <th>ChangeOCF</th>\n",
       "    </tr>\n",
       "  </thead>\n",
       "  <tbody>\n",
       "    <tr>\n",
       "      <th>count</th>\n",
       "      <td>2136.000000</td>\n",
       "      <td>2136.000000</td>\n",
       "      <td>2136.000000</td>\n",
       "      <td>2.136000e+03</td>\n",
       "      <td>2136.000000</td>\n",
       "      <td>2136.000000</td>\n",
       "      <td>2.136000e+03</td>\n",
       "      <td>2.136000e+03</td>\n",
       "      <td>2.136000e+03</td>\n",
       "      <td>2136.000000</td>\n",
       "      <td>2.136000e+03</td>\n",
       "      <td>2.136000e+03</td>\n",
       "      <td>2.136000e+03</td>\n",
       "      <td>2.136000e+03</td>\n",
       "    </tr>\n",
       "    <tr>\n",
       "      <th>mean</th>\n",
       "      <td>68.737004</td>\n",
       "      <td>9.224719</td>\n",
       "      <td>57.130066</td>\n",
       "      <td>8.593780e+09</td>\n",
       "      <td>0.699404</td>\n",
       "      <td>0.806648</td>\n",
       "      <td>1.009959e+10</td>\n",
       "      <td>3.756765e+09</td>\n",
       "      <td>7.172493e+08</td>\n",
       "      <td>-0.043569</td>\n",
       "      <td>3.178887e+07</td>\n",
       "      <td>4.478589e+08</td>\n",
       "      <td>5.049861e+08</td>\n",
       "      <td>2.450304e+06</td>\n",
       "    </tr>\n",
       "    <tr>\n",
       "      <th>std</th>\n",
       "      <td>135.298078</td>\n",
       "      <td>4.647385</td>\n",
       "      <td>123.570656</td>\n",
       "      <td>1.785242e+10</td>\n",
       "      <td>1.155297</td>\n",
       "      <td>0.395019</td>\n",
       "      <td>1.992935e+10</td>\n",
       "      <td>7.018417e+09</td>\n",
       "      <td>1.436034e+09</td>\n",
       "      <td>0.199080</td>\n",
       "      <td>1.349144e+08</td>\n",
       "      <td>1.004820e+09</td>\n",
       "      <td>1.034982e+09</td>\n",
       "      <td>9.799373e+07</td>\n",
       "    </tr>\n",
       "    <tr>\n",
       "      <th>min</th>\n",
       "      <td>0.600000</td>\n",
       "      <td>4.000000</td>\n",
       "      <td>0.240000</td>\n",
       "      <td>2.822783e+07</td>\n",
       "      <td>-0.151000</td>\n",
       "      <td>0.000000</td>\n",
       "      <td>4.259801e+07</td>\n",
       "      <td>0.000000e+00</td>\n",
       "      <td>-9.360000e+08</td>\n",
       "      <td>-1.000000</td>\n",
       "      <td>-4.180000e+08</td>\n",
       "      <td>-1.514000e+09</td>\n",
       "      <td>-5.137450e+08</td>\n",
       "      <td>-1.710000e+09</td>\n",
       "    </tr>\n",
       "    <tr>\n",
       "      <th>25%</th>\n",
       "      <td>13.500000</td>\n",
       "      <td>5.000000</td>\n",
       "      <td>8.092500</td>\n",
       "      <td>6.621685e+08</td>\n",
       "      <td>0.132000</td>\n",
       "      <td>1.000000</td>\n",
       "      <td>1.143221e+09</td>\n",
       "      <td>2.161578e+08</td>\n",
       "      <td>-3.682400e+07</td>\n",
       "      <td>-0.096987</td>\n",
       "      <td>0.000000e+00</td>\n",
       "      <td>6.043031e+06</td>\n",
       "      <td>-2.850175e+07</td>\n",
       "      <td>0.000000e+00</td>\n",
       "    </tr>\n",
       "    <tr>\n",
       "      <th>50%</th>\n",
       "      <td>32.000000</td>\n",
       "      <td>8.000000</td>\n",
       "      <td>23.620000</td>\n",
       "      <td>2.354210e+09</td>\n",
       "      <td>0.286000</td>\n",
       "      <td>1.000000</td>\n",
       "      <td>3.160352e+09</td>\n",
       "      <td>1.036120e+09</td>\n",
       "      <td>1.823625e+08</td>\n",
       "      <td>0.022365</td>\n",
       "      <td>0.000000e+00</td>\n",
       "      <td>9.987600e+07</td>\n",
       "      <td>1.190055e+08</td>\n",
       "      <td>0.000000e+00</td>\n",
       "    </tr>\n",
       "    <tr>\n",
       "      <th>75%</th>\n",
       "      <td>78.000000</td>\n",
       "      <td>12.000000</td>\n",
       "      <td>64.187500</td>\n",
       "      <td>7.147960e+09</td>\n",
       "      <td>0.666250</td>\n",
       "      <td>1.000000</td>\n",
       "      <td>8.739960e+09</td>\n",
       "      <td>4.018505e+09</td>\n",
       "      <td>8.048250e+08</td>\n",
       "      <td>0.060735</td>\n",
       "      <td>7.383500e+06</td>\n",
       "      <td>4.685705e+08</td>\n",
       "      <td>5.648008e+08</td>\n",
       "      <td>0.000000e+00</td>\n",
       "    </tr>\n",
       "    <tr>\n",
       "      <th>max</th>\n",
       "      <td>2800.000000</td>\n",
       "      <td>20.000000</td>\n",
       "      <td>2615.600000</td>\n",
       "      <td>1.972006e+11</td>\n",
       "      <td>8.231000</td>\n",
       "      <td>1.000000</td>\n",
       "      <td>2.271751e+11</td>\n",
       "      <td>1.091200e+11</td>\n",
       "      <td>1.257500e+10</td>\n",
       "      <td>0.238460</td>\n",
       "      <td>1.309928e+09</td>\n",
       "      <td>8.335000e+09</td>\n",
       "      <td>7.762000e+09</td>\n",
       "      <td>2.518713e+09</td>\n",
       "    </tr>\n",
       "  </tbody>\n",
       "</table>\n",
       "</div>"
      ],
      "text/plain": [
       "       AveragePriceTarget   NumRatings  ClosingPrice     MarketCap  \\\n",
       "count         2136.000000  2136.000000   2136.000000  2.136000e+03   \n",
       "mean            68.737004     9.224719     57.130066  8.593780e+09   \n",
       "std            135.298078     4.647385    123.570656  1.785242e+10   \n",
       "min              0.600000     4.000000      0.240000  2.822783e+07   \n",
       "25%             13.500000     5.000000      8.092500  6.621685e+08   \n",
       "50%             32.000000     8.000000     23.620000  2.354210e+09   \n",
       "75%             78.000000    12.000000     64.187500  7.147960e+09   \n",
       "max           2800.000000    20.000000   2615.600000  1.972006e+11   \n",
       "\n",
       "       ExpectedGrowthRate  OverallRecommendation  ProjectedMarketCap  \\\n",
       "count         2136.000000            2136.000000        2.136000e+03   \n",
       "mean             0.699404               0.806648        1.009959e+10   \n",
       "std              1.155297               0.395019        1.992935e+10   \n",
       "min             -0.151000               0.000000        4.259801e+07   \n",
       "25%              0.132000               1.000000        1.143221e+09   \n",
       "50%              0.286000               1.000000        3.160352e+09   \n",
       "75%              0.666250               1.000000        8.739960e+09   \n",
       "max              8.231000               1.000000        2.271751e+11   \n",
       "\n",
       "       TotalRevenue    NormEBITDA  ReturnOnAssets  ChangeNormEBITDA  \\\n",
       "count  2.136000e+03  2.136000e+03     2136.000000      2.136000e+03   \n",
       "mean   3.756765e+09  7.172493e+08       -0.043569      3.178887e+07   \n",
       "std    7.018417e+09  1.436034e+09        0.199080      1.349144e+08   \n",
       "min    0.000000e+00 -9.360000e+08       -1.000000     -4.180000e+08   \n",
       "25%    2.161578e+08 -3.682400e+07       -0.096987      0.000000e+00   \n",
       "50%    1.036120e+09  1.823625e+08        0.022365      0.000000e+00   \n",
       "75%    4.018505e+09  8.048250e+08        0.060735      7.383500e+06   \n",
       "max    1.091200e+11  1.257500e+10        0.238460      1.309928e+09   \n",
       "\n",
       "       ChangeRevenue  OperatingCashFlow     ChangeOCF  \n",
       "count   2.136000e+03       2.136000e+03  2.136000e+03  \n",
       "mean    4.478589e+08       5.049861e+08  2.450304e+06  \n",
       "std     1.004820e+09       1.034982e+09  9.799373e+07  \n",
       "min    -1.514000e+09      -5.137450e+08 -1.710000e+09  \n",
       "25%     6.043031e+06      -2.850175e+07  0.000000e+00  \n",
       "50%     9.987600e+07       1.190055e+08  0.000000e+00  \n",
       "75%     4.685705e+08       5.648008e+08  0.000000e+00  \n",
       "max     8.335000e+09       7.762000e+09  2.518713e+09  "
      ]
     },
     "execution_count": 140,
     "metadata": {},
     "output_type": "execute_result"
    }
   ],
   "source": [
    "stock_data.describe()"
   ]
  },
  {
   "cell_type": "code",
   "execution_count": 141,
   "metadata": {},
   "outputs": [
    {
     "name": "stdout",
     "output_type": "stream",
     "text": [
      "<class 'pandas.core.frame.DataFrame'>\n",
      "RangeIndex: 2136 entries, 0 to 2135\n",
      "Data columns (total 15 columns):\n",
      " #   Column                 Non-Null Count  Dtype  \n",
      "---  ------                 --------------  -----  \n",
      " 0   Ticker                 2136 non-null   object \n",
      " 1   AveragePriceTarget     2136 non-null   float64\n",
      " 2   NumRatings             2136 non-null   int64  \n",
      " 3   ClosingPrice           2136 non-null   float64\n",
      " 4   MarketCap              2136 non-null   float64\n",
      " 5   ExpectedGrowthRate     2136 non-null   float64\n",
      " 6   OverallRecommendation  2136 non-null   int64  \n",
      " 7   ProjectedMarketCap     2136 non-null   float64\n",
      " 8   TotalRevenue           2136 non-null   float64\n",
      " 9   NormEBITDA             2136 non-null   float64\n",
      " 10  ReturnOnAssets         2136 non-null   float64\n",
      " 11  ChangeNormEBITDA       2136 non-null   float64\n",
      " 12  ChangeRevenue          2136 non-null   float64\n",
      " 13  OperatingCashFlow      2136 non-null   float64\n",
      " 14  ChangeOCF              2136 non-null   float64\n",
      "dtypes: float64(12), int64(2), object(1)\n",
      "memory usage: 250.4+ KB\n"
     ]
    }
   ],
   "source": [
    "stock_data.info()"
   ]
  },
  {
   "cell_type": "code",
   "execution_count": 142,
   "metadata": {},
   "outputs": [
    {
     "data": {
      "text/plain": [
       "1824    8.231\n",
       "423     8.130\n",
       "191     7.993\n",
       "1326    7.871\n",
       "1999    7.766\n",
       "        ...  \n",
       "428    -0.120\n",
       "1784   -0.127\n",
       "1902   -0.130\n",
       "449    -0.136\n",
       "610    -0.151\n",
       "Name: ExpectedGrowthRate, Length: 2136, dtype: float64"
      ]
     },
     "execution_count": 142,
     "metadata": {},
     "output_type": "execute_result"
    }
   ],
   "source": [
    "stock_data['ExpectedGrowthRate'].sort_values(ascending=False)"
   ]
  },
  {
   "attachments": {},
   "cell_type": "markdown",
   "metadata": {},
   "source": [
    "We're now ready to set up our first model"
   ]
  },
  {
   "attachments": {},
   "cell_type": "markdown",
   "metadata": {},
   "source": [
    "### Random Forest Classifier"
   ]
  },
  {
   "cell_type": "code",
   "execution_count": 143,
   "metadata": {},
   "outputs": [],
   "source": [
    "modeling_df = stock_data[['Ticker', 'TotalRevenue', 'NormEBITDA', 'ReturnOnAssets','ChangeNormEBITDA','ChangeRevenue','OperatingCashFlow','ChangeOCF','OverallRecommendation']]\n",
    "modeling_df.set_index('Ticker', inplace = True)"
   ]
  },
  {
   "cell_type": "code",
   "execution_count": 144,
   "metadata": {},
   "outputs": [],
   "source": [
    "X = modeling_df.drop(['OverallRecommendation'], axis = 1)\n",
    "y = modeling_df['OverallRecommendation']\n",
    "X_train, X_test, y_train, y_test = train_test_split(X, y, test_size= 0.3, random_state= 42)"
   ]
  },
  {
   "cell_type": "code",
   "execution_count": 145,
   "metadata": {},
   "outputs": [],
   "source": [
    "# Smote to address class imbalance\n",
    "smt = SMOTE(random_state = 42)\n",
    "# Scaling Data\n",
    "ss = StandardScaler()\n",
    "# Principal Component Analysis to address Multicolinearity\n",
    "#pca = PCA(n_components = 7)\n",
    "# Instantiate Model, Pipeline\n",
    "rfc = RandomForestClassifier(random_state = 42)\n",
    "rfc_pipeline = Pipeline([('smote', smt),('scaler', ss),('random_forest', rfc)])"
   ]
  },
  {
   "cell_type": "code",
   "execution_count": 146,
   "metadata": {},
   "outputs": [
    {
     "name": "stdout",
     "output_type": "stream",
     "text": [
      "0.7517041425458671\n"
     ]
    },
    {
     "data": {
      "text/plain": [
       "<sklearn.metrics._plot.confusion_matrix.ConfusionMatrixDisplay at 0x161efd0c280>"
      ]
     },
     "execution_count": 146,
     "metadata": {},
     "output_type": "execute_result"
    },
    {
     "data": {
      "image/png": "[encoded data removed]",
      "text/plain": [
       "<Figure size 640x480 with 2 Axes>"
      ]
     },
     "metadata": {},
     "output_type": "display_data"
    }
   ],
   "source": [
    "rfc_pipeline.fit(X_train, y_train)\n",
    "y_pred = rfc_pipeline.predict(X_test)\n",
    "f1 = f1_score(y_test, y_pred, average = 'weighted')\n",
    "print(f1)\n",
    "cm = confusion_matrix(y_true = y_test, y_pred = y_pred)\n",
    "ConfusionMatrixDisplay(cm, display_labels= ['Sell','Buy']).plot()"
   ]
  },
  {
   "attachments": {},
   "cell_type": "markdown",
   "metadata": {},
   "source": [
    "Hyper Parameter Tuning"
   ]
  },
  {
   "cell_type": "code",
   "execution_count": 147,
   "metadata": {},
   "outputs": [],
   "source": [
    "rfc_params = {'random_forest__max_depth': [5,10,15,20,25], 'random_forest__n_estimators': [45,50,55,60,65]}"
   ]
  },
  {
   "cell_type": "code",
   "execution_count": 148,
   "metadata": {},
   "outputs": [
    {
     "name": "stdout",
     "output_type": "stream",
     "text": [
      "Fitting 5 folds for each of 25 candidates, totalling 125 fits\n"
     ]
    },
    {
     "data": {
      "text/plain": [
       "GridSearchCV(cv=5,\n",
       "             estimator=Pipeline(steps=[('smote', SMOTE(random_state=42)),\n",
       "                                       ('scaler', StandardScaler()),\n",
       "                                       ('random_forest',\n",
       "                                        RandomForestClassifier(random_state=42))]),\n",
       "             param_grid={'random_forest__max_depth': [5, 10, 15, 20, 25],\n",
       "                         'random_forest__n_estimators': [45, 50, 55, 60, 65]},\n",
       "             scoring='f1', verbose=1)"
      ]
     },
     "execution_count": 148,
     "metadata": {},
     "output_type": "execute_result"
    }
   ],
   "source": [
    "gs = GridSearchCV(rfc_pipeline, rfc_params, cv = 5, scoring = 'f1', verbose = 1)\n",
    "gs.fit(X_train,y_train)"
   ]
  },
  {
   "cell_type": "code",
   "execution_count": 149,
   "metadata": {},
   "outputs": [
    {
     "data": {
      "text/plain": [
       "{'random_forest__max_depth': 15, 'random_forest__n_estimators': 55}"
      ]
     },
     "execution_count": 149,
     "metadata": {},
     "output_type": "execute_result"
    }
   ],
   "source": [
    "gs.best_params_"
   ]
  },
  {
   "cell_type": "code",
   "execution_count": 150,
   "metadata": {},
   "outputs": [
    {
     "data": {
      "text/plain": [
       "0.8148941209376341"
      ]
     },
     "execution_count": 150,
     "metadata": {},
     "output_type": "execute_result"
    }
   ],
   "source": [
    "gs.best_score_"
   ]
  },
  {
   "attachments": {},
   "cell_type": "markdown",
   "metadata": {},
   "source": [
    "Updating Parameters"
   ]
  },
  {
   "cell_type": "code",
   "execution_count": 151,
   "metadata": {},
   "outputs": [],
   "source": [
    "rfc = RandomForestClassifier(max_depth = 15, n_estimators = 55, random_state = 42)\n",
    "rfc_pipeline = Pipeline([('smote', smt),('scaler', ss),('random_forest', rfc)])"
   ]
  },
  {
   "cell_type": "code",
   "execution_count": 152,
   "metadata": {},
   "outputs": [
    {
     "name": "stdout",
     "output_type": "stream",
     "text": [
      "0.7576871752556052\n"
     ]
    },
    {
     "data": {
      "text/plain": [
       "<sklearn.metrics._plot.confusion_matrix.ConfusionMatrixDisplay at 0x161dee33850>"
      ]
     },
     "execution_count": 152,
     "metadata": {},
     "output_type": "execute_result"
    },
    {
     "data": {
      "image/png": "[encoded data removed]",
      "text/plain": [
       "<Figure size 640x480 with 2 Axes>"
      ]
     },
     "metadata": {},
     "output_type": "display_data"
    }
   ],
   "source": [
    "rfc_pipeline.fit(X_train, y_train)\n",
    "y_pred = rfc_pipeline.predict(X_test)\n",
    "f1 = f1_score(y_test, y_pred, average = 'weighted')\n",
    "print(f1)\n",
    "cm = confusion_matrix(y_true = y_test, y_pred = y_pred)\n",
    "ConfusionMatrixDisplay(cm, display_labels= ['Sell','Buy']).plot()"
   ]
  },
  {
   "attachments": {},
   "cell_type": "markdown",
   "metadata": {},
   "source": [
    "### Convolutional Neural Network"
   ]
  },
  {
   "attachments": {},
   "cell_type": "markdown",
   "metadata": {},
   "source": [
    "Preprocessing Data"
   ]
  },
  {
   "cell_type": "code",
   "execution_count": 153,
   "metadata": {},
   "outputs": [],
   "source": [
    "X_train, X_test, y_train, y_test = train_test_split(X, y, test_size= 0.4, random_state= 42)"
   ]
  },
  {
   "cell_type": "code",
   "execution_count": 154,
   "metadata": {},
   "outputs": [
    {
     "name": "stderr",
     "output_type": "stream",
     "text": [
      "c:\\Users\\cnade\\anaconda3\\lib\\site-packages\\sklearn\\base.py:450: UserWarning: X does not have valid feature names, but PCA was fitted with feature names\n",
      "  warnings.warn(\n"
     ]
    }
   ],
   "source": [
    "# Preparing Data\n",
    "scaler = StandardScaler()\n",
    "X_train_scaled = scaler.fit_transform(X_train)\n",
    "X_test_scaled = scaler.transform(X_test)\n",
    "\n",
    "# SMOTE\n",
    "smt = SMOTE(random_state=42)\n",
    "X_train_resampled, y_train_resampled = smt.fit_resample(X_train, y_train)\n",
    "\n",
    "# PCA\n",
    "pca = PCA(n_components = 5)\n",
    "X_train_ready = pca.fit_transform(X_train_resampled)\n",
    "X_test_ready = pca.transform(X_test_scaled)\n",
    "\n",
    "# Reshaping Data\n",
    "X_train_ready = X_train_resampled.values.reshape(X_train_resampled.shape[0], X_train_resampled.shape[1], 1)\n",
    "X_test_ready = X_test_scaled.reshape(X_test_scaled.shape[0], X_test_scaled.shape[1], 1)\n",
    "\n",
    "# Map labels to non-negative integers\n",
    "# Encode labels\n",
    "y_train_encoded = to_categorical(y_train_resampled)\n",
    "y_test_encoded = to_categorical(y_test)"
   ]
  },
  {
   "cell_type": "code",
   "execution_count": 155,
   "metadata": {},
   "outputs": [
    {
     "data": {
      "text/plain": [
       "(855, 7, 1)"
      ]
     },
     "execution_count": 155,
     "metadata": {},
     "output_type": "execute_result"
    }
   ],
   "source": [
    "X_test_ready.shape"
   ]
  },
  {
   "cell_type": "code",
   "execution_count": 156,
   "metadata": {},
   "outputs": [],
   "source": [
    "# Creating F1 Score\n",
    "def recall_m(y_true, y_pred):\n",
    "    true_positives = K.sum(K.round(K.clip(y_true * y_pred, 0, 1)))\n",
    "    possible_positives = K.sum(K.round(K.clip(y_true, 0, 1)))\n",
    "    recall = true_positives / (possible_positives + K.epsilon())\n",
    "    return recall\n",
    "\n",
    "def precision_m(y_true, y_pred):\n",
    "    true_positives = K.sum(K.round(K.clip(y_true * y_pred, 0, 1)))\n",
    "    predicted_positives = K.sum(K.round(K.clip(y_pred, 0, 1)))\n",
    "    precision = true_positives / (predicted_positives + K.epsilon())\n",
    "    return precision\n",
    "\n",
    "def f1_m(y_true, y_pred):\n",
    "    precision = precision_m(y_true, y_pred)\n",
    "    recall = recall_m(y_true, y_pred)\n",
    "    return 2*((precision*recall)/(precision+recall+K.epsilon()))"
   ]
  },
  {
   "cell_type": "code",
   "execution_count": 157,
   "metadata": {},
   "outputs": [],
   "source": [
    "# Creating Neural Network Function\n",
    "def create_classification_model(dropout_rate=0.2, l2_weight=0.001, batch_size=32, epochs=10):\n",
    "    model = Sequential()\n",
    "    model.add(Conv1D(32, kernel_size=3, activation='relu', input_shape=(X_train_ready.shape[1],1), kernel_regularizer=l2(l2_weight)))\n",
    "    model.add(Dropout(dropout_rate))\n",
    "    model.add(Flatten())\n",
    "    model.add(Dense(128, activation='relu', kernel_regularizer=l2(l2_weight)))\n",
    "    model.add(Dropout(dropout_rate))\n",
    "    model.add(Dense(2, activation='softmax', kernel_regularizer=l2(l2_weight)))\n",
    "    model.compile(loss='binary_crossentropy', optimizer='adam', metrics=[f1_m])\n",
    "    return model"
   ]
  },
  {
   "cell_type": "code",
   "execution_count": 158,
   "metadata": {},
   "outputs": [
    {
     "name": "stdout",
     "output_type": "stream",
     "text": [
      "Epoch 1/10\n",
      "64/64 [==============================] - 2s 9ms/step - loss: 63190760.0000 - f1_m: 0.5774 - val_loss: 0.8010 - val_f1_m: 0.8306\n",
      "Epoch 2/10\n",
      "64/64 [==============================] - 0s 5ms/step - loss: 33740136.0000 - f1_m: 0.5860 - val_loss: 0.7906 - val_f1_m: 0.8295\n",
      "Epoch 3/10\n",
      "64/64 [==============================] - 0s 4ms/step - loss: 20765974.0000 - f1_m: 0.5750 - val_loss: 0.7902 - val_f1_m: 0.8295\n",
      "Epoch 4/10\n",
      "64/64 [==============================] - 0s 4ms/step - loss: 14088094.0000 - f1_m: 0.6009 - val_loss: 0.7851 - val_f1_m: 0.8295\n",
      "Epoch 5/10\n",
      "64/64 [==============================] - 0s 4ms/step - loss: 8591151.0000 - f1_m: 0.6073 - val_loss: 0.7896 - val_f1_m: 0.8295\n",
      "Epoch 6/10\n",
      "64/64 [==============================] - 0s 5ms/step - loss: 4742566.5000 - f1_m: 0.5885 - val_loss: 0.7950 - val_f1_m: 0.8295\n",
      "Epoch 7/10\n",
      "64/64 [==============================] - 0s 4ms/step - loss: 3601231.0000 - f1_m: 0.5840 - val_loss: 0.7908 - val_f1_m: 0.8295\n",
      "Epoch 8/10\n",
      "64/64 [==============================] - 0s 4ms/step - loss: 1637184.3750 - f1_m: 0.5685 - val_loss: 0.7946 - val_f1_m: 0.8295\n",
      "Epoch 9/10\n",
      "64/64 [==============================] - 0s 4ms/step - loss: 1366361.0000 - f1_m: 0.5587 - val_loss: 0.7975 - val_f1_m: 0.8295\n",
      "Epoch 10/10\n",
      "64/64 [==============================] - 0s 4ms/step - loss: 728765.3125 - f1_m: 0.5357 - val_loss: 0.8001 - val_f1_m: 0.8295\n"
     ]
    },
    {
     "data": {
      "text/plain": [
       "<keras.callbacks.History at 0x161efe86760>"
      ]
     },
     "execution_count": 158,
     "metadata": {},
     "output_type": "execute_result"
    }
   ],
   "source": [
    "model = create_classification_model()\n",
    "model.fit(X_train_ready, y_train_encoded, epochs=10, validation_data=(X_test_ready, y_test_encoded))"
   ]
  },
  {
   "attachments": {},
   "cell_type": "markdown",
   "metadata": {},
   "source": [
    "## Modeling for Expected Growth Rate"
   ]
  },
  {
   "cell_type": "code",
   "execution_count": 192,
   "metadata": {},
   "outputs": [],
   "source": [
    "modeling_growth_df = stock_data[['Ticker', 'TotalRevenue', 'NormEBITDA', 'ReturnOnAssets','ChangeNormEBITDA','ChangeRevenue','OperatingCashFlow','ChangeOCF','ExpectedGrowthRate']]\n",
    "modeling_growth_df.set_index('Ticker', inplace = True)"
   ]
  },
  {
   "cell_type": "code",
   "execution_count": 193,
   "metadata": {},
   "outputs": [],
   "source": [
    "X = modeling_growth_df.drop(['ExpectedGrowthRate'], axis = 1)\n",
    "y = modeling_growth_df['ExpectedGrowthRate']\n",
    "X_train, X_test, y_train, y_test = train_test_split(X, y, test_size= 0.25, random_state= 42)"
   ]
  },
  {
   "attachments": {},
   "cell_type": "markdown",
   "metadata": {},
   "source": [
    "#### Linear Regression Baseline Model"
   ]
  },
  {
   "cell_type": "code",
   "execution_count": 194,
   "metadata": {},
   "outputs": [
    {
     "name": "stdout",
     "output_type": "stream",
     "text": [
      "Root mean squared error: 1.058318200656627\n"
     ]
    }
   ],
   "source": [
    "linreg_pipeline = Pipeline([\n",
    "    ('scaler', StandardScaler()),\n",
    "    ('regressor', LinearRegression())\n",
    "])\n",
    "\n",
    "# Fit pipeline to training data\n",
    "linreg_pipeline.fit(X_train, y_train)\n",
    "\n",
    "# Evaluate pipeline on testing data\n",
    "y_pred = linreg_pipeline.predict(X_test)\n",
    "mse = mean_squared_error(y_test, y_pred)\n",
    "rmse = np.sqrt(mse)\n",
    "print('Root mean squared error:', rmse)"
   ]
  },
  {
   "cell_type": "code",
   "execution_count": 195,
   "metadata": {},
   "outputs": [],
   "source": [
    "y_pred_mapped = np.where(y_pred < 0.1, 0, 1)\n",
    "y_test_mapped = np.where(y_test < 0.1, 0, 1)"
   ]
  },
  {
   "cell_type": "code",
   "execution_count": 196,
   "metadata": {},
   "outputs": [
    {
     "data": {
      "image/png": "[encoded data removed]",
      "text/plain": [
       "<Figure size 640x480 with 1 Axes>"
      ]
     },
     "metadata": {},
     "output_type": "display_data"
    }
   ],
   "source": [
    "import matplotlib.pyplot as plt\n",
    "plt.scatter(y_test, y_pred)\n",
    "plt.xlabel('Actual Expected Growth Rate')\n",
    "plt.ylabel('Predicted Expected Growth Rate')\n",
    "plt.title('Actual vs Predicted Growth Rates')\n",
    "plt.show()"
   ]
  },
  {
   "cell_type": "code",
   "execution_count": 197,
   "metadata": {},
   "outputs": [
    {
     "name": "stdout",
     "output_type": "stream",
     "text": [
      "0.8972746331236897\n"
     ]
    },
    {
     "data": {
      "text/plain": [
       "<sklearn.metrics._plot.confusion_matrix.ConfusionMatrixDisplay at 0x161f3481520>"
      ]
     },
     "execution_count": 197,
     "metadata": {},
     "output_type": "execute_result"
    },
    {
     "data": {
      "image/png": "[encoded data removed]",
      "text/plain": [
       "<Figure size 640x480 with 2 Axes>"
      ]
     },
     "metadata": {},
     "output_type": "display_data"
    }
   ],
   "source": [
    "print(f1_score(y_test_mapped, y_pred_mapped))\n",
    "cm = confusion_matrix(y_true = y_test_mapped, y_pred = y_pred_mapped)\n",
    "ConfusionMatrixDisplay(cm, display_labels= ['Sell','Buy']).plot()"
   ]
  },
  {
   "attachments": {},
   "cell_type": "markdown",
   "metadata": {},
   "source": [
    "### Neural Network P2- A Feedforward Neural Network"
   ]
  },
  {
   "cell_type": "code",
   "execution_count": 198,
   "metadata": {},
   "outputs": [],
   "source": [
    "# Preparing Data\n",
    "scaler = StandardScaler()\n",
    "X_train_scaled = scaler.fit_transform(X_train)\n",
    "X_test_scaled = scaler.transform(X_test)\n",
    "\n",
    "# Reshaping Data\n",
    "X_train_ready = X_train_scaled.reshape(X_train_scaled.shape[0], X_train_scaled.shape[1], 1)\n",
    "X_test_ready = X_test_scaled.reshape(X_test_scaled.shape[0], X_test_scaled.shape[1], 1)"
   ]
  },
  {
   "cell_type": "code",
   "execution_count": 199,
   "metadata": {},
   "outputs": [],
   "source": [
    "def create_continuous_model(dropout_rate=0.2, l2_weight=0.001, batch_size=32, epochs=10):\n",
    "    model = Sequential()\n",
    "    model.add(Conv1D(32, kernel_size=3, activation='relu', input_shape=(X_train_ready.shape[1],1), kernel_regularizer=l2(l2_weight)))\n",
    "    model.add(Dropout(dropout_rate))\n",
    "    model.add(Flatten())\n",
    "    model.add(Dense(128, activation='relu', kernel_regularizer=l2(l2_weight)))\n",
    "    model.add(Dropout(dropout_rate))\n",
    "    model.add(Dense(1, activation='linear', kernel_regularizer=l2(l2_weight)))\n",
    "    model.compile(loss='mean_squared_error', optimizer='adam', metrics=['mse'])\n",
    "    return model"
   ]
  },
  {
   "cell_type": "code",
   "execution_count": 200,
   "metadata": {},
   "outputs": [
    {
     "name": "stdout",
     "output_type": "stream",
     "text": [
      "Epoch 1/20\n",
      "51/51 [==============================] - 1s 7ms/step - loss: 1.3570 - mse: 1.2190 - val_loss: 1.1444 - val_mse: 1.0135\n",
      "Epoch 2/20\n",
      "51/51 [==============================] - 0s 4ms/step - loss: 1.0588 - mse: 0.9334 - val_loss: 1.0644 - val_mse: 0.9441\n",
      "Epoch 3/20\n",
      "51/51 [==============================] - 0s 4ms/step - loss: 1.0204 - mse: 0.9042 - val_loss: 0.9977 - val_mse: 0.8858\n",
      "Epoch 4/20\n",
      "51/51 [==============================] - 0s 4ms/step - loss: 1.0007 - mse: 0.8922 - val_loss: 1.0402 - val_mse: 0.9346\n",
      "Epoch 5/20\n",
      "51/51 [==============================] - 0s 3ms/step - loss: 0.9932 - mse: 0.8905 - val_loss: 0.9729 - val_mse: 0.8733\n",
      "Epoch 6/20\n",
      "51/51 [==============================] - 0s 4ms/step - loss: 0.9597 - mse: 0.8627 - val_loss: 0.9669 - val_mse: 0.8725\n",
      "Epoch 7/20\n",
      "51/51 [==============================] - 0s 4ms/step - loss: 0.9539 - mse: 0.8617 - val_loss: 1.0012 - val_mse: 0.9115\n",
      "Epoch 8/20\n",
      "51/51 [==============================] - 0s 3ms/step - loss: 0.9237 - mse: 0.8358 - val_loss: 0.9542 - val_mse: 0.8686\n",
      "Epoch 9/20\n",
      "51/51 [==============================] - 0s 4ms/step - loss: 0.9248 - mse: 0.8411 - val_loss: 1.0566 - val_mse: 0.9744\n",
      "Epoch 10/20\n",
      "51/51 [==============================] - 0s 4ms/step - loss: 0.9312 - mse: 0.8506 - val_loss: 0.9629 - val_mse: 0.8843\n",
      "Epoch 11/20\n",
      "51/51 [==============================] - 0s 4ms/step - loss: 0.9021 - mse: 0.8250 - val_loss: 0.9727 - val_mse: 0.8970\n",
      "Epoch 12/20\n",
      "51/51 [==============================] - 0s 4ms/step - loss: 0.9333 - mse: 0.8590 - val_loss: 0.9584 - val_mse: 0.8855\n",
      "Epoch 13/20\n",
      "51/51 [==============================] - 0s 4ms/step - loss: 0.9079 - mse: 0.8363 - val_loss: 0.9461 - val_mse: 0.8761\n",
      "Epoch 14/20\n",
      "51/51 [==============================] - 0s 4ms/step - loss: 0.8872 - mse: 0.8186 - val_loss: 0.9512 - val_mse: 0.8838\n",
      "Epoch 15/20\n",
      "51/51 [==============================] - 0s 4ms/step - loss: 0.8834 - mse: 0.8173 - val_loss: 0.9338 - val_mse: 0.8687\n",
      "Epoch 16/20\n",
      "51/51 [==============================] - 0s 4ms/step - loss: 0.9016 - mse: 0.8377 - val_loss: 0.9537 - val_mse: 0.8910\n",
      "Epoch 17/20\n",
      "51/51 [==============================] - 0s 4ms/step - loss: 0.8965 - mse: 0.8344 - val_loss: 0.9157 - val_mse: 0.8549\n",
      "Epoch 18/20\n",
      "51/51 [==============================] - 0s 4ms/step - loss: 0.8911 - mse: 0.8313 - val_loss: 0.9288 - val_mse: 0.8699\n",
      "Epoch 19/20\n",
      "51/51 [==============================] - 0s 3ms/step - loss: 0.8682 - mse: 0.8100 - val_loss: 0.9188 - val_mse: 0.8617\n",
      "Epoch 20/20\n",
      "51/51 [==============================] - 0s 3ms/step - loss: 0.8879 - mse: 0.8313 - val_loss: 0.9259 - val_mse: 0.8703\n"
     ]
    },
    {
     "data": {
      "text/plain": [
       "<keras.callbacks.History at 0x161f498a4f0>"
      ]
     },
     "execution_count": 200,
     "metadata": {},
     "output_type": "execute_result"
    }
   ],
   "source": [
    "model = create_continuous_model()\n",
    "model.fit(X_train_ready, y_train, epochs = 20, batch_size = 32, validation_data=[X_test_ready, y_test])"
   ]
  },
  {
   "cell_type": "code",
   "execution_count": 201,
   "metadata": {},
   "outputs": [
    {
     "name": "stdout",
     "output_type": "stream",
     "text": [
      "51/51 [==============================] - 0s 1ms/step\n"
     ]
    }
   ],
   "source": [
    "y_pred = model.predict(X_train_ready)"
   ]
  },
  {
   "cell_type": "code",
   "execution_count": 202,
   "metadata": {},
   "outputs": [],
   "source": [
    "y_pred = pd.Series(y_pred.flatten())"
   ]
  },
  {
   "cell_type": "code",
   "execution_count": 203,
   "metadata": {},
   "outputs": [
    {
     "data": {
      "image/png": "[encoded data removed]",
      "text/plain": [
       "<Figure size 640x480 with 1 Axes>"
      ]
     },
     "metadata": {},
     "output_type": "display_data"
    }
   ],
   "source": [
    "import matplotlib.pyplot as plt\n",
    "plt.scatter(y_train, y_pred)\n",
    "plt.xlabel('Actual Expected Growth Rate')\n",
    "plt.ylabel('Predicted Expected Growth Rate')\n",
    "plt.title('Actual vs Predicted Growth Rates')\n",
    "plt.show()"
   ]
  },
  {
   "cell_type": "code",
   "execution_count": 204,
   "metadata": {},
   "outputs": [],
   "source": [
    "y_pred_mapped = np.where(y_pred < 0.1, 0, 1)\n",
    "y_train_mapped = np.where(y_train < 0.1, 0, 1)"
   ]
  },
  {
   "cell_type": "code",
   "execution_count": 205,
   "metadata": {},
   "outputs": [
    {
     "name": "stdout",
     "output_type": "stream",
     "text": [
      "0.8883461270062805\n"
     ]
    },
    {
     "data": {
      "text/plain": [
       "<sklearn.metrics._plot.confusion_matrix.ConfusionMatrixDisplay at 0x161efe969a0>"
      ]
     },
     "execution_count": 205,
     "metadata": {},
     "output_type": "execute_result"
    },
    {
     "data": {
      "image/png": "[encoded data removed]",
      "text/plain": [
       "<Figure size 640x480 with 2 Axes>"
      ]
     },
     "metadata": {},
     "output_type": "display_data"
    }
   ],
   "source": [
    "print(f1_score(y_train_mapped, y_pred_mapped))\n",
    "cm = confusion_matrix(y_true = y_train_mapped, y_pred = y_pred_mapped)\n",
    "ConfusionMatrixDisplay(cm, display_labels= ['Sell','Buy']).plot()"
   ]
  },
  {
   "cell_type": "code",
   "execution_count": 183,
   "metadata": {},
   "outputs": [
    {
     "data": {
      "text/plain": [
       "array([[  2,  84],\n",
       "       [  6, 442]], dtype=int64)"
      ]
     },
     "execution_count": 183,
     "metadata": {},
     "output_type": "execute_result"
    }
   ],
   "source": [
    "cm"
   ]
  },
  {
   "cell_type": "code",
   "execution_count": null,
   "metadata": {},
   "outputs": [],
   "source": [
    "f1_score()"
   ]
  }
 ],
 "metadata": {
  "kernelspec": {
   "display_name": "learn-env",
   "language": "python",
   "name": "python3"
  },
  "language_info": {
   "codemirror_mode": {
    "name": "ipython",
    "version": 3
   },
   "file_extension": ".py",
   "mimetype": "text/x-python",
   "name": "python",
   "nbconvert_exporter": "python",
   "pygments_lexer": "ipython3",
   "version": "3.9.13"
  },
  "orig_nbformat": 4
 },
 "nbformat": 4,
 "nbformat_minor": 2
}
